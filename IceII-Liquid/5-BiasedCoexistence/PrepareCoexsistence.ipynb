{
 "cells": [
  {
   "cell_type": "markdown",
   "id": "b9f240a2",
   "metadata": {},
   "source": [
    "# Preparation of biased coexsistence simulations"
   ]
  },
  {
   "cell_type": "code",
   "execution_count": 1,
   "id": "fb21dd18",
   "metadata": {},
   "outputs": [],
   "source": [
    "import numpy as np, sys, os, glob\n",
    "import matplotlib.pylab as plt\n",
    "import MDAnalysis"
   ]
  },
  {
   "cell_type": "code",
   "execution_count": 4,
   "id": "99754d4d",
   "metadata": {},
   "outputs": [],
   "source": [
    "standard_sim=os.path.abspath('template/')\n",
    "\n",
    "press_box = np.genfromtxt('../4-PrepareCoexistenceConfiguration/BulkBox/avg_IceII_box.dat')\n",
    "presures=np.unique(press_box[:,0])"
   ]
  },
  {
   "cell_type": "code",
   "execution_count": 5,
   "id": "9fb55539",
   "metadata": {},
   "outputs": [
    {
     "name": "stdout",
     "output_type": "stream",
     "text": [
      "before [ 47.062523  23.371206  30.73676   68.70359  134.0928   113.100006]\n",
      "after [ 47.062523  23.491     30.894     68.79     134.21     113.15    ]\n",
      "before [ 47.062523  23.371206  30.73676   68.70359  134.0928   113.100006]\n",
      "after [ 47.062523  23.518     30.931     68.784    134.21     113.15    ]\n",
      "before [ 47.062523  23.371206  30.73676   68.70359  134.0928   113.100006]\n",
      "after [ 47.062523  23.529     30.944     68.786    134.21     113.15    ]\n",
      "before [ 47.062523  23.371206  30.73676   68.70359  134.0928   113.100006]\n",
      "after [ 47.062523  23.496     30.904     68.789    134.22     113.15    ]\n",
      "before [ 47.062523  23.371206  30.73676   68.70359  134.0928   113.100006]\n",
      "after [ 47.062523  23.509     30.919     68.788    134.22     113.14    ]\n",
      "before [ 47.062523  23.371206  30.73676   68.70359  134.0928   113.100006]\n",
      "after [ 47.062523  23.469     30.862     68.801    134.27     113.16    ]\n",
      "before [ 47.062523  23.371206  30.73676   68.70359  134.0928   113.100006]\n",
      "after [ 47.062523  23.488     30.884     68.797    134.26     113.16    ]\n",
      "before [ 47.062523  23.371206  30.73676   68.70359  134.0928   113.100006]\n",
      "after [ 47.062523  23.462     30.847     68.802    134.27     113.16    ]\n",
      "before [ 47.062523  23.371206  30.73676   68.70359  134.0928   113.100006]\n",
      "after [ 47.062523  23.48      30.871     68.801    134.27     113.16    ]\n",
      "before [ 47.062523  23.371206  30.73676   68.70359  134.0928   113.100006]\n",
      "after [ 47.062523  23.499     30.897     68.801    134.26     113.16    ]\n",
      "before [ 47.062523  23.371206  30.73676   68.70359  134.0928   113.100006]\n",
      "after [ 47.062523  23.459     30.841     68.813    134.31     113.18    ]\n",
      "before [ 47.062523  23.371206  30.73676   68.70359  134.0928   113.100006]\n",
      "after [ 47.062523  23.444     30.817     68.813    134.32     113.18    ]\n",
      "before [ 47.062523  23.371206  30.73676   68.70359  134.0928   113.100006]\n",
      "after [ 47.062523  23.47      30.85      68.811    134.32     113.18    ]\n",
      "before [ 47.062523  23.371206  30.73676   68.70359  134.0928   113.100006]\n",
      "after [ 47.062523  23.451     30.827     68.813    134.31     113.18    ]\n",
      "before [ 47.062523  23.371206  30.73676   68.70359  134.0928   113.100006]\n",
      "after [ 47.062523  23.436     30.807     68.81     134.32     113.18    ]\n"
     ]
    }
   ],
   "source": [
    "sims = dict()\n",
    "for a in press_box[:]:\n",
    "    fold='COEX_{}atm/{}K/'.format(a[0],a[1])\n",
    "    os.system('mkdir -p {}'.format(fold))\n",
    "    os.system('cp {}/* {}'.format(standard_sim,fold))\n",
    "    sims[fold] = dict()\n",
    "    p=a[0]\n",
    "    t=a[1]\n",
    "    cmd='sed -i   \"s#variable .* pressure .*#variable        pressure equal {}#g\" {}/in.pressure\\n'.format(p,fold)\n",
    "    cmd+='sed -i  \\\"s#variable.*temperature.*#variable        temperature equal {}#g\\\" {}/in.temp\\n'.format(t,fold)\n",
    "    cmd+='sed -i  \\\"s#REPLACE_TEMP#{}#g\\\" {}/plumed*.dat'.format(t,fold)\n",
    "    os.system(cmd)\n",
    "    u = MDAnalysis.Universe('template/water.data', in_memory=True)\n",
    "    print('before',u.dimensions)\n",
    "    dimensions_new=a[2:]\n",
    "    max_l=np.max(u.dimensions[:3])\n",
    "    max_dim=np.where(u.dimensions==max_l)[0][0]\n",
    "    dimensions_new[max_dim]=u.dimensions[max_dim]\n",
    "    for dim in range(3):\n",
    "        if not dim==max_dim:\n",
    "            u.coord.positions[:,dim] = u.coord.positions[:,dim]*dimensions_new[dim]/u.dimensions[dim]\n",
    "    u.dimensions=dimensions_new\n",
    "    print('after',u.dimensions)\n",
    "\n",
    "    u.atoms.write(fold+'/water.data')"
   ]
  },
  {
   "cell_type": "markdown",
   "id": "9b4b8215",
   "metadata": {},
   "source": [
    "### Convert notebook to python script"
   ]
  },
  {
   "cell_type": "code",
   "execution_count": 15,
   "id": "56fda0cc",
   "metadata": {
    "scrolled": false
   },
   "outputs": [
    {
     "name": "stdout",
     "output_type": "stream",
     "text": [
      "[NbConvertApp] Converting notebook Prepare_coexsistence2.ipynb to script\n",
      "[NbConvertApp] Writing 1818 bytes to Prepare_coexsistence2.py\n"
     ]
    }
   ],
   "source": [
    "!jupyter nbconvert --to script Prepare_coexsistence2.ipynb"
   ]
  }
 ],
 "metadata": {
  "kernelspec": {
   "display_name": "Python 3 (ipykernel)",
   "language": "python",
   "name": "python3"
  },
  "language_info": {
   "codemirror_mode": {
    "name": "ipython",
    "version": 3
   },
   "file_extension": ".py",
   "mimetype": "text/x-python",
   "name": "python",
   "nbconvert_exporter": "python",
   "pygments_lexer": "ipython3",
   "version": "3.9.6"
  }
 },
 "nbformat": 4,
 "nbformat_minor": 5
}

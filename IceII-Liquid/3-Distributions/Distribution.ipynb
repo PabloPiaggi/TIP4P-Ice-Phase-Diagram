{
 "cells": [
  {
   "cell_type": "markdown",
   "id": "5f7d8e53",
   "metadata": {},
   "source": [
    "# Distribution of order parameter"
   ]
  },
  {
   "cell_type": "code",
   "execution_count": 6,
   "id": "f139f7aa",
   "metadata": {
    "scrolled": true
   },
   "outputs": [
    {
     "name": "stderr",
     "output_type": "stream",
     "text": [
      "/var/folders/gk/bdqkskqj2fv8dk9kgrxm5psh0000gn/T/ipykernel_28762/1921103273.py:4: DeprecationWarning: `set_matplotlib_formats` is deprecated since IPython 7.23, directly use `matplotlib_inline.backend_inline.set_matplotlib_formats()`\n",
      "  set_matplotlib_formats('retina')\n"
     ]
    }
   ],
   "source": [
    "import numpy as np, glob\n",
    "import matplotlib.pylab as plt\n",
    "from IPython.display import set_matplotlib_formats\n",
    "set_matplotlib_formats('retina')\n",
    "import glob"
   ]
  },
  {
   "cell_type": "code",
   "execution_count": 7,
   "id": "018810f9",
   "metadata": {},
   "outputs": [],
   "source": [
    "ice='IceII_2000atm/'\n",
    "liquid='Liquid_2000atm/'"
   ]
  },
  {
   "cell_type": "markdown",
   "id": "ac8ec9b4",
   "metadata": {},
   "source": [
    "### Overlap between distributions"
   ]
  },
  {
   "cell_type": "code",
   "execution_count": 8,
   "id": "46446eaf",
   "metadata": {},
   "outputs": [
    {
     "data": {
      "image/png": "[encoded data removed]",
      "text/plain": [
       "<Figure size 244.8x144 with 1 Axes>"
      ]
     },
     "metadata": {
      "image/png": {
       "height": 135,
       "width": 237
      },
      "needs_background": "light"
     },
     "output_type": "display_data"
    }
   ],
   "source": [
    "data=np.loadtxt('overlap_1000atm.dat')\n",
    "\n",
    "plt.figure(figsize=(3.4,2))\n",
    "plt.plot(data[:,0],data[:,1])\n",
    "plt.xlabel(r'$\\sigma$')\n",
    "plt.ylabel('Overlap')\n",
    "plt.tight_layout()"
   ]
  },
  {
   "cell_type": "code",
   "execution_count": 9,
   "id": "383dae69",
   "metadata": {},
   "outputs": [
    {
     "name": "stdout",
     "output_type": "stream",
     "text": [
      "Minimum overlap for sigma = 0.0775\n"
     ]
    }
   ],
   "source": [
    "sigma_min=data[data[:,1]==min(data[:,1])][0][0]\n",
    "print('Minimum overlap for sigma = {}'.format(sigma_min))"
   ]
  },
  {
   "cell_type": "markdown",
   "id": "a9a2c124",
   "metadata": {},
   "source": [
    "### Distributions"
   ]
  },
  {
   "cell_type": "code",
   "execution_count": 10,
   "id": "63da88c3",
   "metadata": {},
   "outputs": [],
   "source": [
    "hist_liquid = np.loadtxt(liquid+'/Histo_{}'.format(sigma_min))\n",
    "hist_ice = np.loadtxt(ice+'/Histo_{}'.format(sigma_min))\n"
   ]
  },
  {
   "cell_type": "code",
   "execution_count": 11,
   "id": "2f45622f",
   "metadata": {
    "scrolled": false
   },
   "outputs": [
    {
     "data": {
      "text/plain": [
       "<matplotlib.lines.Line2D at 0x110bd34c0>"
      ]
     },
     "execution_count": 11,
     "metadata": {},
     "output_type": "execute_result"
    },
    {
     "data": {
      "image/png": "[encoded data removed]",
      "text/plain": [
       "<Figure size 244.8x144 with 1 Axes>"
      ]
     },
     "metadata": {
      "image/png": {
       "height": 139,
       "width": 223
      },
      "needs_background": "light"
     },
     "output_type": "display_data"
    }
   ],
   "source": [
    "plt.figure(figsize=(3.4,2))\n",
    "plt.plot(hist_ice[:,0],hist_ice[:,1])\n",
    "plt.plot(hist_liquid[:,0],hist_liquid[:,1])\n",
    "plt.xlim([0.3,1.3])\n",
    "plt.annotate(r'$\\sigma={}$'.format(sigma_min),(0.4,10))\n",
    "\n",
    "diff_val = np.abs(hist_liquid[:,1]-hist_ice[:,1])\n",
    "diff_bin = hist_liquid[:,0]\n",
    "diff_val = diff_val[(diff_bin>0.65) * (diff_bin<1.05)]\n",
    "diff_bin = diff_bin[(diff_bin>0.65) * (diff_bin<1.05)]\n",
    "\n",
    "min_order= diff_bin[diff_val.min()==diff_val]\n",
    "plt.axvline(x=min_order, color='k', linestyle='--')"
   ]
  },
  {
   "cell_type": "code",
   "execution_count": 12,
   "id": "868395ae",
   "metadata": {},
   "outputs": [
    {
     "name": "stdout",
     "output_type": "stream",
     "text": [
      "Liquid max: 0.805\n"
     ]
    }
   ],
   "source": [
    "print('Liquid max:', hist_liquid[hist_liquid[:,1]==hist_liquid[:,1].max()][0][0])"
   ]
  },
  {
   "cell_type": "code",
   "execution_count": 13,
   "id": "25bf7855",
   "metadata": {
    "scrolled": true
   },
   "outputs": [
    {
     "name": "stdout",
     "output_type": "stream",
     "text": [
      "ice max: 1.12\n"
     ]
    }
   ],
   "source": [
    "print('ice max:', hist_ice[hist_ice[:,1]==hist_ice[:,1].max()][0][0])"
   ]
  },
  {
   "cell_type": "code",
   "execution_count": 14,
   "id": "93e1a5ed",
   "metadata": {
    "scrolled": true
   },
   "outputs": [
    {
     "name": "stdout",
     "output_type": "stream",
     "text": [
      "Midpoint between distribitions: 0.97\n"
     ]
    }
   ],
   "source": [
    "print('Midpoint between distribitions:', min_order[0])"
   ]
  },
  {
   "cell_type": "code",
   "execution_count": 17,
   "id": "59b7e2fe",
   "metadata": {},
   "outputs": [
    {
     "name": "stdout",
     "output_type": "stream",
     "text": [
      "1000\n",
      "Liquid max: 0.7675\n",
      "ice max: 1.1175\n",
      "Midpoint between distribitions: 0.96\n",
      "2000\n",
      "Liquid max: 0.805\n",
      "ice max: 1.12\n",
      "Midpoint between distribitions: 0.97\n",
      "4000\n",
      "Liquid max: 0.8475\n",
      "ice max: 1.125\n",
      "Midpoint between distribitions: 0.9925\n",
      "5000\n",
      "Liquid max: 0.8625\n",
      "ice max: 1.1275\n",
      "Midpoint between distribitions: 1.0025\n"
     ]
    }
   ],
   "source": [
    "for p in ['1000','2000','4000','5000']:\n",
    "    ice='IceII_{}atm/'.format(p)\n",
    "    liquid='Liquid_{}atm/'.format(p)\n",
    "    max_v=hist_ice[hist_ice[:,1]==hist_ice[:,1].max()][0][0]\n",
    "    min_v=hist_liquid[hist_liquid[:,1]==hist_liquid[:,1].max()][0][0]\n",
    "    hist_liquid = np.loadtxt(liquid+'/Histo_{}'.format(sigma_min))\n",
    "    hist_ice = np.loadtxt(ice+'/Histo_{}'.format(sigma_min))\n",
    "    diff_val = np.abs(hist_liquid[:,1]-hist_ice[:,1])\n",
    "    diff_bin = hist_liquid[:,0]\n",
    "    diff_val = diff_val[(diff_bin>min_v) * (diff_bin<max_v)]\n",
    "    diff_bin = diff_bin[(diff_bin>min_v) * (diff_bin<max_v)]\n",
    "    min_order= diff_bin[diff_val.min()==diff_val]\n",
    "    print(p)\n",
    "    print('Liquid max:', hist_liquid[hist_liquid[:,1]==hist_liquid[:,1].max()][0][0])\n",
    "    print('ice max:', hist_ice[hist_ice[:,1]==hist_ice[:,1].max()][0][0])\n",
    "    print('Midpoint between distribitions:', min_order[0])\n"
   ]
  },
  {
   "cell_type": "code",
   "execution_count": null,
   "id": "e843087a",
   "metadata": {},
   "outputs": [],
   "source": []
  }
 ],
 "metadata": {
  "kernelspec": {
   "display_name": "Python 3 (ipykernel)",
   "language": "python",
   "name": "python3"
  },
  "language_info": {
   "codemirror_mode": {
    "name": "ipython",
    "version": 3
   },
   "file_extension": ".py",
   "mimetype": "text/x-python",
   "name": "python",
   "nbconvert_exporter": "python",
   "pygments_lexer": "ipython3",
   "version": "3.9.12"
  }
 },
 "nbformat": 4,
 "nbformat_minor": 5
}

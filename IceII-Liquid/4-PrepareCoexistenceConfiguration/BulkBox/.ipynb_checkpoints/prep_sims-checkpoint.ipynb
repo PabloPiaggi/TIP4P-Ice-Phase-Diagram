{
 "cells": [
  {
   "cell_type": "markdown",
   "id": "85c080b8",
   "metadata": {},
   "source": [
    "# Prepare simulations"
   ]
  },
  {
   "cell_type": "code",
   "execution_count": null,
   "id": "8bd4ff7d",
   "metadata": {},
   "outputs": [],
   "source": [
    "import numpy as np\n",
    "import matplotlib.pylab as plt\n",
    "import os, sys"
   ]
  },
  {
   "cell_type": "code",
   "execution_count": 1,
   "id": "0cc78ccf",
   "metadata": {},
   "outputs": [],
   "source": [
    "sims={}\n",
    "#sims['1000']=[230,235,240,245,250]\n",
    "sims['2000']=[235,240,245,250,275]\n",
    "#sims['5000']=[230,235,240,245,250,255,260]\n"
   ]
  },
  {
   "cell_type": "markdown",
   "id": "e8fde166",
   "metadata": {},
   "source": [
    "### Make simulation folders"
   ]
  },
  {
   "cell_type": "code",
   "execution_count": null,
   "id": "4fdb047a",
   "metadata": {},
   "outputs": [],
   "source": [
    "for p in sims.keys():\n",
    "   # pbar=P_bar[i]\n",
    "    for t in sims[p]:\n",
    "        fold='IceII_{}atm_{}K'.format(p,t)\n",
    "        os.system('cp -r IceII {}'.format(fold))\n",
    "        cmd='sed -i  \"s#variable .* pressure .*#variable        pressure equal {}#g\" {}/in.pressure\\n'.format(p,fold)\n",
    "        cmd+='sed -i  \"s#variable.*temperature equal.*#variable        temperature equal {}#g\" {}/in.temp'.format(t,fold)\n",
    "        os.system(cmd)"
   ]
  },
  {
   "cell_type": "code",
   "execution_count": 1,
   "id": "fa4a04bc",
   "metadata": {},
   "outputs": [
    {
     "name": "stdout",
     "output_type": "stream",
     "text": [
      "[NbConvertApp] Converting notebook prep_sims.ipynb to script\n",
      "[NbConvertApp] Writing 812 bytes to prep_sims.py\n"
     ]
    }
   ],
   "source": [
    "!jupyter nbconvert --to script prep_sims.ipynb"
   ]
  }
 ],
 "metadata": {
  "kernelspec": {
   "display_name": "Python 3 (ipykernel)",
   "language": "python",
   "name": "python3"
  },
  "language_info": {
   "codemirror_mode": {
    "name": "ipython",
    "version": 3
   },
   "file_extension": ".py",
   "mimetype": "text/x-python",
   "name": "python",
   "nbconvert_exporter": "python",
   "pygments_lexer": "ipython3",
   "version": "3.9.12"
  }
 },
 "nbformat": 4,
 "nbformat_minor": 5
}

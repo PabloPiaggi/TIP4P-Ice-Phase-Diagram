{
 "cells": [
  {
   "cell_type": "markdown",
   "id": "b9f240a2",
   "metadata": {},
   "source": [
    "# Preparation of initial box for coexsistence simulations"
   ]
  },
  {
   "cell_type": "code",
   "execution_count": 1,
   "id": "fb21dd18",
   "metadata": {},
   "outputs": [],
   "source": [
    "import numpy as np, sys, os, glob\n",
    "import matplotlib.pylab as plt\n",
    "import MDAnalysis"
   ]
  },
  {
   "cell_type": "code",
   "execution_count": 7,
   "id": "99754d4d",
   "metadata": {},
   "outputs": [],
   "source": [
    "standard_sim=os.path.abspath('template/')\n",
    "press_box = np.genfromtxt('../2-Bulk/avg_IceVI_box.dat')\n",
    "single_pressure=None #'7000'\n",
    "#temps=np.array([245,250,255,260,265,270])"
   ]
  },
  {
   "cell_type": "code",
   "execution_count": null,
   "id": "9fb55539",
   "metadata": {},
   "outputs": [],
   "source": [
    "sims = dict()\n",
    "for a in press_box[:]:\n",
    "    fold='COEX_{}bar/template/'.format(a[0])\n",
    "    #print(fold)\n",
    "    if single_pressure==None or single_pressure in fold:\n",
    "        sims[fold] = dict()\n",
    "        sims[fold]['p']=a[0]\n",
    "        sims[fold]['lx']=a[1]\n",
    "        sims[fold]['ly']=a[2]\n",
    "        sims[fold]['lz']=a[3]\n",
    "        sims[fold]['xy']=a[4]\n",
    "        sims[fold]['xz']=a[5]\n",
    "        sims[fold]['yz']=a[6]\n",
    "        os.system('mkdir -p {}'.format(fold))\n",
    "        os.system('cp -r {}/* {}'.format(standard_sim,fold))\n"
   ]
  },
  {
   "cell_type": "markdown",
   "id": "f8e125a6",
   "metadata": {},
   "source": [
    "### Create new initial configurations with box size according to pressure"
   ]
  },
  {
   "cell_type": "code",
   "execution_count": 11,
   "id": "2e237f15",
   "metadata": {},
   "outputs": [
    {
     "name": "stderr",
     "output_type": "stream",
     "text": [
      "/Users/sigbjobo/miniforge3/lib/python3.9/site-packages/MDAnalysis/coordinates/base.py:892: UserWarning: Reader has no dt information, set to 1.0 ps\n",
      "  warnings.warn(\"Reader has no dt information, set to 1.0 ps\")\n"
     ]
    },
    {
     "name": "stdout",
     "output_type": "stream",
     "text": [
      "dict_items([('bond', <TopologyGroup containing 1296 bonds>), ('angle', <TopologyGroup containing 648 angles>), ('dihedral', <TopologyGroup containing 0 dihedrals>), ('improper', <TopologyGroup containing 0 impropers>)])\n",
      "bond ['1']\n",
      "angle ['1']\n",
      "dihedral []\n",
      "improper []\n",
      "dict_items([('bond', <TopologyGroup containing 1296 bonds>), ('angle', <TopologyGroup containing 648 angles>), ('dihedral', <TopologyGroup containing 0 dihedrals>), ('improper', <TopologyGroup containing 0 impropers>)])\n",
      "bond ['1']\n",
      "angle ['1']\n",
      "dihedral []\n",
      "improper []\n",
      "dict_items([('bond', <TopologyGroup containing 1296 bonds>), ('angle', <TopologyGroup containing 648 angles>), ('dihedral', <TopologyGroup containing 0 dihedrals>), ('improper', <TopologyGroup containing 0 impropers>)])\n",
      "bond ['1']\n",
      "angle ['1']\n",
      "dihedral []\n",
      "improper []\n",
      "dict_items([('bond', <TopologyGroup containing 1296 bonds>), ('angle', <TopologyGroup containing 648 angles>), ('dihedral', <TopologyGroup containing 0 dihedrals>), ('improper', <TopologyGroup containing 0 impropers>)])\n",
      "bond ['1']\n",
      "angle ['1']\n",
      "dihedral []\n",
      "improper []\n"
     ]
    }
   ],
   "source": [
    "for fold in sims.keys():\n",
    "    sim=sims[fold]\n",
    "    #print(sim)\n",
    "    # Scale box\n",
    "    u = MDAnalysis.Universe(fold+'water.data', in_memory=True)\n",
    "\n",
    "    #A=np.array([[sim['lx'],sim['xy'],sim['xz']],[0,sim['ly'],sim['yz']],[0,0,sim['lz']]])\n",
    "    #dimensions_new=MDAnalysis.lib.mdamath.triclinic_box(A[0], A[1], A[2])\n",
    "    u.coord.positions[:,1] = u.coord.positions[:,1]*sim['ly']/u.dimensions[1]\n",
    "    u.coord.positions[:,2] = u.coord.positions[:,2]*sim['lz']/u.dimensions[2]\n",
    "    u.dimensions[1]=sim['ly']\n",
    "    u.dimensions[2]=sim['lz']\n",
    "    #u.dimensions[3]=dimensions_new[3]\n",
    "    #u.dimensions[4]=dimensions_new[4]\n",
    "    #u.dimensions[5]=dimensions_new[5]\n",
    "\n",
    "    u.atoms.write(fold+'water.data')"
   ]
  },
  {
   "cell_type": "markdown",
   "id": "aff5b9a3",
   "metadata": {},
   "source": [
    "### Make template folder"
   ]
  },
  {
   "cell_type": "code",
   "execution_count": 12,
   "id": "65a8452e",
   "metadata": {},
   "outputs": [],
   "source": [
    "for fold in sims.keys():\n",
    "    sim=sims[fold]\n",
    "    os.system('sed -i   \"s#variable .* pressure .*#variable        pressure equal {}#g\" {}/in.pressure'.format(sim['p'],fold))\n",
    "    "
   ]
  },
  {
   "cell_type": "markdown",
   "id": "97e8ce86",
   "metadata": {},
   "source": [
    "### Setup different temperatures"
   ]
  },
  {
   "cell_type": "code",
   "execution_count": 9,
   "id": "86fd88fc",
   "metadata": {},
   "outputs": [
    {
     "data": {
      "image/png": "[encoded data removed]",
      "text/plain": [
       "<Figure size 432x288 with 1 Axes>"
      ]
     },
     "metadata": {
      "needs_background": "light"
     },
     "output_type": "display_data"
    }
   ],
   "source": [
    "tip4p_vega_data=np.genfromtxt('IceIII_Liquid_pd.dat')\n",
    "tip4p_vega_data[:,1]=tip4p_vega_data[:,1]*10\n",
    "melt_fn = np.poly1d(np.polyfit(tip4p_vega_data[:,1], tip4p_vega_data[:,0], 1))\n",
    "\n",
    "Ps=np.linspace(2500,5000,200)\n",
    "plt.plot(tip4p_vega_data[:,1],tip4p_vega_data[:,0])\n",
    "plt.plot(Ps,melt_fn(Ps))\n",
    "\n",
    "for fold in sims.keys():\n",
    "    p=sims[fold]['p']\n",
    "    if single_pressure==None or single_pressure in fold:\n",
    "        sims[fold]['temps']=temps\n",
    "        plt.scatter(p+temps*0,temps)\n",
    "        continue\n",
    "   # p=sims[fold]['p']\n",
    "    T_m=melt_fn(p)\n",
    "    T_range3=np.round((T_m+np.arange(15,30,5))/5, decimals=0)*5\n",
    "    #T_range=np.round((T_m+np.arange(-10,15,5))/5, decimals=0)*5\n",
    "    T_range2=np.round((T_m+np.arange(-10,15,5))/5, decimals=0)*5\n",
    "    T_range=np.round((T_m+15+np.arange(15,30,5))/5, decimals=0)*5\n",
    "    plt.scatter(p+T_range*0,T_range,marker='^')\n",
    "    plt.scatter(p+T_range2*0,T_range2)\n",
    "    plt.scatter(p+T_range3*0,T_range3,marker='s')\n",
    "    sims[fold]['temps']=T_range\n",
    "\n",
    "\n"
   ]
  },
  {
   "cell_type": "code",
   "execution_count": null,
   "id": "8cb45f4f",
   "metadata": {
    "scrolled": true
   },
   "outputs": [],
   "source": [
    "for fold in sims.keys():\n",
    "    sim=sims[fold]\n",
    "    for t in sim['temps']:\n",
    "        temp_fold = '{}{}K'.format(fold.replace('template',''),t)\n",
    "        cmd='mkdir -p {}\\n'.format(temp_fold)\n",
    "        cmd+='cp {}/* {}/\\n'.format(fold,temp_fold)\n",
    "        cmd+='sed -i  \\\"s#variable.*temperature.*#variable        temperature equal {}#g\\\" {}/in.temp\\n'.format(t,temp_fold)\n",
    "        cmd+='sed -i  \\\"s#TEMP=250#TEMP={}#g\\\" {}/plumed*.dat'.format(t,temp_fold)\n",
    "        \n",
    "        #cmd+='sed -i \\\"s#variable.*temperature.*#variable        temperature equal {}#g\\\" {}/in.temp'.format(t,temp_fold)\n",
    "        print(cmd)\n",
    "        os.system(cmd)"
   ]
  },
  {
   "cell_type": "markdown",
   "id": "9b4b8215",
   "metadata": {},
   "source": [
    "### Convert notebook to python script"
   ]
  },
  {
   "cell_type": "code",
   "execution_count": 1,
   "id": "56fda0cc",
   "metadata": {},
   "outputs": [
    {
     "name": "stdout",
     "output_type": "stream",
     "text": [
      "[NbConvertApp] Converting notebook Prepare_coexsistence.ipynb to script\n",
      "[NbConvertApp] Writing 3646 bytes to Prepare_coexsistence.py\n"
     ]
    }
   ],
   "source": [
    "!jupyter nbconvert --to script Prepare_coexsistence.ipynb\n"
   ]
  },
  {
   "cell_type": "code",
   "execution_count": null,
   "id": "47dfaa50",
   "metadata": {},
   "outputs": [],
   "source": []
  }
 ],
 "metadata": {
  "kernelspec": {
   "display_name": "Python 3 (ipykernel)",
   "language": "python",
   "name": "python3"
  },
  "language_info": {
   "codemirror_mode": {
    "name": "ipython",
    "version": 3
   },
   "file_extension": ".py",
   "mimetype": "text/x-python",
   "name": "python",
   "nbconvert_exporter": "python",
   "pygments_lexer": "ipython3",
   "version": "3.9.6"
  }
 },
 "nbformat": 4,
 "nbformat_minor": 5
}

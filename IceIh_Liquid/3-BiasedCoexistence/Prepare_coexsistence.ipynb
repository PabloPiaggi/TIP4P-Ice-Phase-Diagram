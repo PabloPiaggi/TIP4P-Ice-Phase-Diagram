{
 "cells": [
  {
   "cell_type": "markdown",
   "id": "b9f240a2",
   "metadata": {},
   "source": [
    "# Preparation of biased coexsistence simulations"
   ]
  },
  {
   "cell_type": "code",
   "execution_count": 2,
   "id": "fb21dd18",
   "metadata": {},
   "outputs": [],
   "source": [
    "import numpy as np, sys, os, glob\n",
    "import matplotlib.pylab as plt\n",
    "import MDAnalysis"
   ]
  },
  {
   "cell_type": "code",
   "execution_count": 7,
   "id": "99754d4d",
   "metadata": {},
   "outputs": [
    {
     "name": "stdout",
     "output_type": "stream",
     "text": [
      "[[   0.      18.152   23.595   22.199]\n",
      " [1000.      18.114   23.52    22.122]\n",
      " [2000.      18.052   23.452   22.062]\n",
      " [2500.      18.028   23.417   22.025]\n",
      " [3000.      18.003   23.382   21.988]]\n"
     ]
    }
   ],
   "source": [
    "standard_sim=os.path.abspath('270K-1bar')\n",
    "press_box = np.genfromtxt('../1-Bulk/avg_IceIh_box.dat')\n",
    "single_pressure='2500.0bar'\n",
    "print(press_box)"
   ]
  },
  {
   "cell_type": "code",
   "execution_count": 8,
   "id": "9fb55539",
   "metadata": {},
   "outputs": [
    {
     "ename": "NameError",
     "evalue": "name 'pri' is not defined",
     "output_type": "error",
     "traceback": [
      "\u001b[0;31m---------------------------------------------------------------------------\u001b[0m",
      "\u001b[0;31mNameError\u001b[0m                                 Traceback (most recent call last)",
      "\u001b[0;32m/var/folders/gk/bdqkskqj2fv8dk9kgrxm5psh0000gn/T/ipykernel_21205/84436568.py\u001b[0m in \u001b[0;36m<module>\u001b[0;34m\u001b[0m\n\u001b[1;32m     10\u001b[0m \u001b[0;34m\u001b[0m\u001b[0m\n\u001b[1;32m     11\u001b[0m         \u001b[0mos\u001b[0m\u001b[0;34m.\u001b[0m\u001b[0msystem\u001b[0m\u001b[0;34m(\u001b[0m\u001b[0;34m'cp -r 270K-1bar {}'\u001b[0m\u001b[0;34m.\u001b[0m\u001b[0mformat\u001b[0m\u001b[0;34m(\u001b[0m\u001b[0mfold\u001b[0m\u001b[0;34m)\u001b[0m\u001b[0;34m)\u001b[0m\u001b[0;34m\u001b[0m\u001b[0;34m\u001b[0m\u001b[0m\n\u001b[0;32m---> 12\u001b[0;31m \u001b[0mpri\u001b[0m\u001b[0;34m\u001b[0m\u001b[0;34m\u001b[0m\u001b[0m\n\u001b[0m",
      "\u001b[0;31mNameError\u001b[0m: name 'pri' is not defined"
     ]
    }
   ],
   "source": [
    "sims = dict()\n",
    "for a in press_box[:]:\n",
    "    fold='COEX_{}bar/'.format(a[0])\n",
    "    #print(fold)\n",
    "    if single_pressure==None or single_pressure in fold:\n",
    "        sims[fold] = dict()\n",
    "        sims[fold]['p']=a[0]\n",
    "        sims[fold]['lx']=a[1]\n",
    "        sims[fold]['lz']=a[3]\n",
    "\n",
    "        os.system('cp -r 270K-1bar {}'.format(fold))\n"
   ]
  },
  {
   "cell_type": "markdown",
   "id": "f8e125a6",
   "metadata": {},
   "source": [
    "### Create new initial configurations with box size according to pressure"
   ]
  },
  {
   "cell_type": "code",
   "execution_count": 9,
   "id": "2e237f15",
   "metadata": {},
   "outputs": [
    {
     "name": "stderr",
     "output_type": "stream",
     "text": [
      "/Users/sigbjobo/miniforge3/lib/python3.9/site-packages/MDAnalysis/coordinates/base.py:892: UserWarning: Reader has no dt information, set to 1.0 ps\n",
      "  warnings.warn(\"Reader has no dt information, set to 1.0 ps\")\n"
     ]
    }
   ],
   "source": [
    "for fold in sims.keys():\n",
    "    sim=sims[fold]\n",
    "   \n",
    "    # Scale box\n",
    "    u = MDAnalysis.Universe(fold+'water.data', in_memory=True)\n",
    "    u.coord.positions[:,0] = u.coord.positions[:,0]*sim['lx']/u.dimensions[0]\n",
    "    u.coord.positions[:,2] = u.coord.positions[:,2]*sim['lz']/u.dimensions[2]\n",
    "    u.dimensions[0]=sim['lx']\n",
    "    u.dimensions[2]=sim['lz']\n",
    "\n",
    "    # Store lammps data\n",
    "    u.atoms.write(fold+'water.data')"
   ]
  },
  {
   "cell_type": "markdown",
   "id": "aff5b9a3",
   "metadata": {},
   "source": [
    "### Make template folder"
   ]
  },
  {
   "cell_type": "code",
   "execution_count": 10,
   "id": "3c14a98d",
   "metadata": {},
   "outputs": [
    {
     "name": "stderr",
     "output_type": "stream",
     "text": [
      "mv: rename COEX_2500.0bar/template to COEX_2500.0bar/template/template: Invalid argument\n"
     ]
    }
   ],
   "source": [
    "for fold in sims.keys():\n",
    "    sim=sims[fold]\n",
    "   \n",
    "    \n",
    "\n",
    "    # Create template folder\n",
    "    template_fold=fold+'template'\n",
    "    cmd=''\n",
    "    cmd=cmd+'mkdir  -p {}\\n'.format(template_fold)\n",
    "    cmd=cmd+'mv {}* {}/\\n'.format(fold,template_fold)\n",
    "    os.system(cmd)"
   ]
  },
  {
   "cell_type": "code",
   "execution_count": 11,
   "id": "65a8452e",
   "metadata": {},
   "outputs": [],
   "source": [
    "for fold in sims.keys():\n",
    "    sim=sims[fold]\n",
    "    os.system('sed -i \\'\\'  \"s#variable .* pressure .*#variable        pressure equal {}#g\" {}/template/in.pressure'.format(sim['p'],fold))\n",
    "    "
   ]
  },
  {
   "cell_type": "markdown",
   "id": "97e8ce86",
   "metadata": {},
   "source": [
    "### Setup different temperatures"
   ]
  },
  {
   "cell_type": "code",
   "execution_count": 13,
   "id": "86fd88fc",
   "metadata": {},
   "outputs": [
    {
     "data": {
      "image/png": "[encoded data removed]",
      "text/plain": [
       "<Figure size 432x288 with 1 Axes>"
      ]
     },
     "metadata": {
      "needs_background": "light"
     },
     "output_type": "display_data"
    }
   ],
   "source": [
    "tip4p_vega_data=np.genfromtxt('tip4p_ice_iceIh_liquid.csv')\n",
    "tip4p_vega_data[:,1]=tip4p_vega_data[:,1]*10\n",
    "melt_fn = np.poly1d(np.polyfit(tip4p_vega_data[:,1], tip4p_vega_data[:,0], 3))\n",
    "\n",
    "Ps=np.linspace(0,3000,200)\n",
    "plt.plot(tip4p_vega_data[:,1],tip4p_vega_data[:,0])\n",
    "plt.plot(Ps,melt_fn(Ps))\n",
    "\n",
    "for fold in sims.keys():\n",
    "    p=sims[fold]['p']\n",
    "    T_m=melt_fn(p)\n",
    "    T_range=np.round((T_m+np.arange(-5,20,5))/5, decimals=0)*5\n",
    "    sims[fold]['temps']=T_range\n",
    "    plt.scatter(p+T_range*0,T_range)"
   ]
  },
  {
   "cell_type": "code",
   "execution_count": 14,
   "id": "8cb45f4f",
   "metadata": {
    "scrolled": true
   },
   "outputs": [
    {
     "name": "stdout",
     "output_type": "stream",
     "text": [
      "mkdir -p COEX_2500.0bar/235.0K\n",
      "cp COEX_2500.0bar/template/* COEX_2500.0bar/235.0K/\n",
      "sed -i '' \"s#variable.*temperature.*#variable        temperature equal 235.0#g\" COEX_2500.0bar/235.0K/in.temp\n",
      "sed -i '' \"s#TEMP=270#TEMP=235.0#g\" COEX_2500.0bar/235.0K/plumed*.dat\n",
      "mkdir -p COEX_2500.0bar/240.0K\n",
      "cp COEX_2500.0bar/template/* COEX_2500.0bar/240.0K/\n",
      "sed -i '' \"s#variable.*temperature.*#variable        temperature equal 240.0#g\" COEX_2500.0bar/240.0K/in.temp\n",
      "sed -i '' \"s#TEMP=270#TEMP=240.0#g\" COEX_2500.0bar/240.0K/plumed*.dat\n",
      "mkdir -p COEX_2500.0bar/245.0K\n",
      "cp COEX_2500.0bar/template/* COEX_2500.0bar/245.0K/\n",
      "sed -i '' \"s#variable.*temperature.*#variable        temperature equal 245.0#g\" COEX_2500.0bar/245.0K/in.temp\n",
      "sed -i '' \"s#TEMP=270#TEMP=245.0#g\" COEX_2500.0bar/245.0K/plumed*.dat\n",
      "mkdir -p COEX_2500.0bar/250.0K\n",
      "cp COEX_2500.0bar/template/* COEX_2500.0bar/250.0K/\n",
      "sed -i '' \"s#variable.*temperature.*#variable        temperature equal 250.0#g\" COEX_2500.0bar/250.0K/in.temp\n",
      "sed -i '' \"s#TEMP=270#TEMP=250.0#g\" COEX_2500.0bar/250.0K/plumed*.dat\n",
      "mkdir -p COEX_2500.0bar/255.0K\n",
      "cp COEX_2500.0bar/template/* COEX_2500.0bar/255.0K/\n",
      "sed -i '' \"s#variable.*temperature.*#variable        temperature equal 255.0#g\" COEX_2500.0bar/255.0K/in.temp\n",
      "sed -i '' \"s#TEMP=270#TEMP=255.0#g\" COEX_2500.0bar/255.0K/plumed*.dat\n"
     ]
    }
   ],
   "source": [
    "for fold in sims.keys():\n",
    "    sim=sims[fold]\n",
    "    for t in sim['temps']:\n",
    "        temp_fold = '{}{}K'.format(fold,t)\n",
    "        cmd='mkdir -p {}\\n'.format(temp_fold)\n",
    "        cmd+='cp {}template/* {}/\\n'.format(fold,temp_fold)\n",
    "        cmd+='sed -i \\'\\' \\\"s#variable.*temperature.*#variable        temperature equal {}#g\\\" {}/in.temp\\n'.format(t,temp_fold)\n",
    "        cmd+='sed -i \\'\\' \\\"s#TEMP=270#TEMP={}#g\\\" {}/plumed*.dat'.format(t,temp_fold)\n",
    "        \n",
    "        #cmd+='sed -i \\\"s#variable.*temperature.*#variable        temperature equal {}#g\\\" {}/in.temp'.format(t,temp_fold)\n",
    "        print(cmd)\n",
    "        os.system(cmd)"
   ]
  },
  {
   "cell_type": "markdown",
   "id": "9b4b8215",
   "metadata": {},
   "source": [
    "### Convert notebook to python script"
   ]
  },
  {
   "cell_type": "code",
   "execution_count": 8,
   "id": "56fda0cc",
   "metadata": {},
   "outputs": [
    {
     "name": "stdout",
     "output_type": "stream",
     "text": [
      "[NbConvertApp] Converting notebook Prepare_coexsistence.ipynb to script\n",
      "[NbConvertApp] Writing 2385 bytes to Prepare_coexsistence.py\n"
     ]
    }
   ],
   "source": [
    "!jupyter nbconvert --to script Prepare_coexsistence.ipynb"
   ]
  }
 ],
 "metadata": {
  "kernelspec": {
   "display_name": "Python 3 (ipykernel)",
   "language": "python",
   "name": "python3"
  },
  "language_info": {
   "codemirror_mode": {
    "name": "ipython",
    "version": 3
   },
   "file_extension": ".py",
   "mimetype": "text/x-python",
   "name": "python",
   "nbconvert_exporter": "python",
   "pygments_lexer": "ipython3",
   "version": "3.9.6"
  }
 },
 "nbformat": 4,
 "nbformat_minor": 5
}

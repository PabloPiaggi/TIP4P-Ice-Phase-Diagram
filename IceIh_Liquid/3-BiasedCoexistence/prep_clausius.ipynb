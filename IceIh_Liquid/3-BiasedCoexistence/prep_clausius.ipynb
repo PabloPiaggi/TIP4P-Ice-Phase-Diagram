{
 "cells": [
  {
   "cell_type": "markdown",
   "id": "85c080b8",
   "metadata": {},
   "source": [
    "# Prepare simulations"
   ]
  },
  {
   "cell_type": "code",
   "execution_count": 1,
   "id": "8bd4ff7d",
   "metadata": {},
   "outputs": [],
   "source": [
    "import numpy as np\n",
    "import os, sys"
   ]
  },
  {
   "cell_type": "markdown",
   "id": "66476abe",
   "metadata": {},
   "source": [
    "### Pressure values for simulations"
   ]
  },
  {
   "cell_type": "code",
   "execution_count": 2,
   "id": "01b6e019",
   "metadata": {
    "scrolled": true
   },
   "outputs": [
    {
     "name": "stdout",
     "output_type": "stream",
     "text": [
      "#pressure/bar  T/K            \r\n",
      "0              269.1          \r\n",
      "1000           258.5          \r\n",
      "2000           245.9          \r\n",
      "2500           239.9          \r\n",
      "3000           212.7          "
     ]
    }
   ],
   "source": [
    "P_T = np.genfromtxt('P_T.dat',comments='#')\n",
    "!cat P_T.dat"
   ]
  },
  {
   "cell_type": "markdown",
   "id": "e8fde166",
   "metadata": {},
   "source": [
    "### Make simulation folders"
   ]
  },
  {
   "cell_type": "code",
   "execution_count": 3,
   "id": "4fdb047a",
   "metadata": {},
   "outputs": [
    {
     "name": "stdout",
     "output_type": "stream",
     "text": [
      "\u001b[34mIceIh_0.0bar269.1K\u001b[m\u001b[m     \u001b[34mIceIh_3000.0bar217.6K\u001b[m\u001b[m  \u001b[34mLiquid_3000.0bar212.7K\u001b[m\u001b[m\r\n",
      "\u001b[34mIceIh_1000.0bar258.5K\u001b[m\u001b[m  \u001b[34mLiquid_0.0bar269.1K\u001b[m\u001b[m    \u001b[34mLiquid_3000.0bar217.6K\u001b[m\u001b[m\r\n",
      "\u001b[34mIceIh_2000.0bar245.9K\u001b[m\u001b[m  \u001b[34mLiquid_1000.0bar258.5K\u001b[m\u001b[m log.lammps\r\n",
      "\u001b[34mIceIh_2500.0bar239.9K\u001b[m\u001b[m  \u001b[34mLiquid_2000.0bar245.9K\u001b[m\u001b[m\r\n",
      "\u001b[34mIceIh_3000.0bar212.7K\u001b[m\u001b[m  \u001b[34mLiquid_2500.0bar239.9K\u001b[m\u001b[m\r\n"
     ]
    }
   ],
   "source": [
    "#os.system('rm -rf Clausius')\n",
    "os.system('mkdir -p Clausius')\n",
    "\n",
    "for i, p_t in enumerate(P_T):\n",
    "    p=p_t[0]\n",
    "    t=p_t[1]\n",
    "\n",
    "    # Liquid\n",
    "    fold='Clausius/Liquid_{}bar{}K'.format(p,t)\n",
    "    os.system('cp -r ../1-Bulk/IceIh {}'.format(fold))\n",
    "   \n",
    "    # Set temperature and pressure\n",
    "    cmd='sed -i \"\" \"s#variable .* pressure .*#variable        pressure equal {}#g\" {}/in.pressure\\n'.format(p,fold)\n",
    "    cmd+='sed -i \\'\\' \\\"s#variable.*temperature.*#variable        temperature equal {}#g\\\" {}/in.temp\\n'.format(t,fold)\n",
    "    cmd+='sed -i \\'\\' \\\"s#thermo_style.*#thermo_style    custom step temp pe etotal epair emol press lx ly lz vol pxx pyy pzz pxy pxz pyz enthalpy#g\\\" {}/in.setup\\n'.format(fold)\n",
    "    \n",
    "    # IceIh\n",
    "    fold='Clausius/IceIh_{}bar{}K'.format(p,t)\n",
    "    os.system('cp -r ../1-Bulk/Liquid {}'.format(fold))\n",
    "    cmd+='sed -i \"\" \"s#variable .* pressure .*#variable        pressure equal {}#g\" {}/in.pressure\\n'.format(p,fold)\n",
    "    cmd+='sed -i \\'\\' \\\"s#variable.*temperature.*#variable        temperature equal {}#g\\\" {}/in.temp\\n'.format(t,fold)\n",
    "    cmd+='sed -i \\'\\' \\\"s#thermo_style.*#thermo_style    custom step temp pe etotal epair emol press lx ly lz vol pxx pyy pzz pxy pxz pyz enthalpy#g\\\" {}/in.setup\\n'.format(fold)\n",
    " \n",
    "    \n",
    "    # Create folders\n",
    "    os.system(cmd)\n",
    "    \n",
    "!ls Clausius"
   ]
  },
  {
   "cell_type": "code",
   "execution_count": 3,
   "id": "fa4a04bc",
   "metadata": {},
   "outputs": [
    {
     "name": "stdout",
     "output_type": "stream",
     "text": [
      "[NbConvertApp] Converting notebook prep_sims.ipynb to script\n",
      "[NbConvertApp] Writing 1018 bytes to prep_sims.py\n"
     ]
    }
   ],
   "source": [
    "!jupyter nbconvert --to script prep_sims.ipynb"
   ]
  },
  {
   "cell_type": "code",
   "execution_count": null,
   "id": "ec70461e",
   "metadata": {},
   "outputs": [],
   "source": []
  }
 ],
 "metadata": {
  "kernelspec": {
   "display_name": "Python 3 (ipykernel)",
   "language": "python",
   "name": "python3"
  },
  "language_info": {
   "codemirror_mode": {
    "name": "ipython",
    "version": 3
   },
   "file_extension": ".py",
   "mimetype": "text/x-python",
   "name": "python",
   "nbconvert_exporter": "python",
   "pygments_lexer": "ipython3",
   "version": "3.9.6"
  }
 },
 "nbformat": 4,
 "nbformat_minor": 5
}

{
 "cells": [
  {
   "cell_type": "markdown",
   "id": "b9d3a550",
   "metadata": {},
   "source": [
    "# Make video"
   ]
  },
  {
   "cell_type": "code",
   "execution_count": 1,
   "id": "cdde5d2b",
   "metadata": {},
   "outputs": [
    {
     "data": {
      "application/vnd.jupyter.widget-view+json": {
       "model_id": "644b320672034451958477af63493437",
       "version_major": 2,
       "version_minor": 0
      },
      "text/plain": []
     },
     "metadata": {},
     "output_type": "display_data"
    },
    {
     "name": "stdout",
     "output_type": "stream",
     "text": [
      "NOTE: Some configuration directories are not set up yet: \n",
      "\t/Users/sigbjobo/.gromacswrapper\n",
      "\t/Users/sigbjobo/.gromacswrapper/qscripts\n",
      "\t/Users/sigbjobo/.gromacswrapper/templates\n",
      "NOTE: You can create the configuration file and directories with:\n",
      "\t>>> import gromacs\n",
      "\t>>> gromacs.config.setup()\n"
     ]
    }
   ],
   "source": [
    "import nglview, MDAnalysis\n",
    "import MDAnalysis.transformations\n",
    "import numpy as np\n",
    "from gromacs.tools import Trjconv\n"
   ]
  },
  {
   "cell_type": "code",
   "execution_count": 2,
   "id": "616f1d0a",
   "metadata": {},
   "outputs": [],
   "source": [
    "u = MDAnalysis.Universe('COEX_0.0bar/265.0K/water.data','COEX_0.0bar/265.0K/dump.dcd',in_memory=True)\n",
    "typ={'2':'O', '1':'H'}\n",
    "\n",
    "u.atoms.types=[typ[t] for t in u.atoms.types]\n",
    "u.add_TopologyAttr('names')\n",
    "u.atoms.names=u.atoms.types"
   ]
  },
  {
   "cell_type": "code",
   "execution_count": 3,
   "id": "3b0fb77e",
   "metadata": {},
   "outputs": [],
   "source": [
    "transform = MDAnalysis.transformations.unwrap(u.atoms)\n",
    "u.trajectory.add_transformations(transform)"
   ]
  },
  {
   "cell_type": "code",
   "execution_count": 4,
   "id": "8a393926",
   "metadata": {},
   "outputs": [],
   "source": [
    "with MDAnalysis.Writer(\"water_unwrapped.xtc\", u.atoms) as W:\n",
    "    for ts in u.trajectory:\n",
    "        W.write(u.atoms)"
   ]
  },
  {
   "cell_type": "code",
   "execution_count": 5,
   "id": "e2152e18",
   "metadata": {},
   "outputs": [
    {
     "name": "stderr",
     "output_type": "stream",
     "text": [
      "/Users/sigbjobo/miniforge3/lib/python3.9/site-packages/MDAnalysis/coordinates/PDB.py:1078: UserWarning: Found no information for attr: 'altLocs' Using default value of ' '\n",
      "  warnings.warn(\"Found no information for attr: '{}'\"\n",
      "/Users/sigbjobo/miniforge3/lib/python3.9/site-packages/MDAnalysis/coordinates/PDB.py:1078: UserWarning: Found no information for attr: 'resnames' Using default value of 'UNK'\n",
      "  warnings.warn(\"Found no information for attr: '{}'\"\n",
      "/Users/sigbjobo/miniforge3/lib/python3.9/site-packages/MDAnalysis/coordinates/PDB.py:1078: UserWarning: Found no information for attr: 'icodes' Using default value of ' '\n",
      "  warnings.warn(\"Found no information for attr: '{}'\"\n",
      "/Users/sigbjobo/miniforge3/lib/python3.9/site-packages/MDAnalysis/coordinates/PDB.py:1078: UserWarning: Found no information for attr: 'chainIDs' Using default value of ''\n",
      "  warnings.warn(\"Found no information for attr: '{}'\"\n",
      "/Users/sigbjobo/miniforge3/lib/python3.9/site-packages/MDAnalysis/coordinates/PDB.py:1078: UserWarning: Found no information for attr: 'occupancies' Using default value of '1.0'\n",
      "  warnings.warn(\"Found no information for attr: '{}'\"\n",
      "/Users/sigbjobo/miniforge3/lib/python3.9/site-packages/MDAnalysis/coordinates/PDB.py:1078: UserWarning: Found no information for attr: 'tempfactors' Using default value of '0.0'\n",
      "  warnings.warn(\"Found no information for attr: '{}'\"\n",
      "/Users/sigbjobo/miniforge3/lib/python3.9/site-packages/MDAnalysis/coordinates/PDB.py:1078: UserWarning: Found no information for attr: 'elements' Using default value of ' '\n",
      "  warnings.warn(\"Found no information for attr: '{}'\"\n",
      "/Users/sigbjobo/miniforge3/lib/python3.9/site-packages/MDAnalysis/coordinates/PDB.py:1078: UserWarning: Found no information for attr: 'record_types' Using default value of 'ATOM'\n",
      "  warnings.warn(\"Found no information for attr: '{}'\"\n",
      "/Users/sigbjobo/miniforge3/lib/python3.9/site-packages/MDAnalysis/coordinates/PDB.py:1124: UserWarning: Found missing chainIDs. Corresponding atoms will use value of 'X'\n",
      "  warnings.warn(\"Found missing chainIDs.\"\n"
     ]
    }
   ],
   "source": [
    "with MDAnalysis.Writer(\"water_unwrapped.pdb\") as pdb:\n",
    "    pdb.write(u.atoms)"
   ]
  },
  {
   "cell_type": "code",
   "execution_count": 8,
   "id": "da356dc8",
   "metadata": {},
   "outputs": [
    {
     "data": {
      "application/vnd.jupyter.widget-view+json": {
       "model_id": "54a54178afb640eebfe5c14ba81c6f76",
       "version_major": 2,
       "version_minor": 0
      },
      "text/plain": [
       "NGLWidget(max_frame=15518)"
      ]
     },
     "metadata": {},
     "output_type": "display_data"
    }
   ],
   "source": [
    "\n",
    "view = nglview.show_mdanalysis(u)\n",
    "view.camera = 'orthographic'\n",
    "#view.add_unitcell()\n",
    "#view.control.orient([1,1,1])\n",
    "view.add_representation(repr_type='cartoon')#, selection=[i for i in range(100)], color='red')\n",
    "#view.color_by('type')\n",
    "#print(view.showow_mdanalysis)\n",
    "#view.add_representation('ball')\n",
    "#view.add_representation('fcsd', selection=[i for i in range(100)], color='red')\n",
    "#view.add_ball\n",
    "view.control.rotate(\n",
    "    MDAnalysis.lib.transformations.quaternion_from_euler(\n",
    "        np.pi/2,   np.pi/2, np.pi/2, 'ryzy').tolist())\n",
    "view.control.zoom(0.6)\n",
    "\n",
    "#view.color_by('type')\n",
    "view\n",
    "#view.color_by('atomindex')"
   ]
  },
  {
   "cell_type": "code",
   "execution_count": 9,
   "id": "6d049e2f",
   "metadata": {},
   "outputs": [
    {
     "data": {
      "application/vnd.jupyter.widget-view+json": {
       "model_id": "3d47dad7a03b4601a01ad256b916c5b2",
       "version_major": 2,
       "version_minor": 0
      },
      "text/plain": [
       "IntProgress(value=0, description='Rendering ...', max=15518)"
      ]
     },
     "metadata": {},
     "output_type": "display_data"
    }
   ],
   "source": [
    "from nglview.contrib.movie import MovieMaker\n",
    "\n",
    "movie = MovieMaker(view, fps=24, output='movie.gif')\n",
    "movie.make()"
   ]
  },
  {
   "cell_type": "code",
   "execution_count": null,
   "id": "83da4f0b",
   "metadata": {},
   "outputs": [],
   "source": []
  }
 ],
 "metadata": {
  "kernelspec": {
   "display_name": "Python 3 (ipykernel)",
   "language": "python",
   "name": "python3"
  },
  "language_info": {
   "codemirror_mode": {
    "name": "ipython",
    "version": 3
   },
   "file_extension": ".py",
   "mimetype": "text/x-python",
   "name": "python",
   "nbconvert_exporter": "python",
   "pygments_lexer": "ipython3",
   "version": "3.9.6"
  }
 },
 "nbformat": 4,
 "nbformat_minor": 5
}

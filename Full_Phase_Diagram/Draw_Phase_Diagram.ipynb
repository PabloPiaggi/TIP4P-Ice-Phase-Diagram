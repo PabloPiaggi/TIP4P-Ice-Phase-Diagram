{
 "cells": [
  {
   "cell_type": "code",
   "execution_count": 1,
   "id": "65e061a3",
   "metadata": {},
   "outputs": [],
   "source": [
    "import matplotlib.pylab as plt\n",
    "import numpy as np\n",
    "import glob\n",
    "from scipy.interpolate import UnivariateSpline\n",
    "%config InlineBackend.figure_format = 'retina'\n"
   ]
  },
  {
   "cell_type": "code",
   "execution_count": 2,
   "id": "865eb30a",
   "metadata": {},
   "outputs": [],
   "source": [
    "def load_gibbs(fold):\n",
    "    PT_IceIh_Liquid=glob.glob(fold+'/*_*_*')\n",
    "    PT_IceIh_Liquid=[[float(a.split('/')[-1].split('_')[1]),float(a.split('/')[-1].split('_')[2])]  for a in PT_IceIh_Liquid]\n",
    "    PT_IceIh_Liquid=np.array(PT_IceIh_Liquid)\n",
    "    PT_IceIh_Liquid=PT_IceIh_Liquid[np.argsort(PT_IceIh_Liquid[:,1])]\n",
    "    return PT_IceIh_Liquid"
   ]
  },
  {
   "cell_type": "code",
   "execution_count": 3,
   "id": "8318b372",
   "metadata": {},
   "outputs": [
    {
     "ename": "error",
     "evalue": "(m>k) failed for hidden m: fpcurf0:m=2",
     "output_type": "error",
     "traceback": [
      "\u001b[0;31m---------------------------------------------------------------------------\u001b[0m",
      "\u001b[0;31merror\u001b[0m                                     Traceback (most recent call last)",
      "\u001b[0;32m/var/folders/gk/bdqkskqj2fv8dk9kgrxm5psh0000gn/T/ipykernel_25838/2943398064.py\u001b[0m in \u001b[0;36m<module>\u001b[0;34m\u001b[0m\n\u001b[1;32m     16\u001b[0m \u001b[0mtip4p_vega_data2\u001b[0m\u001b[0;34m[\u001b[0m\u001b[0;34m:\u001b[0m\u001b[0;34m,\u001b[0m\u001b[0;36m1\u001b[0m\u001b[0;34m]\u001b[0m\u001b[0;34m=\u001b[0m\u001b[0mtip4p_vega_data2\u001b[0m\u001b[0;34m[\u001b[0m\u001b[0;34m:\u001b[0m\u001b[0;34m,\u001b[0m\u001b[0;36m1\u001b[0m\u001b[0;34m]\u001b[0m\u001b[0;34m*\u001b[0m\u001b[0;36m1000\u001b[0m\u001b[0;34m*\u001b[0m\u001b[0;36m0.986923\u001b[0m\u001b[0;34m\u001b[0m\u001b[0;34m\u001b[0m\u001b[0m\n\u001b[1;32m     17\u001b[0m \u001b[0;34m\u001b[0m\u001b[0m\n\u001b[0;32m---> 18\u001b[0;31m \u001b[0mIce_III_Liquid_spl\u001b[0m \u001b[0;34m=\u001b[0m \u001b[0mUnivariateSpline\u001b[0m\u001b[0;34m(\u001b[0m\u001b[0mIceIII_Liquid\u001b[0m\u001b[0;34m[\u001b[0m\u001b[0;34m:\u001b[0m\u001b[0;34m,\u001b[0m\u001b[0;36m0\u001b[0m\u001b[0;34m]\u001b[0m\u001b[0;34m,\u001b[0m \u001b[0mIceIII_Liquid\u001b[0m\u001b[0;34m[\u001b[0m\u001b[0;34m:\u001b[0m\u001b[0;34m,\u001b[0m\u001b[0;36m1\u001b[0m\u001b[0;34m]\u001b[0m\u001b[0;34m)\u001b[0m\u001b[0;34m\u001b[0m\u001b[0;34m\u001b[0m\u001b[0m\n\u001b[0m\u001b[1;32m     19\u001b[0m \u001b[0mIce_Ih_Liquid_spl\u001b[0m \u001b[0;34m=\u001b[0m \u001b[0mUnivariateSpline\u001b[0m\u001b[0;34m(\u001b[0m\u001b[0mIceIh_Liquid\u001b[0m\u001b[0;34m[\u001b[0m\u001b[0;34m:\u001b[0m\u001b[0;34m,\u001b[0m\u001b[0;36m0\u001b[0m\u001b[0;34m]\u001b[0m\u001b[0;34m,\u001b[0m \u001b[0mIceIh_Liquid\u001b[0m\u001b[0;34m[\u001b[0m\u001b[0;34m:\u001b[0m\u001b[0;34m,\u001b[0m\u001b[0;36m1\u001b[0m\u001b[0;34m]\u001b[0m\u001b[0;34m)\u001b[0m\u001b[0;34m\u001b[0m\u001b[0;34m\u001b[0m\u001b[0m\n\u001b[1;32m     20\u001b[0m \u001b[0mIceVI_Liquid_spl\u001b[0m \u001b[0;34m=\u001b[0m \u001b[0mUnivariateSpline\u001b[0m\u001b[0;34m(\u001b[0m\u001b[0mIceVI_Liquid\u001b[0m\u001b[0;34m[\u001b[0m\u001b[0;34m:\u001b[0m\u001b[0;34m,\u001b[0m\u001b[0;36m0\u001b[0m\u001b[0;34m]\u001b[0m\u001b[0;34m,\u001b[0m \u001b[0mIceVI_Liquid\u001b[0m\u001b[0;34m[\u001b[0m\u001b[0;34m:\u001b[0m\u001b[0;34m,\u001b[0m\u001b[0;36m1\u001b[0m\u001b[0;34m]\u001b[0m\u001b[0;34m)\u001b[0m\u001b[0;34m\u001b[0m\u001b[0;34m\u001b[0m\u001b[0m\n",
      "\u001b[0;32m~/miniforge3/lib/python3.9/site-packages/scipy/interpolate/fitpack2.py\u001b[0m in \u001b[0;36m__init__\u001b[0;34m(self, x, y, w, bbox, k, s, ext, check_finite)\u001b[0m\n\u001b[1;32m    201\u001b[0m \u001b[0;34m\u001b[0m\u001b[0m\n\u001b[1;32m    202\u001b[0m         \u001b[0;31m# _data == x,y,w,xb,xe,k,s,n,t,c,fp,fpint,nrdata,ier\u001b[0m\u001b[0;34m\u001b[0m\u001b[0;34m\u001b[0m\u001b[0;34m\u001b[0m\u001b[0m\n\u001b[0;32m--> 203\u001b[0;31m         data = dfitpack.fpcurf0(x, y, k, w=w, xb=bbox[0],\n\u001b[0m\u001b[1;32m    204\u001b[0m                                 xe=bbox[1], s=s)\n\u001b[1;32m    205\u001b[0m         \u001b[0;32mif\u001b[0m \u001b[0mdata\u001b[0m\u001b[0;34m[\u001b[0m\u001b[0;34m-\u001b[0m\u001b[0;36m1\u001b[0m\u001b[0;34m]\u001b[0m \u001b[0;34m==\u001b[0m \u001b[0;36m1\u001b[0m\u001b[0;34m:\u001b[0m\u001b[0;34m\u001b[0m\u001b[0;34m\u001b[0m\u001b[0m\n",
      "\u001b[0;31merror\u001b[0m: (m>k) failed for hidden m: fpcurf0:m=2"
     ]
    }
   ],
   "source": [
    "IceIII_Liquid = np.loadtxt('../IceIII_Liquid/5-BiasedCoexistence/store_21_12_2021/P_T.dat')\n",
    "IceV_Liquid = np.loadtxt('../IceV_Liquid/4-BiasedCoexistence/P_T.dat')\n",
    "IceVI_Liquid = np.loadtxt('../IceVI_Liquid/5-BiasedCoexistence/P_T.dat')\n",
    "IceIh_Liquid = np.loadtxt('../IceIh_Liquid/3-BiasedCoexistence/P_T.dat')\n",
    "IceII_Liquid = np.loadtxt('../IceII_Liquid/5-BiasedCoexistence/P_T.dat')\n",
    "\n",
    "# GD_IceIh_Liquid=load_gibbs('../Gibbs_Duhem_Simulations/ACCURATE/IceIh_Liquid/0.0atm_269.6K/')\n",
    "# GD_IceIII_Liquid=load_gibbs('../Gibbs_Duhem_Simulations/ACCURATE/IceIII_Liquid/*atm_*K/')\n",
    "# GD_IceVI_Liquid=load_gibbs('../Gibbs_Duhem_Simulations/ACCURATE/IceVI_Liquid/*atm_*K/')\n",
    "# GD_IceV_Liquid=load_gibbs('../Gibbs_Duhem_Simulations/ACCURATE/IceV_Liquid/*atm_*K/')\n",
    "\n",
    "\n",
    "tip4p_vega_data=np.genfromtxt('tip4p_ice_pd.dat')\n",
    "tip4p_vega_data[:,1]=tip4p_vega_data[:,1]*10*0.986923\n",
    "tip4p_vega_data2=np.genfromtxt('tip4p_ice_pd2.dat')\n",
    "tip4p_vega_data2[:,1]=tip4p_vega_data2[:,1]*1000*0.986923\n",
    "\n",
    "# Ice_III_Liquid_spl = UnivariateSpline(IceIII_Liquid[:,0], IceIII_Liquid[:,1])\n",
    "# Ice_Ih_Liquid_spl = UnivariateSpline(IceIh_Liquid[:,0], IceIh_Liquid[:,1])\n",
    "# IceVI_Liquid_spl = UnivariateSpline(IceVI_Liquid[:,0], IceVI_Liquid[:,1])\n",
    "# IceV_Liquid_spl = UnivariateSpline(IceV_Liquid[:,0], IceV_Liquid[:,1])\n",
    "\n",
    "# Ice_III_Liquid_spl.set_smoothing_factor(0.05)\n",
    "# Ice_Ih_Liquid_spl.set_smoothing_factor(0.05)\n",
    "\n",
    "\n"
   ]
  },
  {
   "cell_type": "code",
   "execution_count": null,
   "id": "ec3e9576",
   "metadata": {},
   "outputs": [],
   "source": [
    "plt.figure(figsize=(4.5,3.5))\n",
    "plt.scatter(tip4p_vega_data[:,0],tip4p_vega_data[:,1],label='Vega TIP4P/ice/free',s=1,color='k')\n",
    "plt.scatter(tip4p_vega_data2[:,0],tip4p_vega_data2[:,1],label='Vega TIP4P/ice/coex',s=1,color='g')\n",
    "\n",
    "t_range=np.linspace(210,270,200)\n",
    "p_range_IceIII_Liquid = np.linspace(1750,7000,200)\n",
    "p_range_IceIh_Liquid = np.linspace(0,3000,200)\n",
    "\n",
    "\n",
    "idx = np.argwhere(np.diff(np.sign(Ice_III_Liquid_spl(p_range_IceIII_Liquid) - Ice_Ih_Liquid_spl(p_range_IceIh_Liquid)))).flatten()[0]\n",
    "p_range=np.linspace(0,9000,2000)\n",
    "P=p_range[np.argwhere(np.diff(np.sign(Ice_III_Liquid_spl(p_range) - Ice_Ih_Liquid_spl(p_range)))).flatten()[0]]\n",
    "# print(P)\n",
    "plt.scatter(IceIII_Liquid[:,1],IceIII_Liquid[:,0],color='r',label='Enhanced coexistence')\n",
    "plt.scatter(IceVI_Liquid[:,1],IceVI_Liquid[:,0],color='r')#,label='Enhanced coexistence')\n",
    "plt.scatter(IceV_Liquid[:,1],IceV_Liquid[:,0],color='r')\n",
    "plt.scatter(IceIh_Liquid[:,1],IceIh_Liquid[:,0],color='r')\n",
    "plt.scatter(IceII_Liquid[:,1],IceII_Liquid[:,0],color='r')\n",
    "\n",
    "#Splines\n",
    "#plt.scatter(IceIh_Liquid[:,1],IceIh_Liquid[:,0],color='r')\n",
    "\n",
    "\n",
    "#plt.plot(GD_IceIII_Liquid[:,0],GD_IceIII_Liquid[:,1],color='b',label='Gibbs-Duhem')\n",
    "\n",
    "#plt.plot(Ice_III_Liquid_spl(p_range_IceIII_Liquid[p_range_IceIII_Liquid>P]),p_range_IceIII_Liquid[p_range_IceIII_Liquid>P],color='r')\n",
    "# plt.plot(GD_IceIh_Liquid[:,0],GD_IceIh_Liquid[:,1],color='b')\n",
    "# plt.plot(GD_IceIII_Liquid[:,0],GD_IceIII_Liquid[:,1],color='b')\n",
    "# plt.plot(GD_IceVI_Liquid[:,0],GD_IceVI_Liquid[:,1],color='b')\n",
    "# plt.plot(GD_IceV_Liquid[:,0],GD_IceV_Liquid[:,1],color='b')\n",
    "\n",
    "#plt.scatter(IceIh_Liquid[idx:,1],IceIh_Liquid[:,0],ls=)\n",
    "\n",
    "#plt.plot(Ice_Ih_Liquid_spl(p_range_IceIh_Liquid[p_range_IceIh_Liquid<P]),p_range_IceIh_Liquid[p_range_IceIh_Liquid<P],color='r')\n",
    "#plt.plot(Ice_Ih_Liquid_spl(p_range_IceIh_Liquid[p_range_IceIh_Liquid>P]),p_range_IceIh_Liquid[p_range_IceIh_Liquid>P],ls='--',color='r')\n",
    "\n",
    "#plt.xlim([0,290])\n",
    "#plt.ylim([-3000,16000])\n",
    "#plt.xlim([200,300])\n",
    "\n",
    "plt.annotate('IceIh',(240,0))\n",
    "plt.annotate('Liquid',(260,1400))\n",
    "plt.annotate('IceIII',(245,3000))\n",
    "plt.annotate('IceV',(235,6000))\n",
    "plt.annotate('IceII',(202,3150))\n",
    "plt.annotate('IceVI',(235,8000))\n",
    "plt.ylabel('P/atm')\n",
    "plt.xlabel('T/K')\n",
    "\n",
    "plt.legend()"
   ]
  },
  {
   "cell_type": "code",
   "execution_count": null,
   "id": "c7ee29c0",
   "metadata": {},
   "outputs": [],
   "source": []
  },
  {
   "cell_type": "code",
   "execution_count": null,
   "id": "5bef37fb",
   "metadata": {},
   "outputs": [],
   "source": []
  }
 ],
 "metadata": {
  "kernelspec": {
   "display_name": "Python 3 (ipykernel)",
   "language": "python",
   "name": "python3"
  },
  "language_info": {
   "codemirror_mode": {
    "name": "ipython",
    "version": 3
   },
   "file_extension": ".py",
   "mimetype": "text/x-python",
   "name": "python",
   "nbconvert_exporter": "python",
   "pygments_lexer": "ipython3",
   "version": "3.9.6"
  }
 },
 "nbformat": 4,
 "nbformat_minor": 5
}

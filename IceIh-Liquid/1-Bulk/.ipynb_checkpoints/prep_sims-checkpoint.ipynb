{
 "cells": [
  {
   "cell_type": "markdown",
   "id": "9ccaf6fc",
   "metadata": {},
   "source": [
    "# Prepare simulations"
   ]
  },
  {
   "cell_type": "code",
   "execution_count": 9,
   "id": "fe85a236",
   "metadata": {},
   "outputs": [],
   "source": [
    "import numpy as np\n",
    "import os, sys"
   ]
  },
  {
   "cell_type": "markdown",
   "id": "02691f1d",
   "metadata": {},
   "source": [
    "### Pressure values for simulations"
   ]
  },
  {
   "cell_type": "code",
   "execution_count": null,
   "id": "a0f0fc58",
   "metadata": {},
   "outputs": [],
   "source": []
  },
  {
   "cell_type": "code",
   "execution_count": 39,
   "id": "06348187",
   "metadata": {},
   "outputs": [
    {
     "name": "stdout",
     "output_type": "stream",
     "text": [
      "[ 1.   2.9  4.8  6.7  8.6 10.5 12.4 14.3 16.2 18.1 20. ]\n"
     ]
    }
   ],
   "source": [
    "# Pressures in mpa\n",
    "P_mpa=np.linspace(10,200,11)\n",
    "\n",
    "# Pressures in bar\n",
    "P_bar=P_mpa/10\n",
    "print(P_bar)"
   ]
  },
  {
   "cell_type": "code",
   "execution_count": null,
   "id": "0d122583",
   "metadata": {},
   "outputs": [
    {
     "name": "stdout",
     "output_type": "stream",
     "text": [
      "sed -i \"s#variable .* pressure .*#variable        pressure equal 1.0#g\" IceIh_1.0bar/in.pressure\n",
      "sed -i \"s#variable .* pressure .*#variable        pressure equal 2.9#g\" IceIh_2.9bar/in.pressure\n",
      "sed -i \"s#variable .* pressure .*#variable        pressure equal 4.8#g\" IceIh_4.8bar/in.pressure\n",
      "sed -i \"s#variable .* pressure .*#variable        pressure equal 6.7#g\" IceIh_6.7bar/in.pressure\n",
      "sed -i \"s#variable .* pressure .*#variable        pressure equal 8.6#g\" IceIh_8.6bar/in.pressure\n",
      "sed -i \"s#variable .* pressure .*#variable        pressure equal 10.5#g\" IceIh_10.5bar/in.pressure\n",
      "sed -i \"s#variable .* pressure .*#variable        pressure equal 12.4#g\" IceIh_12.4bar/in.pressure\n",
      "sed -i \"s#variable .* pressure .*#variable        pressure equal 14.3#g\" IceIh_14.3bar/in.pressure\n",
      "sed -i \"s#variable .* pressure .*#variable        pressure equal 16.2#g\" IceIh_16.2bar/in.pressure\n",
      "sed -i \"s#variable .* pressure .*#variable        pressure equal 18.1#g\" IceIh_18.1bar/in.pressure\n",
      "sed -i \"s#variable .* pressure .*#variable        pressure equal 20.0#g\" IceIh_20.0bar/in.pressure\n"
     ]
    }
   ],
   "source": [
    "for i, pbar in enumerate(P_bar):\n",
    "    pbar=P_bar[i]\n",
    "    fold='IceIh_{}bar'.format(pbar)\n",
    "    os.system('cp -r IceIh {}'.format(fold))\n",
    "    cmd='sed -i \"s#variable .* pressure .*#variable        pressure equal {}#g\" {}/in.pressure'.format(pbar,fold)\n",
    "    print(cmd)\n",
    "    #os.system('sed -i \\'s#variable .*#variable        pressure equal {}#g\\' {}/in.pressure'.format(pbar,fold))\n",
    "    \n",
    "for i, pbar in enumerate(P_bar):\n",
    "    fold='Liquid_{}bar'.format(pbar)\n",
    "\n",
    "    os.system('cp -r Liquid {}'.format(fold))\n",
    "    #os.system('sed -i \\'s#variable .*#variable        pressure equal {}#g\\'{}/in.pressure'.format(pbar,fold))\n"
   ]
  },
  {
   "cell_type": "code",
   "execution_count": null,
   "id": "f9ade7c4",
   "metadata": {},
   "outputs": [],
   "source": []
  }
 ],
 "metadata": {
  "kernelspec": {
   "display_name": "Python 3 (ipykernel)",
   "language": "python",
   "name": "python3"
  },
  "language_info": {
   "codemirror_mode": {
    "name": "ipython",
    "version": 3
   },
   "file_extension": ".py",
   "mimetype": "text/x-python",
   "name": "python",
   "nbconvert_exporter": "python",
   "pygments_lexer": "ipython3",
   "version": "3.9.6"
  }
 },
 "nbformat": 4,
 "nbformat_minor": 5
}

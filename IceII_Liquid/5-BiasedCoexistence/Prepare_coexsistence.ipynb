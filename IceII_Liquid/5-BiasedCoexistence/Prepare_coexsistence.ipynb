{
 "cells": [
  {
   "cell_type": "markdown",
   "id": "b9f240a2",
   "metadata": {},
   "source": [
    "# Preparation of biased coexsistence simulations"
   ]
  },
  {
   "cell_type": "code",
   "execution_count": 2,
   "id": "fb21dd18",
   "metadata": {},
   "outputs": [],
   "source": [
    "import numpy as np, sys, os, glob\n",
    "import matplotlib.pylab as plt\n",
    "import MDAnalysis"
   ]
  },
  {
   "cell_type": "code",
   "execution_count": 15,
   "id": "99754d4d",
   "metadata": {},
   "outputs": [
    {
     "name": "stdout",
     "output_type": "stream",
     "text": [
      "['1000', '4000', '3000', '2000']\n"
     ]
    }
   ],
   "source": [
    "standard_sim=os.path.abspath('template')\n",
    "pressure=[f.split('/')[-1].replace('atm.data','').replace('water_','') for f in glob.glob('../4-PrepareCoexistenceConfiguration/COEX_BOXES/*')]\n",
    "print(pressure)"
   ]
  },
  {
   "cell_type": "code",
   "execution_count": 31,
   "id": "9fb55539",
   "metadata": {},
   "outputs": [],
   "source": [
    "sims = dict()\n",
    "for a in pressure:\n",
    "    fold='COEX_{}atm/template/'.format(a)\n",
    "    sims[fold] = dict()\n",
    "    sims[fold]['p']=float(a)\n",
    "    os.system('mkdir -p {}'.format(fold))\n",
    "    os.system('cp -r template/* {}'.format(fold))\n",
    "    os.system('cp -r ../4-PrepareCoexistenceConfiguration/COEX_BOXES/water_{}atm.data {}/water.data'.format(a,fold))\n",
    "    os.system('sed -i \"\"   \"s#variable .* pressure .*#variable        pressure equal {}#g\" {}/in.pressure'.format(a,fold))\n"
   ]
  },
  {
   "cell_type": "markdown",
   "id": "97e8ce86",
   "metadata": {},
   "source": [
    "### Setup different temperatures"
   ]
  },
  {
   "cell_type": "code",
   "execution_count": 44,
   "id": "86fd88fc",
   "metadata": {},
   "outputs": [
    {
     "data": {
      "image/png": "[encoded data removed]",
      "text/plain": [
       "<Figure size 432x288 with 1 Axes>"
      ]
     },
     "metadata": {
      "needs_background": "light"
     },
     "output_type": "display_data"
    }
   ],
   "source": [
    "tip4p_vega_data=np.genfromtxt('../2-Bulk/IceII_liquid_tip4p_pd.dat')\n",
    "#tip4p_vega_data=np.loadtxt('IceII_liquid_tip4p_pd.dat')\n",
    "tip4p_vega_data[:,0]+=20 #Add 20K to adjust from tip4p to tip4p/ice                                                                                                                                \n",
    "tip4p_vega_data[:,1]+=tip4p_vega_data[:,1]*0.986923 # to atm                                                                                                                                             \n",
    "tip4p_vega_data=tip4p_vega_data[np.argsort(tip4p_vega_data[:,1])]\n",
    "melt_fn = np.poly1d(np.polyfit(tip4p_vega_data[:,1], tip4p_vega_data[:,0], 3))\n",
    "\n",
    "Ps=np.linspace(0,4000,200)\n",
    "plt.plot(tip4p_vega_data[:,1],tip4p_vega_data[:,0])\n",
    "plt.plot(Ps,melt_fn(Ps))\n",
    "\n",
    "for fold in sims.keys():\n",
    "    p=sims[fold]['p']\n",
    "    T_m=melt_fn(p)\n",
    "    T_range=np.round((T_m+np.arange(-15,22.5,7.5))/7.5, decimals=0)*7.5\n",
    "    plt.scatter(p+T_range*0,T_range)#,marker='^')\n",
    "    sims[fold]['temps']=T_range\n",
    "\n",
    "\n"
   ]
  },
  {
   "cell_type": "code",
   "execution_count": 34,
   "id": "8cb45f4f",
   "metadata": {
    "scrolled": true
   },
   "outputs": [
    {
     "name": "stdout",
     "output_type": "stream",
     "text": [
      "mkdir -p COEX_1000atm//235.0K\n",
      "cp COEX_1000atm/template//* COEX_1000atm//235.0K/\n",
      "sed -i \"\"  \"s#variable.*temperature.*#variable        temperature equal 235.0#g\" COEX_1000atm//235.0K/in.temp\n",
      "sed -i \"\" \"s#TEMP=300#TEMP=235.0#g\" COEX_1000atm//235.0K/plumed*.dat\n",
      "mkdir -p COEX_1000atm//240.0K\n",
      "cp COEX_1000atm/template//* COEX_1000atm//240.0K/\n",
      "sed -i \"\"  \"s#variable.*temperature.*#variable        temperature equal 240.0#g\" COEX_1000atm//240.0K/in.temp\n",
      "sed -i \"\" \"s#TEMP=300#TEMP=240.0#g\" COEX_1000atm//240.0K/plumed*.dat\n",
      "mkdir -p COEX_1000atm//245.0K\n",
      "cp COEX_1000atm/template//* COEX_1000atm//245.0K/\n",
      "sed -i \"\"  \"s#variable.*temperature.*#variable        temperature equal 245.0#g\" COEX_1000atm//245.0K/in.temp\n",
      "sed -i \"\" \"s#TEMP=300#TEMP=245.0#g\" COEX_1000atm//245.0K/plumed*.dat\n",
      "mkdir -p COEX_1000atm//250.0K\n",
      "cp COEX_1000atm/template//* COEX_1000atm//250.0K/\n",
      "sed -i \"\"  \"s#variable.*temperature.*#variable        temperature equal 250.0#g\" COEX_1000atm//250.0K/in.temp\n",
      "sed -i \"\" \"s#TEMP=300#TEMP=250.0#g\" COEX_1000atm//250.0K/plumed*.dat\n",
      "mkdir -p COEX_1000atm//255.0K\n",
      "cp COEX_1000atm/template//* COEX_1000atm//255.0K/\n",
      "sed -i \"\"  \"s#variable.*temperature.*#variable        temperature equal 255.0#g\" COEX_1000atm//255.0K/in.temp\n",
      "sed -i \"\" \"s#TEMP=300#TEMP=255.0#g\" COEX_1000atm//255.0K/plumed*.dat\n",
      "mkdir -p COEX_4000atm//170.0K\n",
      "cp COEX_4000atm/template//* COEX_4000atm//170.0K/\n",
      "sed -i \"\"  \"s#variable.*temperature.*#variable        temperature equal 170.0#g\" COEX_4000atm//170.0K/in.temp\n",
      "sed -i \"\" \"s#TEMP=300#TEMP=170.0#g\" COEX_4000atm//170.0K/plumed*.dat\n",
      "mkdir -p COEX_4000atm//175.0K\n",
      "cp COEX_4000atm/template//* COEX_4000atm//175.0K/\n",
      "sed -i \"\"  \"s#variable.*temperature.*#variable        temperature equal 175.0#g\" COEX_4000atm//175.0K/in.temp\n",
      "sed -i \"\" \"s#TEMP=300#TEMP=175.0#g\" COEX_4000atm//175.0K/plumed*.dat\n",
      "mkdir -p COEX_4000atm//180.0K\n",
      "cp COEX_4000atm/template//* COEX_4000atm//180.0K/\n",
      "sed -i \"\"  \"s#variable.*temperature.*#variable        temperature equal 180.0#g\" COEX_4000atm//180.0K/in.temp\n",
      "sed -i \"\" \"s#TEMP=300#TEMP=180.0#g\" COEX_4000atm//180.0K/plumed*.dat\n",
      "mkdir -p COEX_4000atm//185.0K\n",
      "cp COEX_4000atm/template//* COEX_4000atm//185.0K/\n",
      "sed -i \"\"  \"s#variable.*temperature.*#variable        temperature equal 185.0#g\" COEX_4000atm//185.0K/in.temp\n",
      "sed -i \"\" \"s#TEMP=300#TEMP=185.0#g\" COEX_4000atm//185.0K/plumed*.dat\n",
      "mkdir -p COEX_4000atm//190.0K\n",
      "cp COEX_4000atm/template//* COEX_4000atm//190.0K/\n",
      "sed -i \"\"  \"s#variable.*temperature.*#variable        temperature equal 190.0#g\" COEX_4000atm//190.0K/in.temp\n",
      "sed -i \"\" \"s#TEMP=300#TEMP=190.0#g\" COEX_4000atm//190.0K/plumed*.dat\n",
      "mkdir -p COEX_3000atm//205.0K\n",
      "cp COEX_3000atm/template//* COEX_3000atm//205.0K/\n",
      "sed -i \"\"  \"s#variable.*temperature.*#variable        temperature equal 205.0#g\" COEX_3000atm//205.0K/in.temp\n",
      "sed -i \"\" \"s#TEMP=300#TEMP=205.0#g\" COEX_3000atm//205.0K/plumed*.dat\n",
      "mkdir -p COEX_3000atm//210.0K\n",
      "cp COEX_3000atm/template//* COEX_3000atm//210.0K/\n",
      "sed -i \"\"  \"s#variable.*temperature.*#variable        temperature equal 210.0#g\" COEX_3000atm//210.0K/in.temp\n",
      "sed -i \"\" \"s#TEMP=300#TEMP=210.0#g\" COEX_3000atm//210.0K/plumed*.dat\n",
      "mkdir -p COEX_3000atm//215.0K\n",
      "cp COEX_3000atm/template//* COEX_3000atm//215.0K/\n",
      "sed -i \"\"  \"s#variable.*temperature.*#variable        temperature equal 215.0#g\" COEX_3000atm//215.0K/in.temp\n",
      "sed -i \"\" \"s#TEMP=300#TEMP=215.0#g\" COEX_3000atm//215.0K/plumed*.dat\n",
      "mkdir -p COEX_3000atm//220.0K\n",
      "cp COEX_3000atm/template//* COEX_3000atm//220.0K/\n",
      "sed -i \"\"  \"s#variable.*temperature.*#variable        temperature equal 220.0#g\" COEX_3000atm//220.0K/in.temp\n",
      "sed -i \"\" \"s#TEMP=300#TEMP=220.0#g\" COEX_3000atm//220.0K/plumed*.dat\n",
      "mkdir -p COEX_3000atm//225.0K\n",
      "cp COEX_3000atm/template//* COEX_3000atm//225.0K/\n",
      "sed -i \"\"  \"s#variable.*temperature.*#variable        temperature equal 225.0#g\" COEX_3000atm//225.0K/in.temp\n",
      "sed -i \"\" \"s#TEMP=300#TEMP=225.0#g\" COEX_3000atm//225.0K/plumed*.dat\n",
      "mkdir -p COEX_2000atm//230.0K\n",
      "cp COEX_2000atm/template//* COEX_2000atm//230.0K/\n",
      "sed -i \"\"  \"s#variable.*temperature.*#variable        temperature equal 230.0#g\" COEX_2000atm//230.0K/in.temp\n",
      "sed -i \"\" \"s#TEMP=300#TEMP=230.0#g\" COEX_2000atm//230.0K/plumed*.dat\n",
      "mkdir -p COEX_2000atm//235.0K\n",
      "cp COEX_2000atm/template//* COEX_2000atm//235.0K/\n",
      "sed -i \"\"  \"s#variable.*temperature.*#variable        temperature equal 235.0#g\" COEX_2000atm//235.0K/in.temp\n",
      "sed -i \"\" \"s#TEMP=300#TEMP=235.0#g\" COEX_2000atm//235.0K/plumed*.dat\n",
      "mkdir -p COEX_2000atm//240.0K\n",
      "cp COEX_2000atm/template//* COEX_2000atm//240.0K/\n",
      "sed -i \"\"  \"s#variable.*temperature.*#variable        temperature equal 240.0#g\" COEX_2000atm//240.0K/in.temp\n",
      "sed -i \"\" \"s#TEMP=300#TEMP=240.0#g\" COEX_2000atm//240.0K/plumed*.dat\n",
      "mkdir -p COEX_2000atm//245.0K\n",
      "cp COEX_2000atm/template//* COEX_2000atm//245.0K/\n",
      "sed -i \"\"  \"s#variable.*temperature.*#variable        temperature equal 245.0#g\" COEX_2000atm//245.0K/in.temp\n",
      "sed -i \"\" \"s#TEMP=300#TEMP=245.0#g\" COEX_2000atm//245.0K/plumed*.dat\n",
      "mkdir -p COEX_2000atm//250.0K\n",
      "cp COEX_2000atm/template//* COEX_2000atm//250.0K/\n",
      "sed -i \"\"  \"s#variable.*temperature.*#variable        temperature equal 250.0#g\" COEX_2000atm//250.0K/in.temp\n",
      "sed -i \"\" \"s#TEMP=300#TEMP=250.0#g\" COEX_2000atm//250.0K/plumed*.dat\n"
     ]
    }
   ],
   "source": [
    "for fold in sims.keys():\n",
    "    sim=sims[fold]\n",
    "    for t in sim['temps']:\n",
    "        temp_fold = '{}{}K'.format(fold.replace('template',''),t)\n",
    "        cmd='mkdir -p {}\\n'.format(temp_fold)\n",
    "        cmd+='cp {}/* {}/\\n'.format(fold,temp_fold)\n",
    "        cmd+='sed -i \"\"  \\\"s#variable.*temperature.*#variable        temperature equal {}#g\\\" {}/in.temp\\n'.format(t,temp_fold)\n",
    "        cmd+='sed -i \"\" \\\"s#TEMP=300#TEMP={}#g\\\" {}/plumed*.dat'.format(t,temp_fold)\n",
    "        \n",
    "        #cmd+='sed -i \\\"s#variable.*temperature.*#variable        temperature equal {}#g\\\" {}/in.temp'.format(t,temp_fold)\n",
    "        print(cmd)\n",
    "        os.system(cmd)"
   ]
  },
  {
   "cell_type": "markdown",
   "id": "9b4b8215",
   "metadata": {},
   "source": [
    "### Convert notebook to python script"
   ]
  },
  {
   "cell_type": "code",
   "execution_count": 49,
   "id": "56fda0cc",
   "metadata": {},
   "outputs": [
    {
     "name": "stdout",
     "output_type": "stream",
     "text": [
      "[NbConvertApp] Converting notebook Prepare_coexsistence.ipynb to script\n",
      "[NbConvertApp] Writing 4427 bytes to Prepare_coexsistence.py\n"
     ]
    }
   ],
   "source": [
    "!jupyter nbconvert --to script Prepare_coexsistence.ipynb\n",
    "!sed -i '' 's/\"\"//g' Prepare_coexsistence.py\n"
   ]
  },
  {
   "cell_type": "code",
   "execution_count": null,
   "id": "816c72c5",
   "metadata": {},
   "outputs": [],
   "source": []
  }
 ],
 "metadata": {
  "kernelspec": {
   "display_name": "Python 3 (ipykernel)",
   "language": "python",
   "name": "python3"
  },
  "language_info": {
   "codemirror_mode": {
    "name": "ipython",
    "version": 3
   },
   "file_extension": ".py",
   "mimetype": "text/x-python",
   "name": "python",
   "nbconvert_exporter": "python",
   "pygments_lexer": "ipython3",
   "version": "3.9.6"
  }
 },
 "nbformat": 4,
 "nbformat_minor": 5
}

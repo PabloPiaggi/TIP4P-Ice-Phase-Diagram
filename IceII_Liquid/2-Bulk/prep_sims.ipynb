{
 "cells": [
  {
   "cell_type": "markdown",
   "id": "85c080b8",
   "metadata": {},
   "source": [
    "# Prepare simulations"
   ]
  },
  {
   "cell_type": "code",
   "execution_count": 1,
   "id": "8bd4ff7d",
   "metadata": {},
   "outputs": [],
   "source": [
    "import numpy as np\n",
    "import matplotlib.pylab as plt\n",
    "import os, sys"
   ]
  },
  {
   "cell_type": "code",
   "execution_count": 2,
   "id": "29d8368c",
   "metadata": {},
   "outputs": [
    {
     "data": {
      "text/plain": [
       "Text(0, 0.5, 'P/atm')"
      ]
     },
     "execution_count": 2,
     "metadata": {},
     "output_type": "execute_result"
    },
    {
     "data": {
      "image/png": "[encoded data removed]",
      "text/plain": [
       "<Figure size 432x288 with 1 Axes>"
      ]
     },
     "metadata": {
      "needs_background": "light"
     },
     "output_type": "display_data"
    }
   ],
   "source": [
    "ice='IceII'\n",
    "vega_line=np.loadtxt('IceII_liquid_tip4p_pd.dat')\n",
    "vega_line[:,0]+=20 #Add 20K to adjust from tip4p to tip4p/ice\n",
    "vega_line[:,1]+=vega_line[:,1]*0.986923 # to atm\n",
    "vega_line=vega_line[np.argsort(vega_line[:,1])]\n",
    "plt.plot(vega_line[:,0],vega_line[:,1]*10)\n",
    "plt.xlabel('T/K')\n",
    "plt.ylabel('P/atm')"
   ]
  },
  {
   "cell_type": "markdown",
   "id": "66476abe",
   "metadata": {},
   "source": [
    "### Pressure values for simulations"
   ]
  },
  {
   "cell_type": "code",
   "execution_count": 3,
   "id": "01b6e019",
   "metadata": {
    "scrolled": true
   },
   "outputs": [
    {
     "name": "stdout",
     "output_type": "stream",
     "text": [
      "1000\n",
      "2000\n",
      "3000\n",
      "4000\n"
     ]
    }
   ],
   "source": [
    "\n",
    "P_atm=[1000, 2000, 3000,4000] \n",
    "for p in P_atm:\n",
    "    print(p)"
   ]
  },
  {
   "cell_type": "markdown",
   "id": "e8fde166",
   "metadata": {},
   "source": [
    "### Make simulation folders"
   ]
  },
  {
   "cell_type": "code",
   "execution_count": 4,
   "id": "4fdb047a",
   "metadata": {},
   "outputs": [],
   "source": [
    "for i, patm in enumerate(P_atm):\n",
    "    patm=P_atm[i]\n",
    "    fold=ice+'_{}atm'.format(patm)\n",
    "    os.system('cp -r {} {}'.format(ice,fold))\n",
    "    cmd='sed -i \"\" \"s#variable .* pressure .*#variable        pressure equal {}#g\" {}/in.pressure'.format(patm,fold)\n",
    "    os.system(cmd)\n",
    "for i, patm in enumerate(P_atm):\n",
    "    patm=P_atm[i]\n",
    "    fold='Liquid_{}atm'.format(patm)\n",
    "    os.system('cp -r Liquid {}'.format(fold))\n",
    "    cmd='sed -i \"\" \"s#variable .* pressure .*#variable        pressure equal {}#g\" {}/in.pressure'.format(patm,fold)\n",
    "    os.system(cmd)\n"
   ]
  },
  {
   "cell_type": "markdown",
   "id": "af543e8b",
   "metadata": {},
   "source": []
  },
  {
   "cell_type": "code",
   "execution_count": 6,
   "id": "fa4a04bc",
   "metadata": {},
   "outputs": [
    {
     "name": "stdout",
     "output_type": "stream",
     "text": [
      "[NbConvertApp] Converting notebook prep_sims.ipynb to script\n",
      "[NbConvertApp] Writing 1252 bytes to prep_sims.py\n"
     ]
    }
   ],
   "source": [
    "!jupyter nbconvert --to script prep_sims.ipynb"
   ]
  },
  {
   "cell_type": "code",
   "execution_count": null,
   "id": "ec70461e",
   "metadata": {},
   "outputs": [],
   "source": []
  }
 ],
 "metadata": {
  "kernelspec": {
   "display_name": "Python 3 (ipykernel)",
   "language": "python",
   "name": "python3"
  },
  "language_info": {
   "codemirror_mode": {
    "name": "ipython",
    "version": 3
   },
   "file_extension": ".py",
   "mimetype": "text/x-python",
   "name": "python",
   "nbconvert_exporter": "python",
   "pygments_lexer": "ipython3",
   "version": "3.9.6"
  }
 },
 "nbformat": 4,
 "nbformat_minor": 5
}

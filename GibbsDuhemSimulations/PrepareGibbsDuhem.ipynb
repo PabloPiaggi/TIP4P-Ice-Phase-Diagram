{
 "cells": [
  {
   "cell_type": "markdown",
   "id": "c86d4447",
   "metadata": {},
   "source": [
    "# Prepare Gibbs-Duhem Simulations"
   ]
  },
  {
   "cell_type": "code",
   "execution_count": 4,
   "id": "19090c49",
   "metadata": {},
   "outputs": [],
   "source": [
    "import os, sys \n",
    "import numpy as np"
   ]
  },
  {
   "cell_type": "code",
   "execution_count": 5,
   "id": "85809328",
   "metadata": {},
   "outputs": [],
   "source": [
    "settings=dict()\n",
    "\n",
    "settings['--step']=250\n",
    "settings['--initial_equilibration_steps']=500000\n",
    "settings['--steps_per_sim']=500000\n",
    "\n",
    "settings['--percent_equilibration']=25.0\n",
    "settings['--lmp_exe']='$LAMMPS_INTEL'\n",
    "settings['--run_cmd']='\"export OMP_NUM_THREADS=2;mpirun -n 48\"'\n",
    "settings['--lmp_options']='\" -sf omp -partition 2x24 \"'\n",
    "\n",
    "settings['--root_fold']='./'\n",
    "\n",
    "settings_T=settings.copy()\n",
    "settings_T['--integration_variable']= 'T'\n",
    "settings_T['--step']=5\n",
    "\n",
    "settings_II=settings.copy()\n",
    "settings['--initial_equilibration_steps']=1000000\n",
    "settings['--steps_per_sim']=500000"
   ]
  },
  {
   "cell_type": "code",
   "execution_count": 6,
   "id": "4f26a3e6",
   "metadata": {},
   "outputs": [],
   "source": [
    "def PrepSingleSim(setttings_temp,dir_name,left_phase,right_phase,pm,tm,pmin,pmax):\n",
    "    dir_name=dir_name+'/'\n",
    "    # Create simulation dir\n",
    "    root_folder=dir_name+'/'+str(pm)+'atm'+'_'+str(tm)+'K'\n",
    "    os.makedirs(dir_name, exist_ok=True)#s.system('mkdir  {}'.format(dir_name))\n",
    "    os.makedirs(dir_name+'/Initial', exist_ok=True)\n",
    "    os.makedirs(root_folder, exist_ok=True)\n",
    "\n",
    "    os.system('cp integrate.py ' + dir_name)\n",
    "    initial='Initial/'\n",
    "    os.system('cp -r InitialConfigurations/{} {}{}'.format(left_phase,dir_name, initial) )\n",
    "    os.system('cp -r InitialConfigurations/{} {}{}'.format(right_phase,dir_name, initial))\n",
    "\n",
    "    \n",
    "    \n",
    "    # Setup command for running\n",
    "\n",
    "    setttings_temp['--end_variable']=str(pmax)\n",
    "    setttings_temp['--initial_point_folder']='../'+initial\n",
    "    setttings_temp['--left']=left_phase\n",
    "    setttings_temp['--right']=right_phase\n",
    "    setttings_temp['--initial_TP']=str(tm)+' '+str(pm) \n",
    "    arguments=' '.join(['{} {}'.format(t,setttings_temp[t]) for t in setttings_temp])\n",
    "    \n",
    "    # Upwards\n",
    "    arguments=' '.join(['{} {}'.format(t,setttings_temp[t]) for t in setttings_temp])\n",
    "    command = 'python3 ../integrate.py {}\\n'.format(arguments) \n",
    "    \n",
    "    #Downwards\n",
    "    setttings_temp['--end_variable']=str(pmin)\n",
    "    arguments=' '.join(['{} {}'.format(t,setttings_temp[t]) for t in setttings_temp])\n",
    "    command += 'python3 ../integrate.py {}\\n'.format(arguments) \n",
    "    \n",
    "    with open(root_folder+'/script.sh','w') as fp:\n",
    "        fp.write(command)\n",
    "    "
   ]
  },
  {
   "cell_type": "markdown",
   "id": "756a7478",
   "metadata": {},
   "source": [
    "### IceIh-Liquid"
   ]
  },
  {
   "cell_type": "code",
   "execution_count": 11,
   "id": "3d3a13ae",
   "metadata": {},
   "outputs": [
    {
     "name": "stdout",
     "output_type": "stream",
     "text": [
      "[  0.  269.5]\n",
      "[1000.   259.3]\n",
      "[2000.   246.3]\n",
      "[2500.   236.5]\n",
      "[3000.   217.3]\n"
     ]
    }
   ],
   "source": [
    "for PT in np.loadtxt('../IceIh-Liquid/4-BiasedCoexistence/P_T.dat'):\n",
    "    print(PT)\n",
    "    PrepSingleSim(settings,'IceIh_Liquid/','IceIh','Liquid',PT[0],PT[1],-5000,4000)"
   ]
  },
  {
   "cell_type": "markdown",
   "id": "e6b98098",
   "metadata": {},
   "source": [
    "## IceII-Liquid"
   ]
  },
  {
   "cell_type": "code",
   "execution_count": 5,
   "id": "a21c6b8c",
   "metadata": {},
   "outputs": [
    {
     "name": "stdout",
     "output_type": "stream",
     "text": [
      "[1.000e+03 2.368e+02 5.800e+00 2.429e-02]\n",
      "[2.000e+03 2.396e+02 4.600e+00 1.902e-02]\n",
      "[5.000e+03 2.486e+02 4.000e+00 1.610e-02]\n"
     ]
    }
   ],
   "source": [
    "for PT in np.loadtxt('../../../TMP_SIMULATIONS/IceII_liquidv2/5-BiasedCoexistencev2/P_T.dat'):\n",
    "    print(PT)\n",
    "\n",
    "    PrepSingleSim(settings_II,'IceII_Liquid_2nd/','IceII','Liquid',PT[0],PT[1],0,8000)"
   ]
  },
  {
   "cell_type": "markdown",
   "id": "8dff1329",
   "metadata": {},
   "source": [
    "## IceIII-Liquid"
   ]
  },
  {
   "cell_type": "code",
   "execution_count": 1,
   "id": "1ab4f0ed",
   "metadata": {},
   "outputs": [
    {
     "ename": "NameError",
     "evalue": "name 'np' is not defined",
     "output_type": "error",
     "traceback": [
      "\u001b[0;31m---------------------------------------------------------------------------\u001b[0m",
      "\u001b[0;31mNameError\u001b[0m                                 Traceback (most recent call last)",
      "Input \u001b[0;32mIn [1]\u001b[0m, in \u001b[0;36m<cell line: 1>\u001b[0;34m()\u001b[0m\n\u001b[0;32m----> 1\u001b[0m \u001b[38;5;28;01mfor\u001b[39;00m PT \u001b[38;5;129;01min\u001b[39;00m \u001b[43mnp\u001b[49m\u001b[38;5;241m.\u001b[39mloadtxt(\u001b[38;5;124m'\u001b[39m\u001b[38;5;124m../../../TMP_SIMULATIONS/IceII_liquidv2/5-BiasedCoexistencev2/P_T.dat\u001b[39m\u001b[38;5;124m'\u001b[39m):\n\u001b[1;32m      2\u001b[0m     \u001b[38;5;28mprint\u001b[39m(PT)\n\u001b[1;32m      3\u001b[0m     PrepSingleSim(settings,\u001b[38;5;124m'\u001b[39m\u001b[38;5;124mIceIII_Liquid_2nd/\u001b[39m\u001b[38;5;124m'\u001b[39m,\u001b[38;5;124m'\u001b[39m\u001b[38;5;124mIceIII\u001b[39m\u001b[38;5;124m'\u001b[39m,\u001b[38;5;124m'\u001b[39m\u001b[38;5;124mLiquid\u001b[39m\u001b[38;5;124m'\u001b[39m,PT[\u001b[38;5;241m0\u001b[39m],PT[\u001b[38;5;241m1\u001b[39m],\u001b[38;5;241m0\u001b[39m,\u001b[38;5;241m10000\u001b[39m)\n",
      "\u001b[0;31mNameError\u001b[0m: name 'np' is not defined"
     ]
    }
   ],
   "source": [
    "for PT in np.loadtxt('../../../TMP_SIMULATIONS/IceIII_liquid_v2/5-BiasedCoexistence//P_T.dat'):\n",
    "    print(PT)\n",
    "    PrepSingleSim(settings,'IceIII_Liquid_2nd/','IceIII','Liquid',PT[0],PT[1],0,10000)"
   ]
  },
  {
   "cell_type": "markdown",
   "id": "e4fde3fd",
   "metadata": {},
   "source": [
    "## IceV-Liquid"
   ]
  },
  {
   "cell_type": "code",
   "execution_count": null,
   "id": "fcf1d52b",
   "metadata": {
    "scrolled": true
   },
   "outputs": [],
   "source": [
    "for PT in np.loadtxt('../IceV-Liquid/4-BiasedCoexistence/P_T.dat'):\n",
    "    print(PT)\n",
    "    PrepSingleSim(settings,'IceV_Liquid/','IceV','Liquid',PT[0],PT[1],2000,12000)"
   ]
  },
  {
   "cell_type": "markdown",
   "id": "441e22cb",
   "metadata": {},
   "source": [
    "## IceVI-Liquid"
   ]
  },
  {
   "cell_type": "code",
   "execution_count": 6,
   "id": "08e2fe85",
   "metadata": {
    "scrolled": true
   },
   "outputs": [
    {
     "name": "stdout",
     "output_type": "stream",
     "text": [
      "[8.000e+03 2.605e+02 4.000e+00 1.542e-02]\n",
      "[9.000e+03 2.683e+02 4.400e+00 1.625e-02]\n",
      "[1.000e+04 2.751e+02 4.800e+00 1.752e-02]\n",
      "[1.200e+04 2.876e+02 5.000e+00 1.751e-02]\n"
     ]
    }
   ],
   "source": [
    "for PT in np.loadtxt('../../../TMP_SIMULATIONS/IceVI_liquid_v2/5-BiasedCoexistence//P_T.dat'):\n",
    "    print(PT)\n",
    "    PrepSingleSim(settings,'IceVI_Liquid_2nd/','IceVI','Liquid',PT[0],PT[1],6000,13000)"
   ]
  },
  {
   "cell_type": "markdown",
   "id": "d14e44e5",
   "metadata": {},
   "source": [
    "## IceVI-IceV"
   ]
  },
  {
   "cell_type": "code",
   "execution_count": 9,
   "id": "90c94382",
   "metadata": {},
   "outputs": [],
   "source": [
    "with open('../FullPhaseDiagram/triple_points.dat','r') as fp:\n",
    "    lines=fp.readlines()\n",
    "    \n",
    "    for line in lines:\n",
    "        PT=line.split()\n",
    "        if 'Liquid IceV IceVI' in line:\n",
    "            PrepSingleSim(settings_T,'IceVI_IceV_2nd/','IceVI','IceV',float(PT[-1]),float(PT[-2]),50,280)"
   ]
  },
  {
   "cell_type": "markdown",
   "id": "6feab3dd",
   "metadata": {},
   "source": [
    "## IceIII IceV"
   ]
  },
  {
   "cell_type": "code",
   "execution_count": 10,
   "id": "38f0a0ba",
   "metadata": {},
   "outputs": [],
   "source": [
    "with open('../FullPhaseDiagram/triple_points.dat','r') as fp:\n",
    "    lines=fp.readlines()\n",
    "    \n",
    "    for line in lines:\n",
    "        PT=line.split()\n",
    "        if 'Liquid IceIII IceV' in line:\n",
    "            PrepSingleSim(settings_T,'IceV_IceIII_2nd/','IceV','IceIII',float(PT[-1]),float(PT[-2]),50,280)"
   ]
  },
  {
   "cell_type": "markdown",
   "id": "26fda7fa",
   "metadata": {},
   "source": [
    "## IceII IceIh"
   ]
  },
  {
   "cell_type": "code",
   "execution_count": 5,
   "id": "f7d81725",
   "metadata": {},
   "outputs": [],
   "source": [
    "with open('../FullPhaseDiagram/triple_points.dat','r') as fp:\n",
    "    lines=fp.readlines()\n",
    "    \n",
    "    for line in lines:\n",
    "        PT=line.split()\n",
    "        if 'Liquid IceIh IceII' in line:\n",
    "            PrepSingleSim(settings_T,'IceII_IceIh_2nd/','IceII','IceIh',float(PT[-1]),float(PT[-2]),0,250)"
   ]
  },
  {
   "cell_type": "markdown",
   "id": "7249f2c6",
   "metadata": {},
   "source": [
    "## IceIII IceIh"
   ]
  },
  {
   "cell_type": "code",
   "execution_count": 7,
   "id": "55c71fa8",
   "metadata": {},
   "outputs": [],
   "source": [
    "with open('../FullPhaseDiagram/triple_points.dat','r') as fp:\n",
    "    lines=fp.readlines()\n",
    "    \n",
    "    for line in lines:\n",
    "        PT=line.split()\n",
    "        if 'Liquid IceIII IceIh' in line:\n",
    "            PrepSingleSim(settings_T,'IceIh_IceIII_2nd/','IceIh','IceIII',float(PT[-1]),float(PT[-2]),0,250)"
   ]
  },
  {
   "cell_type": "markdown",
   "id": "9c3717fe",
   "metadata": {},
   "source": [
    "## IceII IceIII"
   ]
  },
  {
   "cell_type": "code",
   "execution_count": 14,
   "id": "f5812a63",
   "metadata": {},
   "outputs": [],
   "source": [
    "with open('../FullPhaseDiagram/triple_points.dat','r') as fp:\n",
    "    lines=fp.readlines()\n",
    "    \n",
    "    for line in lines:\n",
    "        PT=line.split()\n",
    "        if 'IceII IceIII IceV' in line or 'IceII IceIh IceIII' in line:\n",
    "            PrepSingleSim(settings,'IceII_IceIII_2nd/','IceII','IceIII',float(PT[-1]),float(PT[-2]),12000,-2000)"
   ]
  },
  {
   "cell_type": "markdown",
   "id": "8b8332fc",
   "metadata": {},
   "source": [
    "## IceII IceV"
   ]
  },
  {
   "cell_type": "code",
   "execution_count": 11,
   "id": "16afb71b",
   "metadata": {},
   "outputs": [],
   "source": [
    "with open('../FullPhaseDiagram/triple_points.dat','r') as fp:\n",
    "    lines=fp.readlines()\n",
    "    \n",
    "    for line in lines:\n",
    "        PT=line.split()\n",
    "        if 'IceII IceIII IceV' in line:\n",
    "            PrepSingleSim(settings_T,'IceII_IceV_2nd/','IceII','IceV',float(PT[-1]),float(PT[-2]),300,0)"
   ]
  },
  {
   "cell_type": "markdown",
   "id": "f6791b7f",
   "metadata": {},
   "source": [
    "## IceII IceVI"
   ]
  },
  {
   "cell_type": "code",
   "execution_count": 15,
   "id": "d2dea68c",
   "metadata": {},
   "outputs": [],
   "source": [
    "with open('../FullPhaseDiagram/triple_points.dat','r') as fp:\n",
    "    lines=fp.readlines()\n",
    "    \n",
    "    for line in lines:\n",
    "        PT=line.split()\n",
    "        if 'IceII IceV IceVI' in line:\n",
    "            PrepSingleSim(settings_T,'IceII_IceVI_2nd/','IceII','IceVI',float(PT[-1]),float(PT[-2]),300,0)"
   ]
  },
  {
   "cell_type": "markdown",
   "id": "6a736e27",
   "metadata": {},
   "source": [
    "## IceII IceVI v2"
   ]
  },
  {
   "cell_type": "code",
   "execution_count": 10,
   "id": "0f0c4250",
   "metadata": {},
   "outputs": [],
   "source": [
    "with open('../FullPhaseDiagram/triple_points.dat','r') as fp:\n",
    "    lines=fp.readlines()\n",
    "    \n",
    "    for line in lines:\n",
    "        PT=line.split()\n",
    "        if 'Liquid IceII IceVI' in line:\n",
    "            PrepSingleSim(settings_T,'IceII_IceVI_v2/','IceII','IceVI',float(PT[-1]),float(PT[-2]),300,0)"
   ]
  },
  {
   "cell_type": "markdown",
   "id": "386c13f8",
   "metadata": {},
   "source": [
    "## IceII IceV"
   ]
  },
  {
   "cell_type": "code",
   "execution_count": 4,
   "id": "e90892c0",
   "metadata": {},
   "outputs": [],
   "source": [
    "with open('../FullPhaseDiagram/triple_points.dat','r') as fp:\n",
    "    lines=fp.readlines()\n",
    "    \n",
    "    for line in lines:\n",
    "        PT=line.split()\n",
    "        if 'Liquid IceII IceV' in line:\n",
    "            PrepSingleSim(settings_T,'IceII_IceV_2nd/','IceII','IceV',float(PT[-1]),float(PT[-2]),300,0)"
   ]
  },
  {
   "cell_type": "code",
   "execution_count": null,
   "id": "3e367845",
   "metadata": {},
   "outputs": [],
   "source": []
  },
  {
   "cell_type": "code",
   "execution_count": null,
   "id": "c00cd2f8",
   "metadata": {
    "scrolled": true
   },
   "outputs": [],
   "source": [
    "!jupyter nbconvert --to script PrepareGibbsDuhem.ipynb"
   ]
  }
 ],
 "metadata": {
  "kernelspec": {
   "display_name": "Python 3 (ipykernel)",
   "language": "python",
   "name": "python3"
  },
  "language_info": {
   "codemirror_mode": {
    "name": "ipython",
    "version": 3
   },
   "file_extension": ".py",
   "mimetype": "text/x-python",
   "name": "python",
   "nbconvert_exporter": "python",
   "pygments_lexer": "ipython3",
   "version": "3.9.12"
  }
 },
 "nbformat": 4,
 "nbformat_minor": 5
}

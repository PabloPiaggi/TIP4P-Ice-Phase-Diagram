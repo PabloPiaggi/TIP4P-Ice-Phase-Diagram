{
 "cells": [
  {
   "cell_type": "markdown",
   "id": "b9f240a2",
   "metadata": {},
   "source": [
    "# Preparation of initial box for coexsistence simulations"
   ]
  },
  {
   "cell_type": "code",
   "execution_count": 1,
   "id": "fb21dd18",
   "metadata": {},
   "outputs": [],
   "source": [
    "import numpy as np, sys, os, glob\n",
    "import matplotlib.pylab as plt\n",
    "import MDAnalysis\n",
    "from MDAnalysis import transformations\n",
    "import json, pickle"
   ]
  },
  {
   "cell_type": "code",
   "execution_count": null,
   "id": "c18ef655",
   "metadata": {},
   "outputs": [],
   "source": []
  },
  {
   "cell_type": "markdown",
   "id": "7f2f5614",
   "metadata": {},
   "source": [
    "## Setup half-melted simulation box"
   ]
  },
  {
   "cell_type": "code",
   "execution_count": 2,
   "id": "0ff1b4ec",
   "metadata": {},
   "outputs": [
    {
     "name": "stdout",
     "output_type": "stream",
     "text": [
      "{'in.temp': {'T': 230}, 'in.pressure': {'P': 1000}, 'start.lmp': {'meltPoint': 'variable\\tmeltPt equal (xlo)+(lx)/2.0', 'meltRegion': 'region\\t\\tmeltReg prism ${meltPt} ${xhi} ${ylo} ${yhi} ${zlo} ${zhi} ${xy} ${xz} ${yz}', 'direction': 'y', 'barostat': 'aniso'}, 'in.box': {'boxOption': ''}}\n"
     ]
    }
   ],
   "source": [
    "with open('halfMeltedSettings.json','r') as fp:\n",
    "    meltSettings = json.load(fp,strict=False)\n",
    "print(meltSettings)"
   ]
  },
  {
   "cell_type": "code",
   "execution_count": 5,
   "id": "9efb7242",
   "metadata": {},
   "outputs": [
    {
     "data": {
      "text/plain": [
       "2"
      ]
     },
     "execution_count": 5,
     "metadata": {},
     "output_type": "execute_result"
    }
   ],
   "source": [
    "os.system('cp -r HalfMeltedTemplate HalfMeltedEquilibrated')\n",
    "os.system('cp -r InitialIce/ice.data HalfMeltedEquilibrated/')\n",
    "os.system('cp -r HalfMeltedEquilibrated/melt.lmp HalfMeltedEquilibrated/start.lmp')"
   ]
  },
  {
   "cell_type": "code",
   "execution_count": 4,
   "id": "1749b7f5",
   "metadata": {},
   "outputs": [
    {
     "ename": "FileNotFoundError",
     "evalue": "[Errno 2] No such file or directory: 'HalfMeltedEquilibrated/start.lmp'",
     "output_type": "error",
     "traceback": [
      "\u001b[0;31m---------------------------------------------------------------------------\u001b[0m",
      "\u001b[0;31mFileNotFoundError\u001b[0m                         Traceback (most recent call last)",
      "\u001b[0;32m/var/folders/gk/bdqkskqj2fv8dk9kgrxm5psh0000gn/T/ipykernel_23810/3441185796.py\u001b[0m in \u001b[0;36m<module>\u001b[0;34m\u001b[0m\n\u001b[1;32m      1\u001b[0m \u001b[0;32mfor\u001b[0m \u001b[0mkey\u001b[0m \u001b[0;32min\u001b[0m \u001b[0mmeltSettings\u001b[0m\u001b[0;34m.\u001b[0m\u001b[0mkeys\u001b[0m\u001b[0;34m(\u001b[0m\u001b[0;34m)\u001b[0m\u001b[0;34m:\u001b[0m\u001b[0;34m\u001b[0m\u001b[0;34m\u001b[0m\u001b[0m\n\u001b[0;32m----> 2\u001b[0;31m     \u001b[0;32mwith\u001b[0m \u001b[0mopen\u001b[0m\u001b[0;34m(\u001b[0m\u001b[0;34m'HalfMeltedEquilibrated/{}'\u001b[0m\u001b[0;34m.\u001b[0m\u001b[0mformat\u001b[0m\u001b[0;34m(\u001b[0m\u001b[0mkey\u001b[0m\u001b[0;34m)\u001b[0m\u001b[0;34m,\u001b[0m\u001b[0;34m'r'\u001b[0m\u001b[0;34m)\u001b[0m \u001b[0;32mas\u001b[0m \u001b[0mfp\u001b[0m\u001b[0;34m:\u001b[0m\u001b[0;34m\u001b[0m\u001b[0;34m\u001b[0m\u001b[0m\n\u001b[0m\u001b[1;32m      3\u001b[0m         \u001b[0mlines\u001b[0m\u001b[0;34m=\u001b[0m\u001b[0mfp\u001b[0m\u001b[0;34m.\u001b[0m\u001b[0mread\u001b[0m\u001b[0;34m(\u001b[0m\u001b[0;34m)\u001b[0m\u001b[0;34m\u001b[0m\u001b[0;34m\u001b[0m\u001b[0m\n\u001b[1;32m      4\u001b[0m     \u001b[0mlines\u001b[0m\u001b[0;34m=\u001b[0m\u001b[0mlines\u001b[0m\u001b[0;34m.\u001b[0m\u001b[0mformat\u001b[0m\u001b[0;34m(\u001b[0m\u001b[0;34m**\u001b[0m\u001b[0mmeltSettings\u001b[0m\u001b[0;34m[\u001b[0m\u001b[0mkey\u001b[0m\u001b[0;34m]\u001b[0m\u001b[0;34m)\u001b[0m\u001b[0;34m\u001b[0m\u001b[0;34m\u001b[0m\u001b[0m\n\u001b[1;32m      5\u001b[0m     \u001b[0;32mwith\u001b[0m \u001b[0mopen\u001b[0m\u001b[0;34m(\u001b[0m\u001b[0;34m'HalfMeltedEquilibrated/{}'\u001b[0m\u001b[0;34m.\u001b[0m\u001b[0mformat\u001b[0m\u001b[0;34m(\u001b[0m\u001b[0mkey\u001b[0m\u001b[0;34m)\u001b[0m\u001b[0;34m,\u001b[0m\u001b[0;34m'w'\u001b[0m\u001b[0;34m)\u001b[0m \u001b[0;32mas\u001b[0m \u001b[0mfp\u001b[0m\u001b[0;34m:\u001b[0m\u001b[0;34m\u001b[0m\u001b[0;34m\u001b[0m\u001b[0m\n",
      "\u001b[0;31mFileNotFoundError\u001b[0m: [Errno 2] No such file or directory: 'HalfMeltedEquilibrated/start.lmp'"
     ]
    }
   ],
   "source": [
    "for key in meltSettings.keys():\n",
    "    with open('HalfMeltedEquilibrated/{}'.format(key),'r') as fp:\n",
    "        lines=fp.read()\n",
    "    lines=lines.format(**meltSettings[key])\n",
    "    with open('HalfMeltedEquilibrated/{}'.format(key),'w') as fp:\n",
    "        fp.write(lines)"
   ]
  },
  {
   "cell_type": "markdown",
   "id": "90cf0ada",
   "metadata": {},
   "source": [
    "Run simulation to equilibrate structure."
   ]
  },
  {
   "cell_type": "markdown",
   "id": "e7be8f5a",
   "metadata": {},
   "source": [
    "## Setup pressures and temperatures "
   ]
  },
  {
   "cell_type": "code",
   "execution_count": 76,
   "id": "354f1f9a",
   "metadata": {},
   "outputs": [
    {
     "name": "stdout",
     "output_type": "stream",
     "text": [
      "{'PT': {'1000': [240, 245, 250, 255, 260], '2000': [240, 245, 250, 255, 260], '3000': [240, 245, 250, 255, 260]}, 'start.lmp': {'direction': 'x', 'barostat': 'tric'}, 'in.box': {'boxOption': 'box tilt large'}}\n"
     ]
    }
   ],
   "source": [
    "with open('coexIceSettings.json','r') as fp:\n",
    "    coexSettings = json.load(fp,strict=False)\n",
    "print(coexSettings)"
   ]
  },
  {
   "cell_type": "code",
   "execution_count": 77,
   "id": "99754d4d",
   "metadata": {},
   "outputs": [],
   "source": [
    "os.system('mkdir -p EquilIce')\n",
    "for P in coexSettings['PT'].keys():\n",
    "    for T in coexSettings['PT'][P]:\n",
    "        new_fold='EquilIce/{}_{}/'.format(P,T)\n",
    "        os.system('mkdir -p {}'.format(new_fold))\n",
    "        os.system('cp -r HalfMeltedTemplate/* {}'.format(new_fold))\n",
    "        os.system('cp -r InitialIce/ice.data {}'.format(new_fold))\n",
    "        os.system('cp -r {}/equil.lmp {}/start.lmp'.format(new_fold,new_fold))\n",
    "        \n",
    "        with open('{}/in.pressure'.format(new_fold),'r') as fp:\n",
    "            lines=fp.read()\n",
    "        lines=lines.format(P=P)\n",
    "        with open('{}/in.pressure'.format(new_fold),'w') as fp:\n",
    "            fp.write(lines)\n",
    "            \n",
    "        with open('{}/in.temp'.format(new_fold),'r') as fp:\n",
    "            lines=fp.read()\n",
    "        lines=lines.format(T=T)\n",
    "        with open('{}/in.temp'.format(new_fold),'w') as fp:\n",
    "            fp.write(lines)\n",
    "            \n",
    "        with open('{}/start.lmp'.format(new_fold),'r') as fp:\n",
    "            lines=fp.read()\n",
    "        lines=lines.format(**coexSettings['start.lmp'])\n",
    "        with open('{}/start.lmp'.format(new_fold),'w') as fp:\n",
    "            fp.write(lines)\n",
    "            \n",
    "        with open('{}/in.box'.format(new_fold),'r') as fp:\n",
    "            lines=fp.read()\n",
    "        lines=lines.format(**coexSettings['in.box'])\n",
    "        with open('{}/in.box'.format(new_fold),'w') as fp:\n",
    "            fp.write(lines)\n",
    "        \n",
    "    \n"
   ]
  },
  {
   "cell_type": "code",
   "execution_count": 6,
   "id": "9446bd86",
   "metadata": {},
   "outputs": [
    {
     "name": "stdout",
     "output_type": "stream",
     "text": [
      "[NbConvertApp] Converting notebook PrepareInitialCoex.ipynb to script\n",
      "[NbConvertApp] Writing 6533 bytes to PrepareInitialCoex.py\n"
     ]
    }
   ],
   "source": [
    "!jupyter nbconvert --to script PrepareInitialCoex.ipynb"
   ]
  },
  {
   "cell_type": "markdown",
   "id": "5ebeb0e1",
   "metadata": {},
   "source": [
    "### Gather "
   ]
  },
  {
   "cell_type": "markdown",
   "id": "cb204a51",
   "metadata": {},
   "source": [
    "### Second step: Determine average box dimensions"
   ]
  },
  {
   "cell_type": "code",
   "execution_count": 2,
   "id": "cc3c5c71",
   "metadata": {},
   "outputs": [],
   "source": [
    "def extract_form_log(fn):\n",
    "    lines=open(fn,'r').readlines()\n",
    "    start=np.where([('Step' in l) for l in lines])[-1][0]\n",
    "    data={keyi.lower(): []  for keyi in lines[start].split()}\n",
    "    for l in lines[start+1:]:\n",
    "        ls=l.split()\n",
    "        try:\n",
    "            if ls[0].isdigit():\n",
    "                for i, key in enumerate(data.keys()):\n",
    "                    data[key].append(float(ls[i]))\n",
    "        \n",
    "            else:\n",
    "                break\n",
    "        except:\n",
    "            break\n",
    "    for key in data.keys():\n",
    "        data[key]=np.array(data[key])\n",
    "    return data"
   ]
  },
  {
   "cell_type": "code",
   "execution_count": 3,
   "id": "d5f7ff58",
   "metadata": {},
   "outputs": [
    {
     "name": "stdout",
     "output_type": "stream",
     "text": [
      "dict_keys(['EquilIce/6000_255', 'EquilIce/8000_265', 'EquilIce/7000_250', 'EquilIce/7000_265', 'EquilIce/4000_255', 'EquilIce/6000_260', 'EquilIce/4000_235', 'EquilIce/6000_245', 'EquilIce/8000_275', 'EquilIce/4000_245', 'EquilIce/8000_270', 'EquilIce/7000_270', 'EquilIce/4000_240', 'EquilIce/8000_260', 'EquilIce/6000_250', 'EquilIce/7000_255', 'EquilIce/4000_250', 'EquilIce/7000_260', 'EquilIce/8000_255', 'EquilIce/6000_265'])\n"
     ]
    }
   ],
   "source": [
    "box_equil=dict()\n",
    "for f in glob.glob('EquilIce/*/log.lammps'): \n",
    "    box_equil[f.replace('/log.lammps','')]=extract_form_log(f)\n",
    "\n",
    "with open('box_size.pickle', 'wb') as handle:\n",
    "    pickle.dump(box_equil, handle, protocol=pickle.HIGHEST_PROTOCOL)\n",
    "with open('box_size.pickle', 'rb') as handle:\n",
    "    box_equil = pickle.load(handle)\n",
    "print(box_equil.keys())"
   ]
  },
  {
   "cell_type": "code",
   "execution_count": 4,
   "id": "dc299485",
   "metadata": {},
   "outputs": [
    {
     "data": {
      "text/plain": [
       "Text(0, 0.5, 'v/Å$^3$')"
      ]
     },
     "execution_count": 4,
     "metadata": {},
     "output_type": "execute_result"
    },
    {
     "data": {
      "image/png": "[encoded data removed]",
      "text/plain": [
       "<Figure size 432x288 with 1 Axes>"
      ]
     },
     "metadata": {
      "needs_background": "light"
     },
     "output_type": "display_data"
    }
   ],
   "source": [
    "for key in box_equil.keys():\n",
    "    plt.plot(box_equil[key]['step'],box_equil[key]['lx'])\n",
    "    plt.plot(box_equil[key]['step'],box_equil[key]['lz'])\n",
    "    plt.plot(box_equil[key]['step'],box_equil[key]['ly'])\n",
    "plt.xlabel('steps')\n",
    "plt.ylabel(r'v/Å$^3$')"
   ]
  },
  {
   "cell_type": "code",
   "execution_count": 5,
   "id": "281e17b2",
   "metadata": {
    "scrolled": false
   },
   "outputs": [
    {
     "name": "stderr",
     "output_type": "stream",
     "text": [
      "/data/software/repo/amber/2020/lib/python3.8/site-packages/parmed/utils/netcdf.py:770: SyntaxWarning: \"is not\" with a literal. Did you mean \"!=\"?\n",
      "  if typecode is not 'c':\n",
      "/home/sbore/software/miniconda3/lib/python3.9/site-packages/MDAnalysis/coordinates/base.py:892: UserWarning: Reader has no dt information, set to 1.0 ps\n",
      "  warnings.warn(\"Reader has no dt information, set to 1.0 ps\")\n"
     ]
    },
    {
     "name": "stdout",
     "output_type": "stream",
     "text": [
      "6000    255         18.056    45.864    20.454    89.622    108.58    90.323\r\n",
      "8000    265         17.992    45.808    20.381      89.6    108.48    90.346\r\n",
      "7000    250         18.015    45.795    20.408    89.594     108.6    90.343\r\n",
      "7000    265         18.022    45.867    20.409     89.67    108.43    90.295\r\n",
      "4000    255          18.14    45.979    20.549    89.627    108.69    90.321\r\n",
      "6000    260         18.062    45.897    20.461    89.595    108.55    90.357\r\n",
      "4000    235         18.112      45.9    20.524    89.608    108.76    90.344\r\n",
      "6000    245         18.044    45.827    20.446    89.606    108.64    90.343\r\n",
      "8000    275         17.999    45.847    20.384    89.626    108.39    90.321\r\n",
      "4000    245         18.127    45.938    20.538    89.608    108.73    90.345\r\n",
      "8000    270         17.996    45.825    20.382     89.61    108.44     90.34\r\n",
      "7000    270         18.035    45.875    20.425    89.623    108.47    90.328\r\n",
      "4000    240         18.122    45.922    20.535    89.615    108.77    90.339\r\n",
      "8000    260         17.988    45.785    20.374    89.602    108.48    90.336\r\n",
      "6000    250         18.052    45.849    20.455    89.602    108.63    90.339\r\n",
      "7000    255         18.019    45.815    20.413    89.599    108.55    90.341\r\n",
      "4000    250         18.135    45.959    20.546    89.621    108.72    90.327\r\n",
      "7000    260         18.026    45.834    20.417    89.604    108.54    90.346\r\n",
      "8000    255          17.98    45.775    20.367    89.596    108.49     90.34\r\n",
      "6000    265         18.069    45.904    20.468    89.618    108.57    90.325\r\n"
     ]
    }
   ],
   "source": [
    "box_Ice=[]\n",
    "for fold in box_equil.keys():\n",
    "    sim=box_equil[fold]\n",
    "                                                                                                                                                                             \n",
    "    u = MDAnalysis.Universe(fold+'/ice.data', in_memory=True)\n",
    "    NIGNORE=int(0.25*len(box_equil[key]['step']))\n",
    "    p=fold.split('/')[-1].split('_')[0]\n",
    "    t=fold.split('/')[-1].split('_')[1]\n",
    "    box_Ice.append([p,t,np.mean(sim['cella'][NIGNORE:]),\n",
    "                     np.mean(sim['cellb'][NIGNORE:]),\n",
    "                     np.mean(sim['cellc'][NIGNORE:]),\n",
    "                     np.mean(sim['cellalpha'][NIGNORE:]),\n",
    "                     np.mean(sim['cellbeta'][NIGNORE:]),\n",
    "                     np.mean(sim['cellgamma'][NIGNORE:])])\n",
    "with open('avg_ice_box.dat','w') as fp_out:\n",
    "    for val in box_Ice:\n",
    "        fp_out.write('{:8}{:8}{:10.5}{:10.5}{:10.5}{:10.5}{:10.5}{:10.5}\\n'.format(val[0],val[1],val[2],val[3],val[4],val[5],val[6],val[7]))\n",
    "!cat avg_ice_box.dat"
   ]
  },
  {
   "cell_type": "code",
   "execution_count": null,
   "id": "5466b216",
   "metadata": {},
   "outputs": [],
   "source": []
  }
 ],
 "metadata": {
  "kernelspec": {
   "display_name": "Python 3 (ipykernel)",
   "language": "python",
   "name": "python3"
  },
  "language_info": {
   "codemirror_mode": {
    "name": "ipython",
    "version": 3
   },
   "file_extension": ".py",
   "mimetype": "text/x-python",
   "name": "python",
   "nbconvert_exporter": "python",
   "pygments_lexer": "ipython3",
   "version": "3.9.6"
  }
 },
 "nbformat": 4,
 "nbformat_minor": 5
}

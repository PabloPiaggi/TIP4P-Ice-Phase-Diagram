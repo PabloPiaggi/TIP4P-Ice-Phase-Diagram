{
 "cells": [
  {
   "cell_type": "markdown",
   "id": "b9f240a2",
   "metadata": {},
   "source": [
    "# Preparation of biased coexsistence simulations"
   ]
  },
  {
   "cell_type": "code",
   "execution_count": 1,
   "id": "fb21dd18",
   "metadata": {},
   "outputs": [],
   "source": [
    "import numpy as np, sys, os, glob\n",
    "import matplotlib.pylab as plt\n",
    "import MDAnalysis"
   ]
  },
  {
   "cell_type": "code",
   "execution_count": 2,
   "id": "99754d4d",
   "metadata": {},
   "outputs": [],
   "source": [
    "standard_sim=os.path.abspath('250K-5kbar')\n",
    "press_box = np.genfromtxt('../1-Bulk/avg_IceV_box.dat')\n",
    "single_pressure=None\n"
   ]
  },
  {
   "cell_type": "code",
   "execution_count": 4,
   "id": "9fb55539",
   "metadata": {},
   "outputs": [],
   "source": [
    "sims = dict()\n",
    "for a in press_box[:]:\n",
    "    fold='COEX_{}bar/template/'.format(a[0])\n",
    "    sims[fold] = dict()\n",
    "    sims[fold]['p']=a[0]\n",
    "    os.system('mkdir -p {}'.format(fold))\n",
    "    os.system('cp -r 250K-5kbar/* {}'.format(fold))\n",
    "    os.system('cp -r ../3-PrepareCoexistenceConfiguration/COEX_BOXES/water_{}bar.data {}/water.data'.format(a[0],fold))\n",
    "    os.system('sed -i    \"s#variable .* pressure .*#variable        pressure equal {}#g\" {}/in.pressure'.format(a[0],fold))\n"
   ]
  },
  {
   "cell_type": "markdown",
   "id": "97e8ce86",
   "metadata": {},
   "source": [
    "### Setup different temperatures"
   ]
  },
  {
   "cell_type": "code",
   "execution_count": 5,
   "id": "86fd88fc",
   "metadata": {},
   "outputs": [
    {
     "data": {
      "image/png": "[encoded data removed]",
      "text/plain": [
       "<Figure size 432x288 with 1 Axes>"
      ]
     },
     "metadata": {
      "needs_background": "light"
     },
     "output_type": "display_data"
    }
   ],
   "source": [
    "tip4p_vega_data=np.genfromtxt('IceV_liquid_pd.dat')\n",
    "tip4p_vega_data[:,1]=tip4p_vega_data[:,1]*10\n",
    "melt_fn = np.poly1d(np.polyfit(tip4p_vega_data[:,1], tip4p_vega_data[:,0], 3))\n",
    "\n",
    "Ps=np.linspace(3000,8000,200)\n",
    "plt.plot(tip4p_vega_data[:,1],tip4p_vega_data[:,0])\n",
    "plt.plot(Ps,melt_fn(Ps))\n",
    "\n",
    "for fold in sims.keys():\n",
    "    p=sims[fold]['p']\n",
    "    T_m=melt_fn(p)\n",
    "    T_range=np.round((T_m+np.arange(-7.5,17.5,5))/5, decimals=0)*5\n",
    "    sims[fold]['temps']=T_range\n",
    "    plt.scatter(p+T_range*0,T_range)"
   ]
  },
  {
   "cell_type": "code",
   "execution_count": 6,
   "id": "8cb45f4f",
   "metadata": {
    "scrolled": true
   },
   "outputs": [
    {
     "name": "stdout",
     "output_type": "stream",
     "text": [
      "mkdir -p COEX_3500.0bar//230.0K\n",
      "cp COEX_3500.0bar/template//* COEX_3500.0bar//230.0K/\n",
      "sed -i  \"s#variable.*temperature.*#variable        temperature equal 230.0#g\" COEX_3500.0bar//230.0K/in.temp\n",
      "sed -i  \"s#TEMP=250#TEMP=230.0#g\" COEX_3500.0bar//230.0K/plumed*.dat\n",
      "mkdir -p COEX_3500.0bar//235.0K\n",
      "cp COEX_3500.0bar/template//* COEX_3500.0bar//235.0K/\n",
      "sed -i  \"s#variable.*temperature.*#variable        temperature equal 235.0#g\" COEX_3500.0bar//235.0K/in.temp\n",
      "sed -i  \"s#TEMP=250#TEMP=235.0#g\" COEX_3500.0bar//235.0K/plumed*.dat\n",
      "mkdir -p COEX_3500.0bar//240.0K\n",
      "cp COEX_3500.0bar/template//* COEX_3500.0bar//240.0K/\n",
      "sed -i  \"s#variable.*temperature.*#variable        temperature equal 240.0#g\" COEX_3500.0bar//240.0K/in.temp\n",
      "sed -i  \"s#TEMP=250#TEMP=240.0#g\" COEX_3500.0bar//240.0K/plumed*.dat\n",
      "mkdir -p COEX_3500.0bar//245.0K\n",
      "cp COEX_3500.0bar/template//* COEX_3500.0bar//245.0K/\n",
      "sed -i  \"s#variable.*temperature.*#variable        temperature equal 245.0#g\" COEX_3500.0bar//245.0K/in.temp\n",
      "sed -i  \"s#TEMP=250#TEMP=245.0#g\" COEX_3500.0bar//245.0K/plumed*.dat\n",
      "mkdir -p COEX_3500.0bar//250.0K\n",
      "cp COEX_3500.0bar/template//* COEX_3500.0bar//250.0K/\n",
      "sed -i  \"s#variable.*temperature.*#variable        temperature equal 250.0#g\" COEX_3500.0bar//250.0K/in.temp\n",
      "sed -i  \"s#TEMP=250#TEMP=250.0#g\" COEX_3500.0bar//250.0K/plumed*.dat\n",
      "mkdir -p COEX_4000.0bar//230.0K\n",
      "cp COEX_4000.0bar/template//* COEX_4000.0bar//230.0K/\n",
      "sed -i  \"s#variable.*temperature.*#variable        temperature equal 230.0#g\" COEX_4000.0bar//230.0K/in.temp\n",
      "sed -i  \"s#TEMP=250#TEMP=230.0#g\" COEX_4000.0bar//230.0K/plumed*.dat\n",
      "mkdir -p COEX_4000.0bar//235.0K\n",
      "cp COEX_4000.0bar/template//* COEX_4000.0bar//235.0K/\n",
      "sed -i  \"s#variable.*temperature.*#variable        temperature equal 235.0#g\" COEX_4000.0bar//235.0K/in.temp\n",
      "sed -i  \"s#TEMP=250#TEMP=235.0#g\" COEX_4000.0bar//235.0K/plumed*.dat\n",
      "mkdir -p COEX_4000.0bar//240.0K\n",
      "cp COEX_4000.0bar/template//* COEX_4000.0bar//240.0K/\n",
      "sed -i  \"s#variable.*temperature.*#variable        temperature equal 240.0#g\" COEX_4000.0bar//240.0K/in.temp\n",
      "sed -i  \"s#TEMP=250#TEMP=240.0#g\" COEX_4000.0bar//240.0K/plumed*.dat\n",
      "mkdir -p COEX_4000.0bar//245.0K\n",
      "cp COEX_4000.0bar/template//* COEX_4000.0bar//245.0K/\n",
      "sed -i  \"s#variable.*temperature.*#variable        temperature equal 245.0#g\" COEX_4000.0bar//245.0K/in.temp\n",
      "sed -i  \"s#TEMP=250#TEMP=245.0#g\" COEX_4000.0bar//245.0K/plumed*.dat\n",
      "mkdir -p COEX_4000.0bar//250.0K\n",
      "cp COEX_4000.0bar/template//* COEX_4000.0bar//250.0K/\n",
      "sed -i  \"s#variable.*temperature.*#variable        temperature equal 250.0#g\" COEX_4000.0bar//250.0K/in.temp\n",
      "sed -i  \"s#TEMP=250#TEMP=250.0#g\" COEX_4000.0bar//250.0K/plumed*.dat\n",
      "mkdir -p COEX_5000.0bar//240.0K\n",
      "cp COEX_5000.0bar/template//* COEX_5000.0bar//240.0K/\n",
      "sed -i  \"s#variable.*temperature.*#variable        temperature equal 240.0#g\" COEX_5000.0bar//240.0K/in.temp\n",
      "sed -i  \"s#TEMP=250#TEMP=240.0#g\" COEX_5000.0bar//240.0K/plumed*.dat\n",
      "mkdir -p COEX_5000.0bar//245.0K\n",
      "cp COEX_5000.0bar/template//* COEX_5000.0bar//245.0K/\n",
      "sed -i  \"s#variable.*temperature.*#variable        temperature equal 245.0#g\" COEX_5000.0bar//245.0K/in.temp\n",
      "sed -i  \"s#TEMP=250#TEMP=245.0#g\" COEX_5000.0bar//245.0K/plumed*.dat\n",
      "mkdir -p COEX_5000.0bar//250.0K\n",
      "cp COEX_5000.0bar/template//* COEX_5000.0bar//250.0K/\n",
      "sed -i  \"s#variable.*temperature.*#variable        temperature equal 250.0#g\" COEX_5000.0bar//250.0K/in.temp\n",
      "sed -i  \"s#TEMP=250#TEMP=250.0#g\" COEX_5000.0bar//250.0K/plumed*.dat\n",
      "mkdir -p COEX_5000.0bar//255.0K\n",
      "cp COEX_5000.0bar/template//* COEX_5000.0bar//255.0K/\n",
      "sed -i  \"s#variable.*temperature.*#variable        temperature equal 255.0#g\" COEX_5000.0bar//255.0K/in.temp\n",
      "sed -i  \"s#TEMP=250#TEMP=255.0#g\" COEX_5000.0bar//255.0K/plumed*.dat\n",
      "mkdir -p COEX_5000.0bar//260.0K\n",
      "cp COEX_5000.0bar/template//* COEX_5000.0bar//260.0K/\n",
      "sed -i  \"s#variable.*temperature.*#variable        temperature equal 260.0#g\" COEX_5000.0bar//260.0K/in.temp\n",
      "sed -i  \"s#TEMP=250#TEMP=260.0#g\" COEX_5000.0bar//260.0K/plumed*.dat\n",
      "mkdir -p COEX_6000.0bar//245.0K\n",
      "cp COEX_6000.0bar/template//* COEX_6000.0bar//245.0K/\n",
      "sed -i  \"s#variable.*temperature.*#variable        temperature equal 245.0#g\" COEX_6000.0bar//245.0K/in.temp\n",
      "sed -i  \"s#TEMP=250#TEMP=245.0#g\" COEX_6000.0bar//245.0K/plumed*.dat\n",
      "mkdir -p COEX_6000.0bar//250.0K\n",
      "cp COEX_6000.0bar/template//* COEX_6000.0bar//250.0K/\n",
      "sed -i  \"s#variable.*temperature.*#variable        temperature equal 250.0#g\" COEX_6000.0bar//250.0K/in.temp\n",
      "sed -i  \"s#TEMP=250#TEMP=250.0#g\" COEX_6000.0bar//250.0K/plumed*.dat\n"
     ]
    },
    {
     "name": "stderr",
     "output_type": "stream",
     "text": [
      "sed: 1: \"COEX_6000.0bar//250.0K/ ...\": invalid command code C\n",
      "sed: 1: \"COEX_6000.0bar//250.0K/ ...\": invalid command code C\n"
     ]
    },
    {
     "name": "stdout",
     "output_type": "stream",
     "text": [
      "mkdir -p COEX_6000.0bar//255.0K\n",
      "cp COEX_6000.0bar/template//* COEX_6000.0bar//255.0K/\n",
      "sed -i  \"s#variable.*temperature.*#variable        temperature equal 255.0#g\" COEX_6000.0bar//255.0K/in.temp\n",
      "sed -i  \"s#TEMP=250#TEMP=255.0#g\" COEX_6000.0bar//255.0K/plumed*.dat\n",
      "mkdir -p COEX_6000.0bar//260.0K\n",
      "cp COEX_6000.0bar/template//* COEX_6000.0bar//260.0K/\n",
      "sed -i  \"s#variable.*temperature.*#variable        temperature equal 260.0#g\" COEX_6000.0bar//260.0K/in.temp\n",
      "sed -i  \"s#TEMP=250#TEMP=260.0#g\" COEX_6000.0bar//260.0K/plumed*.dat\n",
      "mkdir -p COEX_6000.0bar//265.0K\n",
      "cp COEX_6000.0bar/template//* COEX_6000.0bar//265.0K/\n",
      "sed -i  \"s#variable.*temperature.*#variable        temperature equal 265.0#g\" COEX_6000.0bar//265.0K/in.temp\n",
      "sed -i  \"s#TEMP=250#TEMP=265.0#g\" COEX_6000.0bar//265.0K/plumed*.dat\n",
      "mkdir -p COEX_7000.0bar//250.0K\n",
      "cp COEX_7000.0bar/template//* COEX_7000.0bar//250.0K/\n",
      "sed -i  \"s#variable.*temperature.*#variable        temperature equal 250.0#g\" COEX_7000.0bar//250.0K/in.temp\n",
      "sed -i  \"s#TEMP=250#TEMP=250.0#g\" COEX_7000.0bar//250.0K/plumed*.dat\n",
      "mkdir -p COEX_7000.0bar//255.0K\n",
      "cp COEX_7000.0bar/template//* COEX_7000.0bar//255.0K/\n",
      "sed -i  \"s#variable.*temperature.*#variable        temperature equal 255.0#g\" COEX_7000.0bar//255.0K/in.temp\n",
      "sed -i  \"s#TEMP=250#TEMP=255.0#g\" COEX_7000.0bar//255.0K/plumed*.dat\n",
      "mkdir -p COEX_7000.0bar//260.0K\n",
      "cp COEX_7000.0bar/template//* COEX_7000.0bar//260.0K/\n",
      "sed -i  \"s#variable.*temperature.*#variable        temperature equal 260.0#g\" COEX_7000.0bar//260.0K/in.temp\n",
      "sed -i  \"s#TEMP=250#TEMP=260.0#g\" COEX_7000.0bar//260.0K/plumed*.dat\n",
      "mkdir -p COEX_7000.0bar//265.0K\n",
      "cp COEX_7000.0bar/template//* COEX_7000.0bar//265.0K/\n",
      "sed -i  \"s#variable.*temperature.*#variable        temperature equal 265.0#g\" COEX_7000.0bar//265.0K/in.temp\n",
      "sed -i  \"s#TEMP=250#TEMP=265.0#g\" COEX_7000.0bar//265.0K/plumed*.dat\n",
      "mkdir -p COEX_7000.0bar//270.0K\n",
      "cp COEX_7000.0bar/template//* COEX_7000.0bar//270.0K/\n",
      "sed -i  \"s#variable.*temperature.*#variable        temperature equal 270.0#g\" COEX_7000.0bar//270.0K/in.temp\n",
      "sed -i  \"s#TEMP=250#TEMP=270.0#g\" COEX_7000.0bar//270.0K/plumed*.dat\n",
      "mkdir -p COEX_7500.0bar//250.0K\n",
      "cp COEX_7500.0bar/template//* COEX_7500.0bar//250.0K/\n",
      "sed -i  \"s#variable.*temperature.*#variable        temperature equal 250.0#g\" COEX_7500.0bar//250.0K/in.temp\n",
      "sed -i  \"s#TEMP=250#TEMP=250.0#g\" COEX_7500.0bar//250.0K/plumed*.dat\n",
      "mkdir -p COEX_7500.0bar//255.0K\n",
      "cp COEX_7500.0bar/template//* COEX_7500.0bar//255.0K/\n",
      "sed -i  \"s#variable.*temperature.*#variable        temperature equal 255.0#g\" COEX_7500.0bar//255.0K/in.temp\n",
      "sed -i  \"s#TEMP=250#TEMP=255.0#g\" COEX_7500.0bar//255.0K/plumed*.dat\n",
      "mkdir -p COEX_7500.0bar//260.0K\n",
      "cp COEX_7500.0bar/template//* COEX_7500.0bar//260.0K/\n",
      "sed -i  \"s#variable.*temperature.*#variable        temperature equal 260.0#g\" COEX_7500.0bar//260.0K/in.temp\n",
      "sed -i  \"s#TEMP=250#TEMP=260.0#g\" COEX_7500.0bar//260.0K/plumed*.dat\n",
      "mkdir -p COEX_7500.0bar//265.0K\n",
      "cp COEX_7500.0bar/template//* COEX_7500.0bar//265.0K/\n",
      "sed -i  \"s#variable.*temperature.*#variable        temperature equal 265.0#g\" COEX_7500.0bar//265.0K/in.temp\n",
      "sed -i  \"s#TEMP=250#TEMP=265.0#g\" COEX_7500.0bar//265.0K/plumed*.dat\n",
      "mkdir -p COEX_7500.0bar//270.0K\n",
      "cp COEX_7500.0bar/template//* COEX_7500.0bar//270.0K/\n",
      "sed -i  \"s#variable.*temperature.*#variable        temperature equal 270.0#g\" COEX_7500.0bar//270.0K/in.temp\n",
      "sed -i  \"s#TEMP=250#TEMP=270.0#g\" COEX_7500.0bar//270.0K/plumed*.dat\n",
      "mkdir -p COEX_8000.0bar//255.0K\n",
      "cp COEX_8000.0bar/template//* COEX_8000.0bar//255.0K/\n",
      "sed -i  \"s#variable.*temperature.*#variable        temperature equal 255.0#g\" COEX_8000.0bar//255.0K/in.temp\n",
      "sed -i  \"s#TEMP=250#TEMP=255.0#g\" COEX_8000.0bar//255.0K/plumed*.dat\n",
      "mkdir -p COEX_8000.0bar//260.0K\n",
      "cp COEX_8000.0bar/template//* COEX_8000.0bar//260.0K/\n",
      "sed -i  \"s#variable.*temperature.*#variable        temperature equal 260.0#g\" COEX_8000.0bar//260.0K/in.temp\n",
      "sed -i  \"s#TEMP=250#TEMP=260.0#g\" COEX_8000.0bar//260.0K/plumed*.dat\n",
      "mkdir -p COEX_8000.0bar//265.0K\n",
      "cp COEX_8000.0bar/template//* COEX_8000.0bar//265.0K/\n",
      "sed -i  \"s#variable.*temperature.*#variable        temperature equal 265.0#g\" COEX_8000.0bar//265.0K/in.temp\n",
      "sed -i  \"s#TEMP=250#TEMP=265.0#g\" COEX_8000.0bar//265.0K/plumed*.dat\n",
      "mkdir -p COEX_8000.0bar//270.0K\n",
      "cp COEX_8000.0bar/template//* COEX_8000.0bar//270.0K/\n",
      "sed -i  \"s#variable.*temperature.*#variable        temperature equal 270.0#g\" COEX_8000.0bar//270.0K/in.temp\n",
      "sed -i  \"s#TEMP=250#TEMP=270.0#g\" COEX_8000.0bar//270.0K/plumed*.dat\n",
      "mkdir -p COEX_8000.0bar//275.0K\n",
      "cp COEX_8000.0bar/template//* COEX_8000.0bar//275.0K/\n",
      "sed -i  \"s#variable.*temperature.*#variable        temperature equal 275.0#g\" COEX_8000.0bar//275.0K/in.temp\n",
      "sed -i  \"s#TEMP=250#TEMP=275.0#g\" COEX_8000.0bar//275.0K/plumed*.dat\n"
     ]
    }
   ],
   "source": [
    "for fold in sims.keys():\n",
    "    sim=sims[fold]\n",
    "    for t in sim['temps']:\n",
    "        temp_fold = '{}{}K'.format(fold.replace('template',''),t)\n",
    "        cmd='mkdir -p {}\\n'.format(temp_fold)\n",
    "        cmd+='cp {}/* {}/\\n'.format(fold,temp_fold)\n",
    "        cmd+='sed -i  \\\"s#variable.*temperature.*#variable        temperature equal {}#g\\\" {}/in.temp\\n'.format(t,temp_fold)\n",
    "        cmd+='sed -i  \\\"s#TEMP=250#TEMP={}#g\\\" {}/plumed*.dat'.format(t,temp_fold)\n",
    "        \n",
    "        #cmd+='sed -i \\\"s#variable.*temperature.*#variable        temperature equal {}#g\\\" {}/in.temp'.format(t,temp_fold)\n",
    "        print(cmd)\n",
    "        os.system(cmd)"
   ]
  },
  {
   "cell_type": "markdown",
   "id": "9b4b8215",
   "metadata": {},
   "source": [
    "### Convert notebook to python script"
   ]
  },
  {
   "cell_type": "code",
   "execution_count": 1,
   "id": "56fda0cc",
   "metadata": {
    "scrolled": true
   },
   "outputs": [
    {
     "name": "stdout",
     "output_type": "stream",
     "text": [
      "[NbConvertApp] Converting notebook Prepare_coexsistence.ipynb to script\n",
      "[NbConvertApp] Writing 2116 bytes to Prepare_coexsistence.py\n"
     ]
    }
   ],
   "source": [
    "!jupyter nbconvert --to script Prepare_coexsistence.ipynb\n",
    "!sed -i 's/\"\"//g' Prepare_coexsistence.ipyn\n"
   ]
  },
  {
   "cell_type": "code",
   "execution_count": null,
   "id": "63c6ffb9",
   "metadata": {},
   "outputs": [],
   "source": []
  }
 ],
 "metadata": {
  "kernelspec": {
   "display_name": "Python 3 (ipykernel)",
   "language": "python",
   "name": "python3"
  },
  "language_info": {
   "codemirror_mode": {
    "name": "ipython",
    "version": 3
   },
   "file_extension": ".py",
   "mimetype": "text/x-python",
   "name": "python",
   "nbconvert_exporter": "python",
   "pygments_lexer": "ipython3",
   "version": "3.9.6"
  }
 },
 "nbformat": 4,
 "nbformat_minor": 5
}

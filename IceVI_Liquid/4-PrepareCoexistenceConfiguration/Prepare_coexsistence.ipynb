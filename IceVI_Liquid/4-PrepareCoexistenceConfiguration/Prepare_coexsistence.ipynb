{
 "cells": [
  {
   "cell_type": "markdown",
   "id": "b9f240a2",
   "metadata": {},
   "source": [
    "# Preparation of initial box for coexsistence simulations"
   ]
  },
  {
   "cell_type": "code",
   "execution_count": 9,
   "id": "fb21dd18",
   "metadata": {},
   "outputs": [],
   "source": [
    "import numpy as np, sys, os, glob\n",
    "import matplotlib.pylab as plt\n",
    "import MDAnalysis\n",
    "import pickle"
   ]
  },
  {
   "cell_type": "code",
   "execution_count": 3,
   "id": "99754d4d",
   "metadata": {},
   "outputs": [],
   "source": [
    "standard_sim=os.path.abspath('template/')\n",
    "press_box = np.genfromtxt('../2-Bulk/avg_IceVI_box.dat')\n",
    "single_pressure=None #'7000'\n",
    "#temps=np.array([245,250,255,260,265,270])"
   ]
  },
  {
   "cell_type": "markdown",
   "id": "fc3a70b2",
   "metadata": {},
   "source": [
    "### First step: equilibrate ice box"
   ]
  },
  {
   "cell_type": "code",
   "execution_count": 6,
   "id": "9fb55539",
   "metadata": {},
   "outputs": [],
   "source": [
    "sims = dict()\n",
    "for a in press_box[:]:\n",
    "    fold='BOX_EQUIL_{}bar/'.format(a[0])\n",
    "    if single_pressure==None or single_pressure in fold:\n",
    "        sims[fold] = dict()\n",
    "        sims[fold]['p']=a[0]\n",
    "        os.system('mkdir -p {}'.format(fold))\n",
    "        os.system('cp -r {}/* {}'.format(standard_sim,fold))\n",
    "        cmd='sed -i \"\" \"s#variable .* pressure .*#variable        pressure equal {}#g\" {}/in.pressure'.format(sims[fold]['p'],fold)\n",
    "        os.system(cmd)"
   ]
  },
  {
   "cell_type": "markdown",
   "id": "cb204a51",
   "metadata": {},
   "source": [
    "### Second step: Determine average box dimensions"
   ]
  },
  {
   "cell_type": "code",
   "execution_count": 10,
   "id": "cc3c5c71",
   "metadata": {},
   "outputs": [],
   "source": [
    "def extract_form_log(fn):\n",
    "    lines=open(fn,'r').readlines()\n",
    "    start=np.where([('Step' in l) for l in lines])[-1][0]\n",
    "    data={keyi.lower(): []  for keyi in lines[start].split()}\n",
    "    for l in lines[start+1:]:\n",
    "        ls=l.split()\n",
    "        try:\n",
    "            if ls[0].isdigit():\n",
    "                for i, key in enumerate(data.keys()):\n",
    "                    data[key].append(float(ls[i]))\n",
    "        \n",
    "            else:\n",
    "                break\n",
    "        except:\n",
    "            break\n",
    "    for key in data.keys():\n",
    "        data[key]=np.array(data[key])\n",
    "    return data"
   ]
  },
  {
   "cell_type": "code",
   "execution_count": 14,
   "id": "d5f7ff58",
   "metadata": {},
   "outputs": [
    {
     "name": "stdout",
     "output_type": "stream",
     "text": [
      "dict_keys(['BOX_EQUIL_9000.0bar', 'BOX_EQUIL_8000.0bar', 'BOX_EQUIL_12000.0bar', 'BOX_EQUIL_10000.0bar'])\n"
     ]
    }
   ],
   "source": [
    "box_equil=dict()\n",
    "for f in glob.glob('BOX_EQUIL_*/log.lammps'): \n",
    "    box_equil[f.replace('/log.lammps','')]=extract_form_log(f)\n",
    "\n",
    "\n",
    "with open('box_size.pickle', 'wb') as handle:\n",
    "    pickle.dump(box_equil, handle, protocol=pickle.HIGHEST_PROTOCOL)\n",
    "with open('box_size.pickle', 'rb') as handle:\n",
    "    box_equil = pickle.load(handle)\n",
    "print(box_equil.keys())"
   ]
  },
  {
   "cell_type": "code",
   "execution_count": 20,
   "id": "dc299485",
   "metadata": {},
   "outputs": [
    {
     "data": {
      "text/plain": [
       "Text(0, 0.5, 'v/Å$^3$')"
      ]
     },
     "execution_count": 20,
     "metadata": {},
     "output_type": "execute_result"
    },
    {
     "data": {
      "image/png": "[encoded data removed]",
      "text/plain": [
       "<Figure size 432x288 with 1 Axes>"
      ]
     },
     "metadata": {
      "needs_background": "light"
     },
     "output_type": "display_data"
    }
   ],
   "source": [
    "for key in box_equil.keys():\n",
    "    plt.plot(box_equil[key]['step'],box_equil[key]['lx'])\n",
    "    plt.plot(box_equil[key]['step'],box_equil[key]['lz'])\n",
    "    plt.plot(box_equil[key]['step'],box_equil[key]['ly'])\n",
    "plt.xlabel('steps')\n",
    "plt.ylabel(r'v/Å$^3$')"
   ]
  },
  {
   "cell_type": "code",
   "execution_count": 25,
   "id": "9f40552c",
   "metadata": {},
   "outputs": [],
   "source": [
    "\n",
    "#avg_box_size=dict()\n",
    "#for key in box_equil.keys():\n",
    "#    p=float(key.replace('BOX_EQUIL_','').replace('bar',''))\n",
    " #   NIGNORE=int(0.25*len(box_equil[key]['step']))\n",
    "#    avg_box_size[key]=[np.mean(box_equil[key]['lx'][NIGNORE:]),\n",
    "#                       np.mean(box_equil[key]['ly'][NIGNORE:]),\n",
    "#                       np.mean(box_equil[key]['lz'][NIGNORE:])]"
   ]
  },
  {
   "cell_type": "code",
   "execution_count": 37,
   "id": "281e17b2",
   "metadata": {},
   "outputs": [
    {
     "name": "stdout",
     "output_type": "stream",
     "text": [
      "0.0\n",
      "dict_items([('bond', <TopologyGroup containing 2560 bonds>), ('angle', <TopologyGroup containing 1280 angles>), ('dihedral', <TopologyGroup containing 0 dihedrals>), ('improper', <TopologyGroup containing 0 impropers>)])\n",
      "bond ['1']\n",
      "angle ['1']\n",
      "dihedral []\n",
      "improper []\n",
      "0.0\n",
      "dict_items([('bond', <TopologyGroup containing 2560 bonds>), ('angle', <TopologyGroup containing 1280 angles>), ('dihedral', <TopologyGroup containing 0 dihedrals>), ('improper', <TopologyGroup containing 0 impropers>)])\n",
      "bond ['1']\n",
      "angle ['1']\n",
      "dihedral []\n",
      "improper []\n",
      "0.0\n",
      "dict_items([('bond', <TopologyGroup containing 2560 bonds>), ('angle', <TopologyGroup containing 1280 angles>), ('dihedral', <TopologyGroup containing 0 dihedrals>), ('improper', <TopologyGroup containing 0 impropers>)])\n",
      "bond ['1']\n",
      "angle ['1']\n",
      "dihedral []\n",
      "improper []\n",
      "0.0\n",
      "dict_items([('bond', <TopologyGroup containing 2560 bonds>), ('angle', <TopologyGroup containing 1280 angles>), ('dihedral', <TopologyGroup containing 0 dihedrals>), ('improper', <TopologyGroup containing 0 impropers>)])\n",
      "bond ['1']\n",
      "angle ['1']\n",
      "dihedral []\n",
      "improper []\n"
     ]
    }
   ],
   "source": [
    "for fold in box_equil.keys():\n",
    "    sim=box_equil[fold]\n",
    "    #print(sim)                                                                                                                                                                              \n",
    "    # Scale box                                                                                                                                                                              \n",
    "    u = MDAnalysis.Universe(fold+'/ice_equil.data', in_memory=True)\n",
    "    NIGNORE=int(0.25*len(box_equil[key]['step']))\n",
    "    \n",
    "    lx=np.mean(sim['lx'][NIGNORE:])\n",
    "    xy=np.mean(sim['xy'][NIGNORE:])\n",
    "    xz=np.mean(sim['xz'][NIGNORE:])\n",
    "    ly=np.mean(sim['ly'][NIGNORE:])\n",
    "    yz=np.mean(sim['yz'][NIGNORE:])\n",
    "    lz=np.mean(sim['lz'][NIGNORE:])\n",
    "    A=np.array([[lx,0,0],\n",
    "                 [xy,ly,0],\n",
    "                 [xz,yz,lz]])\n",
    "    dimensions_new=MDAnalysis.lib.mdamath.triclinic_box(A[0], A[1], A[2])\n",
    "    u.coord.positions[:,0] = u.coord.positions[:,0]*lx/u.dimensions[0]\n",
    "    u.coord.positions[:,1] = u.coord.positions[:,1]*ly/u.dimensions[1]\n",
    "    u.coord.positions[:,2] = u.coord.positions[:,2]*lz/u.dimensions[2]\n",
    "    u.dimensions[0]=dimensions_new[0]\n",
    "    u.dimensions[1]=dimensions_new[1]\n",
    "    u.dimensions[2]=dimensions_new[2]\n",
    "    u.dimensions[3]=dimensions_new[3]\n",
    "    u.dimensions[4]=dimensions_new[4]\n",
    "    u.dimensions[5]=dimensions_new[5]\n",
    "\n",
    "    u.atoms.write(fold+'/ice_avg_equil.data')"
   ]
  },
  {
   "cell_type": "markdown",
   "id": "2cb7506c",
   "metadata": {},
   "source": [
    "### Third step: Melt half the box"
   ]
  },
  {
   "cell_type": "code",
   "execution_count": 36,
   "id": "e384481b",
   "metadata": {},
   "outputs": [],
   "source": [
    "for a in press_box[:]:\n",
    "    fold='BOX_MELT_{}bar/'.format(a[0])\n",
    "    os.system('mkdir -p {}'.format(fold))\n",
    "    os.system('cp -r {}/ice_avg_equil.data {}'.format(fold.replace('MELT','EQUIL'),fold))\n",
    "    os.system('cp -r {}/* {}'.format(standard_sim,fold))\n",
    "    cmd='sed -i \"\" \"s#variable .* pressure .*#variable        pressure equal {}#g\" {}/in.pressure'.format(a[0],fold)\n",
    "    os.system(cmd)"
   ]
  },
  {
   "cell_type": "markdown",
   "id": "496923fd",
   "metadata": {},
   "source": [
    "### Fourth step: collect data files"
   ]
  },
  {
   "cell_type": "code",
   "execution_count": 48,
   "id": "1eb2120a",
   "metadata": {},
   "outputs": [],
   "source": [
    "fold_out='COEX_BOXES/'\n",
    "os.system('mkdir -p {}'.format(fold_out))\n",
    "for a in press_box[:]:\n",
    "    fold='BOX_MELT_{}bar/'.format(a[0])\n",
    "    os.system('cp {}/water.data.equil {}/{}'.format(fold,fold_out,'water_{}bar.data'.format(a[0])))"
   ]
  },
  {
   "cell_type": "markdown",
   "id": "9b4b8215",
   "metadata": {},
   "source": [
    "### Convert notebook to python script"
   ]
  },
  {
   "cell_type": "code",
   "execution_count": 1,
   "id": "56fda0cc",
   "metadata": {},
   "outputs": [
    {
     "name": "stdout",
     "output_type": "stream",
     "text": [
      "[NbConvertApp] Converting notebook Prepare_coexsistence.ipynb to script\n",
      "[NbConvertApp] Writing 3646 bytes to Prepare_coexsistence.py\n"
     ]
    }
   ],
   "source": [
    "!jupyter nbconvert --to script Prepare_coexsistence.ipynb\n"
   ]
  },
  {
   "cell_type": "code",
   "execution_count": null,
   "id": "47dfaa50",
   "metadata": {},
   "outputs": [],
   "source": []
  }
 ],
 "metadata": {
  "kernelspec": {
   "display_name": "Python 3 (ipykernel)",
   "language": "python",
   "name": "python3"
  },
  "language_info": {
   "codemirror_mode": {
    "name": "ipython",
    "version": 3
   },
   "file_extension": ".py",
   "mimetype": "text/x-python",
   "name": "python",
   "nbconvert_exporter": "python",
   "pygments_lexer": "ipython3",
   "version": "3.9.6"
  }
 },
 "nbformat": 4,
 "nbformat_minor": 5
}

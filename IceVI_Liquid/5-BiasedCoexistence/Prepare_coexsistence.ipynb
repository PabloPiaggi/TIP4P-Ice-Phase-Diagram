{
 "cells": [
  {
   "cell_type": "markdown",
   "id": "b9f240a2",
   "metadata": {},
   "source": [
    "# Preparation of biased coexsistence simulations"
   ]
  },
  {
   "cell_type": "code",
   "execution_count": 1,
   "id": "fb21dd18",
   "metadata": {},
   "outputs": [],
   "source": [
    "import numpy as np, sys, os, glob\n",
    "import matplotlib.pylab as plt\n",
    "import MDAnalysis"
   ]
  },
  {
   "cell_type": "code",
   "execution_count": 3,
   "id": "99754d4d",
   "metadata": {},
   "outputs": [
    {
     "ename": "NameError",
     "evalue": "name 'os' is not defined",
     "output_type": "error",
     "traceback": [
      "\u001b[0;31m---------------------------------------------------------------------------\u001b[0m",
      "\u001b[0;31mNameError\u001b[0m                                 Traceback (most recent call last)",
      "\u001b[0;32m/var/folders/gk/bdqkskqj2fv8dk9kgrxm5psh0000gn/T/ipykernel_19053/2561265060.py\u001b[0m in \u001b[0;36m<module>\u001b[0;34m\u001b[0m\n\u001b[0;32m----> 1\u001b[0;31m \u001b[0mstandard_sim\u001b[0m\u001b[0;34m=\u001b[0m\u001b[0mos\u001b[0m\u001b[0;34m.\u001b[0m\u001b[0mpath\u001b[0m\u001b[0;34m.\u001b[0m\u001b[0mabspath\u001b[0m\u001b[0;34m(\u001b[0m\u001b[0;34m'300K-10000bar'\u001b[0m\u001b[0;34m)\u001b[0m\u001b[0;34m\u001b[0m\u001b[0;34m\u001b[0m\u001b[0m\n\u001b[0m\u001b[1;32m      2\u001b[0m \u001b[0mpress_box\u001b[0m \u001b[0;34m=\u001b[0m \u001b[0mnp\u001b[0m\u001b[0;34m.\u001b[0m\u001b[0mgenfromtxt\u001b[0m\u001b[0;34m(\u001b[0m\u001b[0;34m'../2-Bulk/avg_IceIII_box.dat'\u001b[0m\u001b[0;34m)\u001b[0m\u001b[0;34m\u001b[0m\u001b[0;34m\u001b[0m\u001b[0m\n",
      "\u001b[0;31mNameError\u001b[0m: name 'os' is not defined"
     ]
    }
   ],
   "source": [
    "standard_sim=os.path.abspath('300K-10000bar')\n",
    "press_box = np.genfromtxt('../2-Bulk/avg_IceIII_box.dat')\n"
   ]
  },
  {
   "cell_type": "code",
   "execution_count": 1,
   "id": "9fb55539",
   "metadata": {},
   "outputs": [
    {
     "ename": "NameError",
     "evalue": "name 'press_box' is not defined",
     "output_type": "error",
     "traceback": [
      "\u001b[0;31m---------------------------------------------------------------------------\u001b[0m",
      "\u001b[0;31mNameError\u001b[0m                                 Traceback (most recent call last)",
      "\u001b[0;32m/var/folders/gk/bdqkskqj2fv8dk9kgrxm5psh0000gn/T/ipykernel_19053/4113014645.py\u001b[0m in \u001b[0;36m<module>\u001b[0;34m\u001b[0m\n\u001b[1;32m      1\u001b[0m \u001b[0msims\u001b[0m \u001b[0;34m=\u001b[0m \u001b[0mdict\u001b[0m\u001b[0;34m(\u001b[0m\u001b[0;34m)\u001b[0m\u001b[0;34m\u001b[0m\u001b[0;34m\u001b[0m\u001b[0m\n\u001b[0;32m----> 2\u001b[0;31m \u001b[0;32mfor\u001b[0m \u001b[0ma\u001b[0m \u001b[0;32min\u001b[0m \u001b[0mpress_box\u001b[0m\u001b[0;34m[\u001b[0m\u001b[0;34m:\u001b[0m\u001b[0;34m]\u001b[0m\u001b[0;34m:\u001b[0m\u001b[0;34m\u001b[0m\u001b[0;34m\u001b[0m\u001b[0m\n\u001b[0m\u001b[1;32m      3\u001b[0m     \u001b[0mfold\u001b[0m\u001b[0;34m=\u001b[0m\u001b[0;34m'COEX_{}bar/template/'\u001b[0m\u001b[0;34m.\u001b[0m\u001b[0mformat\u001b[0m\u001b[0;34m(\u001b[0m\u001b[0ma\u001b[0m\u001b[0;34m[\u001b[0m\u001b[0;36m0\u001b[0m\u001b[0;34m]\u001b[0m\u001b[0;34m)\u001b[0m\u001b[0;34m\u001b[0m\u001b[0;34m\u001b[0m\u001b[0m\n\u001b[1;32m      4\u001b[0m     \u001b[0msims\u001b[0m\u001b[0;34m[\u001b[0m\u001b[0mfold\u001b[0m\u001b[0;34m]\u001b[0m \u001b[0;34m=\u001b[0m \u001b[0mdict\u001b[0m\u001b[0;34m(\u001b[0m\u001b[0;34m)\u001b[0m\u001b[0;34m\u001b[0m\u001b[0;34m\u001b[0m\u001b[0m\n\u001b[1;32m      5\u001b[0m     \u001b[0msims\u001b[0m\u001b[0;34m[\u001b[0m\u001b[0mfold\u001b[0m\u001b[0;34m]\u001b[0m\u001b[0;34m[\u001b[0m\u001b[0;34m'p'\u001b[0m\u001b[0;34m]\u001b[0m\u001b[0;34m=\u001b[0m\u001b[0ma\u001b[0m\u001b[0;34m[\u001b[0m\u001b[0;36m0\u001b[0m\u001b[0;34m]\u001b[0m\u001b[0;34m\u001b[0m\u001b[0;34m\u001b[0m\u001b[0m\n",
      "\u001b[0;31mNameError\u001b[0m: name 'press_box' is not defined"
     ]
    }
   ],
   "source": [
    "sims = dict()\n",
    "for a in press_box[:]:\n",
    "    fold='COEX_{}bar/template/'.format(a[0])\n",
    "    sims[fold] = dict()\n",
    "    sims[fold]['p']=a[0]\n",
    "    os.system('mkdir -p {}'.format(fold))\n",
    "    os.system('cp -r 230K-3000bar/* {}'.format(fold))\n",
    "    os.system('cp -r ../4-PrepareCoexistenceConfiguration/COEX_BOXES/water_{}bar.data {}/water.data'.format(a[0],fold))\n",
    "    os.system('sed -i \"\"   \"s#variable .* pressure .*#variable        pressure equal {}#g\" {}/in.pressure'.format(a[0],fold))\n"
   ]
  },
  {
   "cell_type": "markdown",
   "id": "97e8ce86",
   "metadata": {},
   "source": [
    "### Setup different temperatures"
   ]
  },
  {
   "cell_type": "code",
   "execution_count": null,
   "id": "86fd88fc",
   "metadata": {},
   "outputs": [],
   "source": [
    "tip4p_vega_data=np.genfromtxt('IceVI_Liquid_pd.dat')\n",
    "tip4p_vega_data[:,1]=tip4p_vega_data[:,1]*10\n",
    "melt_fn = np.poly1d(np.polyfit(tip4p_vega_data[:,1], tip4p_vega_data[:,0], 1))\n",
    "\n",
    "Ps=np.linspace(8000,12000,200)\n",
    "plt.plot(tip4p_vega_data[:,1],tip4p_vega_data[:,0])\n",
    "plt.plot(Ps,melt_fn(Ps))\n",
    "\n",
    "for fold in sims.keys():\n",
    "    p=sims[fold]['p']\n",
    "    T_m=melt_fn(p)\n",
    "    T_range=np.round((T_m+np.arange(-7.5,17.5,5))/5, decimals=0)*5\n",
    "    plt.scatter(p+T_range*0,T_range)#,marker='^')\n",
    "    sims[fold]['temps']=T_range\n",
    "\n",
    "\n"
   ]
  },
  {
   "cell_type": "code",
   "execution_count": 4,
   "id": "8cb45f4f",
   "metadata": {
    "scrolled": true
   },
   "outputs": [
    {
     "ename": "KeyError",
     "evalue": "'temps'",
     "output_type": "error",
     "traceback": [
      "\u001b[0;31m---------------------------------------------------------------------------\u001b[0m",
      "\u001b[0;31mKeyError\u001b[0m                                  Traceback (most recent call last)",
      "\u001b[0;32m/var/folders/gk/bdqkskqj2fv8dk9kgrxm5psh0000gn/T/ipykernel_16833/2848988268.py\u001b[0m in \u001b[0;36m<module>\u001b[0;34m\u001b[0m\n\u001b[1;32m      1\u001b[0m \u001b[0;32mfor\u001b[0m \u001b[0mfold\u001b[0m \u001b[0;32min\u001b[0m \u001b[0msims\u001b[0m\u001b[0;34m.\u001b[0m\u001b[0mkeys\u001b[0m\u001b[0;34m(\u001b[0m\u001b[0;34m)\u001b[0m\u001b[0;34m:\u001b[0m\u001b[0;34m\u001b[0m\u001b[0;34m\u001b[0m\u001b[0m\n\u001b[1;32m      2\u001b[0m     \u001b[0msim\u001b[0m\u001b[0;34m=\u001b[0m\u001b[0msims\u001b[0m\u001b[0;34m[\u001b[0m\u001b[0mfold\u001b[0m\u001b[0;34m]\u001b[0m\u001b[0;34m\u001b[0m\u001b[0;34m\u001b[0m\u001b[0m\n\u001b[0;32m----> 3\u001b[0;31m     \u001b[0;32mfor\u001b[0m \u001b[0mt\u001b[0m \u001b[0;32min\u001b[0m \u001b[0msim\u001b[0m\u001b[0;34m[\u001b[0m\u001b[0;34m'temps'\u001b[0m\u001b[0;34m]\u001b[0m\u001b[0;34m:\u001b[0m\u001b[0;34m\u001b[0m\u001b[0;34m\u001b[0m\u001b[0m\n\u001b[0m\u001b[1;32m      4\u001b[0m         \u001b[0mtemp_fold\u001b[0m \u001b[0;34m=\u001b[0m \u001b[0;34m'{}{}K'\u001b[0m\u001b[0;34m.\u001b[0m\u001b[0mformat\u001b[0m\u001b[0;34m(\u001b[0m\u001b[0mfold\u001b[0m\u001b[0;34m.\u001b[0m\u001b[0mreplace\u001b[0m\u001b[0;34m(\u001b[0m\u001b[0;34m'template'\u001b[0m\u001b[0;34m,\u001b[0m\u001b[0;34m''\u001b[0m\u001b[0;34m)\u001b[0m\u001b[0;34m,\u001b[0m\u001b[0mt\u001b[0m\u001b[0;34m)\u001b[0m\u001b[0;34m\u001b[0m\u001b[0;34m\u001b[0m\u001b[0m\n\u001b[1;32m      5\u001b[0m         \u001b[0mcmd\u001b[0m\u001b[0;34m=\u001b[0m\u001b[0;34m'mkdir -p {}\\n'\u001b[0m\u001b[0;34m.\u001b[0m\u001b[0mformat\u001b[0m\u001b[0;34m(\u001b[0m\u001b[0mtemp_fold\u001b[0m\u001b[0;34m)\u001b[0m\u001b[0;34m\u001b[0m\u001b[0;34m\u001b[0m\u001b[0m\n",
      "\u001b[0;31mKeyError\u001b[0m: 'temps'"
     ]
    }
   ],
   "source": [
    "for fold in sims.keys():\n",
    "    sim=sims[fold]\n",
    "    for t in sim['temps']:\n",
    "        temp_fold = '{}{}K'.format(fold.replace('template',''),t)\n",
    "        cmd='mkdir -p {}\\n'.format(temp_fold)\n",
    "        cmd+='cp {}/* {}/\\n'.format(fold,temp_fold)\n",
    "        cmd+='sed -i \"\"  \\\"s#variable.*temperature.*#variable        temperature equal {}#g\\\" {}/in.temp\\n'.format(t,temp_fold)\n",
    "        cmd+='sed -i \"\" \\\"s#TEMP=300#TEMP={}#g\\\" {}/plumed*.dat'.format(t,temp_fold)\n",
    "        \n",
    "        #cmd+='sed -i \\\"s#variable.*temperature.*#variable        temperature equal {}#g\\\" {}/in.temp'.format(t,temp_fold)\n",
    "        print(cmd)\n",
    "        os.system(cmd)"
   ]
  },
  {
   "cell_type": "markdown",
   "id": "9b4b8215",
   "metadata": {},
   "source": [
    "### Convert notebook to python script"
   ]
  },
  {
   "cell_type": "code",
   "execution_count": 5,
   "id": "56fda0cc",
   "metadata": {},
   "outputs": [
    {
     "name": "stdout",
     "output_type": "stream",
     "text": [
      "[NbConvertApp] Converting notebook Prepare_coexsistence.ipynb to script\n",
      "[NbConvertApp] Writing 2111 bytes to Prepare_coexsistence.py\n"
     ]
    }
   ],
   "source": [
    "!jupyter nbconvert --to script Prepare_coexsistence.ipynb\n"
   ]
  },
  {
   "cell_type": "code",
   "execution_count": null,
   "id": "816c72c5",
   "metadata": {},
   "outputs": [],
   "source": []
  }
 ],
 "metadata": {
  "kernelspec": {
   "display_name": "Python 3 (ipykernel)",
   "language": "python",
   "name": "python3"
  },
  "language_info": {
   "codemirror_mode": {
    "name": "ipython",
    "version": 3
   },
   "file_extension": ".py",
   "mimetype": "text/x-python",
   "name": "python",
   "nbconvert_exporter": "python",
   "pygments_lexer": "ipython3",
   "version": "3.9.6"
  }
 },
 "nbformat": 4,
 "nbformat_minor": 5
}

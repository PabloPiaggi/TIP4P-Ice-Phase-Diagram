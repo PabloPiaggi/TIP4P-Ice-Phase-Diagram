{
 "cells": [
  {
   "cell_type": "markdown",
   "id": "27908ac8",
   "metadata": {},
   "source": [
    "# Gibbs-Duhem integration"
   ]
  },
  {
   "cell_type": "code",
   "execution_count": 3,
   "id": "2a78a927",
   "metadata": {},
   "outputs": [],
   "source": [
    "import numpy as np\n",
    "import glob, os\n",
    "import matplotlib.pylab as plt"
   ]
  },
  {
   "cell_type": "code",
   "execution_count": null,
   "id": "91e3ffdf",
   "metadata": {},
   "outputs": [],
   "source": []
  },
  {
   "cell_type": "code",
   "execution_count": 4,
   "id": "3b76d8a3",
   "metadata": {},
   "outputs": [
    {
     "name": "stdout",
     "output_type": "stream",
     "text": [
      "GIBBS_FAST_252.4_2000/10_259.84_4500.0/\n",
      "GIBBS_FAST_252.4_2000/15_260.39_6000.0/\n",
      "GIBBS_FAST_252.4_2000/4_256.89_3000.0/\n",
      "GIBBS_FAST_252.4_2000/18_259.74_6500.0/\n",
      "GIBBS_FAST_252.4_2000/3_256.82_3000.0/\n",
      "GIBBS_FAST_252.4_2000/1_255.45_2500.0/\n",
      "GIBBS_FAST_252.4_2000/13_260.40_5500.0/\n",
      "GIBBS_FAST_252.4_2000/23_257.60_8000.0/\n",
      "GIBBS_FAST_252.4_2000/12_260.12_5000.0/\n",
      "GIBBS_FAST_252.4_2000/11_259.78_5000.0/\n",
      "GIBBS_FAST_252.4_2000/8_259.10_4000.0/\n",
      "GIBBS_FAST_252.4_2000/25_256.76_8500.0/\n",
      "GIBBS_FAST_252.4_2000/21_258.81_7500.0/\n",
      "GIBBS_FAST_252.4_2000/26_256.73_8500.0/\n",
      "GIBBS_FAST_252.4_2000/6_258.04_3500.0/\n",
      "GIBBS_FAST_252.4_2000/9_259.74_4500.0/\n",
      "GIBBS_FAST_252.4_2000/5_258.43_3500.0/\n",
      "GIBBS_FAST_252.4_2000/27_255.70_9000.0/\n",
      "GIBBS_FAST_252.4_2000/16_260.15_6000.0/\n",
      "GIBBS_FAST_252.4_2000/17_259.82_6500.0/\n",
      "GIBBS_FAST_252.4_2000/0_252.40_2000.0/\n",
      "GIBBS_FAST_252.4_2000/19_259.54_7000.0/\n",
      "GIBBS_FAST_252.4_2000/14_260.03_5500.0/\n",
      "GIBBS_FAST_252.4_2000/22_258.60_7500.0/\n",
      "GIBBS_FAST_252.4_2000/7_259.01_4000.0/\n",
      "GIBBS_FAST_252.4_2000/2_254.60_2500.0/\n",
      "GIBBS_FAST_252.4_2000/20_259.37_7000.0/\n",
      "GIBBS_FAST_252.4_2000/24_257.77_8000.0/\n"
     ]
    }
   ],
   "source": [
    "PT=[]\n",
    "for fold in glob.glob('GIBBS_FAST_252.4_2000/*_*/'):\n",
    "    print(fold)\n",
    "\n",
    "    fold=fold.split('/')[-2]\n",
    "   # print(fold)\n",
    "    PT.append([float(fold.split('_')[1]),float(fold.split('_')[2].strip('/'))])\n",
    "PT=np.array(PT)\n",
    "PT=PT[np.argsort(PT[:,1])]"
   ]
  },
  {
   "cell_type": "code",
   "execution_count": 10,
   "id": "6e1cc852",
   "metadata": {},
   "outputs": [
    {
     "data": {
      "text/plain": [
       "<matplotlib.collections.PathCollection at 0x1267d1d30>"
      ]
     },
     "execution_count": 10,
     "metadata": {},
     "output_type": "execute_result"
    },
    {
     "data": {
      "image/png": "[encoded data removed]",
      "text/plain": [
       "<Figure size 432x288 with 1 Axes>"
      ]
     },
     "metadata": {
      "needs_background": "light"
     },
     "output_type": "display_data"
    }
   ],
   "source": [
    "plt.plot(PT[::4,0],PT[::4,1])\n",
    "plt.scatter(PT[:,0],PT[:,1])"
   ]
  },
  {
   "cell_type": "code",
   "execution_count": 11,
   "id": "99616b7e",
   "metadata": {},
   "outputs": [],
   "source": [
    "np.savetxt('T_P.dat',PT)"
   ]
  },
  {
   "cell_type": "code",
   "execution_count": null,
   "id": "1cc0f4e4",
   "metadata": {},
   "outputs": [],
   "source": []
  }
 ],
 "metadata": {
  "kernelspec": {
   "display_name": "Python 3 (ipykernel)",
   "language": "python",
   "name": "python3"
  },
  "language_info": {
   "codemirror_mode": {
    "name": "ipython",
    "version": 3
   },
   "file_extension": ".py",
   "mimetype": "text/x-python",
   "name": "python",
   "nbconvert_exporter": "python",
   "pygments_lexer": "ipython3",
   "version": "3.9.6"
  }
 },
 "nbformat": 4,
 "nbformat_minor": 5
}

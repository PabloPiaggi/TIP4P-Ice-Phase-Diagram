{
 "cells": [
  {
   "cell_type": "code",
   "execution_count": 4,
   "id": "613c02a9",
   "metadata": {},
   "outputs": [],
   "source": [
    "# Prepare Gibbs-Duhem simulations"
   ]
  },
  {
   "cell_type": "code",
   "execution_count": 5,
   "id": "9cc4be40",
   "metadata": {},
   "outputs": [],
   "source": [
    "import glob, os\n",
    "import numpy as np"
   ]
  },
  {
   "cell_type": "code",
   "execution_count": 6,
   "id": "a03154f7",
   "metadata": {},
   "outputs": [],
   "source": [
    "melting_points = np.genfromtxt('P_T.dat')"
   ]
  },
  {
   "cell_type": "code",
   "execution_count": 10,
   "id": "80622221",
   "metadata": {},
   "outputs": [],
   "source": [
    "for mp in melting_points:\n",
    "    os.system('mkdir {:.2f}_{:.2f}'.format(mp[1],mp[0]))\n",
    "    "
   ]
  },
  {
   "cell_type": "code",
   "execution_count": 9,
   "id": "3d02bed4",
   "metadata": {},
   "outputs": [
    {
     "name": "stdout",
     "output_type": "stream",
     "text": [
      "P_T.dat\n",
      "\n",
      "2000.00_252.40:\n",
      "\n",
      "2500.00_256.40:\n",
      "\n",
      "3000.00_259.90:\n",
      "\n",
      "4000.00_262.70:\n",
      "\n",
      "5000.00_263.20:\n",
      "\n",
      "6000.00_262.50:\n",
      "\n",
      "7000.00_261.90:\n"
     ]
    }
   ],
   "source": [
    "!ls *_*"
   ]
  },
  {
   "cell_type": "code",
   "execution_count": null,
   "id": "1c52cdc7",
   "metadata": {},
   "outputs": [],
   "source": []
  }
 ],
 "metadata": {
  "kernelspec": {
   "display_name": "Python 3 (ipykernel)",
   "language": "python",
   "name": "python3"
  },
  "language_info": {
   "codemirror_mode": {
    "name": "ipython",
    "version": 3
   },
   "file_extension": ".py",
   "mimetype": "text/x-python",
   "name": "python",
   "nbconvert_exporter": "python",
   "pygments_lexer": "ipython3",
   "version": "3.9.6"
  }
 },
 "nbformat": 4,
 "nbformat_minor": 5
}

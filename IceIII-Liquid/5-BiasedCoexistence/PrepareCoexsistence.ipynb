{
 "cells": [
  {
   "cell_type": "markdown",
   "id": "b9f240a2",
   "metadata": {},
   "source": [
    "# Preparation of biased coexsistence simulations"
   ]
  },
  {
   "cell_type": "code",
   "execution_count": 2,
   "id": "fb21dd18",
   "metadata": {},
   "outputs": [],
   "source": [
    "import numpy as np, sys, os, glob\n",
    "import matplotlib.pylab as plt\n",
    "import MDAnalysis"
   ]
  },
  {
   "cell_type": "code",
   "execution_count": 29,
   "id": "99754d4d",
   "metadata": {},
   "outputs": [
    {
     "name": "stdout",
     "output_type": "stream",
     "text": [
      "2000.0atm_260.0K\n",
      "mkdir -p COEX_2000.0atm/260.0K/\n",
      "cp /Users/sigbjobo/research/clusters/expanse/research_storage/ice_liquid_interface/TIP4P_ICE/IceIII_Liquidv2/5-BiasedCoexistence/230K-3000atm/* COEX_2000.0atm/260.0K//\n",
      "cp ../4-PrepareCoexistenceConfiguration/COEX_BOXES/2000.0atm_260.0K.data COEX_2000.0atm/260.0K//\n",
      "sed -i  \"s#variable.*temperature.*#variable        temperature equal 260.0#g\" COEX_2000.0atm/260.0K//in.temp\n",
      "sed -i  \"s#TEMP=REPLACE_TEMP#TEMP=260.0#g\" COEX_2000.0atm/260.0K//plumed*.dat\n",
      "sed -i    \"s#variable .* pressure .*#variable        pressure equal 2000.0#g\" COEX_2000.0atm/260.0K//in.pressure\n"
     ]
    },
    {
     "name": "stderr",
     "output_type": "stream",
     "text": [
      "sed: 1: \"COEX_2000.0atm/260.0K// ...\": invalid command code C\n",
      "sed: 1: \"COEX_2000.0atm/260.0K// ...\": invalid command code C\n",
      "sed: 1: \"COEX_2000.0atm/260.0K// ...\": invalid command code C\n"
     ]
    },
    {
     "name": "stdout",
     "output_type": "stream",
     "text": [
      "6000.0atm_270.0K\n",
      "mkdir -p COEX_6000.0atm/270.0K/\n",
      "cp /Users/sigbjobo/research/clusters/expanse/research_storage/ice_liquid_interface/TIP4P_ICE/IceIII_Liquidv2/5-BiasedCoexistence/230K-3000atm/* COEX_6000.0atm/270.0K//\n",
      "cp ../4-PrepareCoexistenceConfiguration/COEX_BOXES/6000.0atm_270.0K.data COEX_6000.0atm/270.0K//\n",
      "sed -i  \"s#variable.*temperature.*#variable        temperature equal 270.0#g\" COEX_6000.0atm/270.0K//in.temp\n",
      "sed -i  \"s#TEMP=REPLACE_TEMP#TEMP=270.0#g\" COEX_6000.0atm/270.0K//plumed*.dat\n",
      "sed -i    \"s#variable .* pressure .*#variable        pressure equal 6000.0#g\" COEX_6000.0atm/270.0K//in.pressure\n",
      "8000.0atm_270.0K\n",
      "mkdir -p COEX_8000.0atm/270.0K/\n",
      "cp /Users/sigbjobo/research/clusters/expanse/research_storage/ice_liquid_interface/TIP4P_ICE/IceIII_Liquidv2/5-BiasedCoexistence/230K-3000atm/* COEX_8000.0atm/270.0K//\n",
      "cp ../4-PrepareCoexistenceConfiguration/COEX_BOXES/8000.0atm_270.0K.data COEX_8000.0atm/270.0K//\n",
      "sed -i  \"s#variable.*temperature.*#variable        temperature equal 270.0#g\" COEX_8000.0atm/270.0K//in.temp\n",
      "sed -i  \"s#TEMP=REPLACE_TEMP#TEMP=270.0#g\" COEX_8000.0atm/270.0K//plumed*.dat\n",
      "sed -i    \"s#variable .* pressure .*#variable        pressure equal 8000.0#g\" COEX_8000.0atm/270.0K//in.pressure\n",
      "8000.0atm_265.0K\n",
      "mkdir -p COEX_8000.0atm/265.0K/\n",
      "cp /Users/sigbjobo/research/clusters/expanse/research_storage/ice_liquid_interface/TIP4P_ICE/IceIII_Liquidv2/5-BiasedCoexistence/230K-3000atm/* COEX_8000.0atm/265.0K//\n",
      "cp ../4-PrepareCoexistenceConfiguration/COEX_BOXES/8000.0atm_265.0K.data COEX_8000.0atm/265.0K//\n",
      "sed -i  \"s#variable.*temperature.*#variable        temperature equal 265.0#g\" COEX_8000.0atm/265.0K//in.temp\n",
      "sed -i  \"s#TEMP=REPLACE_TEMP#TEMP=265.0#g\" COEX_8000.0atm/265.0K//plumed*.dat\n",
      "sed -i    \"s#variable .* pressure .*#variable        pressure equal 8000.0#g\" COEX_8000.0atm/265.0K//in.pressure\n",
      "4000.0atm_255.0K\n",
      "mkdir -p COEX_4000.0atm/255.0K/\n",
      "cp /Users/sigbjobo/research/clusters/expanse/research_storage/ice_liquid_interface/TIP4P_ICE/IceIII_Liquidv2/5-BiasedCoexistence/230K-3000atm/* COEX_4000.0atm/255.0K//\n",
      "cp ../4-PrepareCoexistenceConfiguration/COEX_BOXES/4000.0atm_255.0K.data COEX_4000.0atm/255.0K//\n",
      "sed -i  \"s#variable.*temperature.*#variable        temperature equal 255.0#g\" COEX_4000.0atm/255.0K//in.temp\n",
      "sed -i  \"s#TEMP=REPLACE_TEMP#TEMP=255.0#g\" COEX_4000.0atm/255.0K//plumed*.dat\n",
      "sed -i    \"s#variable .* pressure .*#variable        pressure equal 4000.0#g\" COEX_4000.0atm/255.0K//in.pressure\n",
      "6000.0atm_265.0K\n",
      "mkdir -p COEX_6000.0atm/265.0K/\n",
      "cp /Users/sigbjobo/research/clusters/expanse/research_storage/ice_liquid_interface/TIP4P_ICE/IceIII_Liquidv2/5-BiasedCoexistence/230K-3000atm/* COEX_6000.0atm/265.0K//\n",
      "cp ../4-PrepareCoexistenceConfiguration/COEX_BOXES/6000.0atm_265.0K.data COEX_6000.0atm/265.0K//\n",
      "sed -i  \"s#variable.*temperature.*#variable        temperature equal 265.0#g\" COEX_6000.0atm/265.0K//in.temp\n",
      "sed -i  \"s#TEMP=REPLACE_TEMP#TEMP=265.0#g\" COEX_6000.0atm/265.0K//plumed*.dat\n",
      "sed -i    \"s#variable .* pressure .*#variable        pressure equal 6000.0#g\" COEX_6000.0atm/265.0K//in.pressure\n",
      "4000.0atm_250.0K\n",
      "mkdir -p COEX_4000.0atm/250.0K/\n",
      "cp /Users/sigbjobo/research/clusters/expanse/research_storage/ice_liquid_interface/TIP4P_ICE/IceIII_Liquidv2/5-BiasedCoexistence/230K-3000atm/* COEX_4000.0atm/250.0K//\n",
      "cp ../4-PrepareCoexistenceConfiguration/COEX_BOXES/4000.0atm_250.0K.data COEX_4000.0atm/250.0K//\n",
      "sed -i  \"s#variable.*temperature.*#variable        temperature equal 250.0#g\" COEX_4000.0atm/250.0K//in.temp\n",
      "sed -i  \"s#TEMP=REPLACE_TEMP#TEMP=250.0#g\" COEX_4000.0atm/250.0K//plumed*.dat\n",
      "sed -i    \"s#variable .* pressure .*#variable        pressure equal 4000.0#g\" COEX_4000.0atm/250.0K//in.pressure\n",
      "8000.0atm_260.0K\n",
      "mkdir -p COEX_8000.0atm/260.0K/\n",
      "cp /Users/sigbjobo/research/clusters/expanse/research_storage/ice_liquid_interface/TIP4P_ICE/IceIII_Liquidv2/5-BiasedCoexistence/230K-3000atm/* COEX_8000.0atm/260.0K//\n",
      "cp ../4-PrepareCoexistenceConfiguration/COEX_BOXES/8000.0atm_260.0K.data COEX_8000.0atm/260.0K//\n",
      "sed -i  \"s#variable.*temperature.*#variable        temperature equal 260.0#g\" COEX_8000.0atm/260.0K//in.temp\n",
      "sed -i  \"s#TEMP=REPLACE_TEMP#TEMP=260.0#g\" COEX_8000.0atm/260.0K//plumed*.dat\n",
      "sed -i    \"s#variable .* pressure .*#variable        pressure equal 8000.0#g\" COEX_8000.0atm/260.0K//in.pressure\n",
      "6000.0atm_260.0K\n",
      "mkdir -p COEX_6000.0atm/260.0K/\n",
      "cp /Users/sigbjobo/research/clusters/expanse/research_storage/ice_liquid_interface/TIP4P_ICE/IceIII_Liquidv2/5-BiasedCoexistence/230K-3000atm/* COEX_6000.0atm/260.0K//\n",
      "cp ../4-PrepareCoexistenceConfiguration/COEX_BOXES/6000.0atm_260.0K.data COEX_6000.0atm/260.0K//\n",
      "sed -i  \"s#variable.*temperature.*#variable        temperature equal 260.0#g\" COEX_6000.0atm/260.0K//in.temp\n",
      "sed -i  \"s#TEMP=REPLACE_TEMP#TEMP=260.0#g\" COEX_6000.0atm/260.0K//plumed*.dat\n",
      "sed -i    \"s#variable .* pressure .*#variable        pressure equal 6000.0#g\" COEX_6000.0atm/260.0K//in.pressure\n",
      "2000.0atm_270.0K\n",
      "mkdir -p COEX_2000.0atm/270.0K/\n",
      "cp /Users/sigbjobo/research/clusters/expanse/research_storage/ice_liquid_interface/TIP4P_ICE/IceIII_Liquidv2/5-BiasedCoexistence/230K-3000atm/* COEX_2000.0atm/270.0K//\n",
      "cp ../4-PrepareCoexistenceConfiguration/COEX_BOXES/2000.0atm_270.0K.data COEX_2000.0atm/270.0K//\n",
      "sed -i  \"s#variable.*temperature.*#variable        temperature equal 270.0#g\" COEX_2000.0atm/270.0K//in.temp\n",
      "sed -i  \"s#TEMP=REPLACE_TEMP#TEMP=270.0#g\" COEX_2000.0atm/270.0K//plumed*.dat\n",
      "sed -i    \"s#variable .* pressure .*#variable        pressure equal 2000.0#g\" COEX_2000.0atm/270.0K//in.pressure\n",
      "2000.0atm_265.0K\n",
      "mkdir -p COEX_2000.0atm/265.0K/\n",
      "cp /Users/sigbjobo/research/clusters/expanse/research_storage/ice_liquid_interface/TIP4P_ICE/IceIII_Liquidv2/5-BiasedCoexistence/230K-3000atm/* COEX_2000.0atm/265.0K//\n",
      "cp ../4-PrepareCoexistenceConfiguration/COEX_BOXES/2000.0atm_265.0K.data COEX_2000.0atm/265.0K//\n",
      "sed -i  \"s#variable.*temperature.*#variable        temperature equal 265.0#g\" COEX_2000.0atm/265.0K//in.temp\n",
      "sed -i  \"s#TEMP=REPLACE_TEMP#TEMP=265.0#g\" COEX_2000.0atm/265.0K//plumed*.dat\n",
      "sed -i    \"s#variable .* pressure .*#variable        pressure equal 2000.0#g\" COEX_2000.0atm/265.0K//in.pressure\n",
      "6000.0atm_275.0K\n",
      "mkdir -p COEX_6000.0atm/275.0K/\n",
      "cp /Users/sigbjobo/research/clusters/expanse/research_storage/ice_liquid_interface/TIP4P_ICE/IceIII_Liquidv2/5-BiasedCoexistence/230K-3000atm/* COEX_6000.0atm/275.0K//\n",
      "cp ../4-PrepareCoexistenceConfiguration/COEX_BOXES/6000.0atm_275.0K.data COEX_6000.0atm/275.0K//\n",
      "sed -i  \"s#variable.*temperature.*#variable        temperature equal 275.0#g\" COEX_6000.0atm/275.0K//in.temp\n",
      "sed -i  \"s#TEMP=REPLACE_TEMP#TEMP=275.0#g\" COEX_6000.0atm/275.0K//plumed*.dat\n",
      "sed -i    \"s#variable .* pressure .*#variable        pressure equal 6000.0#g\" COEX_6000.0atm/275.0K//in.pressure\n",
      "8000.0atm_275.0K\n",
      "mkdir -p COEX_8000.0atm/275.0K/\n",
      "cp /Users/sigbjobo/research/clusters/expanse/research_storage/ice_liquid_interface/TIP4P_ICE/IceIII_Liquidv2/5-BiasedCoexistence/230K-3000atm/* COEX_8000.0atm/275.0K//\n",
      "cp ../4-PrepareCoexistenceConfiguration/COEX_BOXES/8000.0atm_275.0K.data COEX_8000.0atm/275.0K//\n",
      "sed -i  \"s#variable.*temperature.*#variable        temperature equal 275.0#g\" COEX_8000.0atm/275.0K//in.temp\n",
      "sed -i  \"s#TEMP=REPLACE_TEMP#TEMP=275.0#g\" COEX_8000.0atm/275.0K//plumed*.dat\n",
      "sed -i    \"s#variable .* pressure .*#variable        pressure equal 8000.0#g\" COEX_8000.0atm/275.0K//in.pressure\n",
      "2000.0atm_255.0K\n",
      "mkdir -p COEX_2000.0atm/255.0K/\n",
      "cp /Users/sigbjobo/research/clusters/expanse/research_storage/ice_liquid_interface/TIP4P_ICE/IceIII_Liquidv2/5-BiasedCoexistence/230K-3000atm/* COEX_2000.0atm/255.0K//\n",
      "cp ../4-PrepareCoexistenceConfiguration/COEX_BOXES/2000.0atm_255.0K.data COEX_2000.0atm/255.0K//\n",
      "sed -i  \"s#variable.*temperature.*#variable        temperature equal 255.0#g\" COEX_2000.0atm/255.0K//in.temp\n",
      "sed -i  \"s#TEMP=REPLACE_TEMP#TEMP=255.0#g\" COEX_2000.0atm/255.0K//plumed*.dat\n",
      "sed -i    \"s#variable .* pressure .*#variable        pressure equal 2000.0#g\" COEX_2000.0atm/255.0K//in.pressure\n",
      "4000.0atm_260.0K\n",
      "mkdir -p COEX_4000.0atm/260.0K/\n",
      "cp /Users/sigbjobo/research/clusters/expanse/research_storage/ice_liquid_interface/TIP4P_ICE/IceIII_Liquidv2/5-BiasedCoexistence/230K-3000atm/* COEX_4000.0atm/260.0K//\n",
      "cp ../4-PrepareCoexistenceConfiguration/COEX_BOXES/4000.0atm_260.0K.data COEX_4000.0atm/260.0K//\n",
      "sed -i  \"s#variable.*temperature.*#variable        temperature equal 260.0#g\" COEX_4000.0atm/260.0K//in.temp\n",
      "sed -i  \"s#TEMP=REPLACE_TEMP#TEMP=260.0#g\" COEX_4000.0atm/260.0K//plumed*.dat\n",
      "sed -i    \"s#variable .* pressure .*#variable        pressure equal 4000.0#g\" COEX_4000.0atm/260.0K//in.pressure\n"
     ]
    },
    {
     "name": "stdout",
     "output_type": "stream",
     "text": [
      "6000.0atm_255.0K\n",
      "mkdir -p COEX_6000.0atm/255.0K/\n",
      "cp /Users/sigbjobo/research/clusters/expanse/research_storage/ice_liquid_interface/TIP4P_ICE/IceIII_Liquidv2/5-BiasedCoexistence/230K-3000atm/* COEX_6000.0atm/255.0K//\n",
      "cp ../4-PrepareCoexistenceConfiguration/COEX_BOXES/6000.0atm_255.0K.data COEX_6000.0atm/255.0K//\n",
      "sed -i  \"s#variable.*temperature.*#variable        temperature equal 255.0#g\" COEX_6000.0atm/255.0K//in.temp\n",
      "sed -i  \"s#TEMP=REPLACE_TEMP#TEMP=255.0#g\" COEX_6000.0atm/255.0K//plumed*.dat\n",
      "sed -i    \"s#variable .* pressure .*#variable        pressure equal 6000.0#g\" COEX_6000.0atm/255.0K//in.pressure\n",
      "8000.0atm_255.0K\n",
      "mkdir -p COEX_8000.0atm/255.0K/\n",
      "cp /Users/sigbjobo/research/clusters/expanse/research_storage/ice_liquid_interface/TIP4P_ICE/IceIII_Liquidv2/5-BiasedCoexistence/230K-3000atm/* COEX_8000.0atm/255.0K//\n",
      "cp ../4-PrepareCoexistenceConfiguration/COEX_BOXES/8000.0atm_255.0K.data COEX_8000.0atm/255.0K//\n",
      "sed -i  \"s#variable.*temperature.*#variable        temperature equal 255.0#g\" COEX_8000.0atm/255.0K//in.temp\n",
      "sed -i  \"s#TEMP=REPLACE_TEMP#TEMP=255.0#g\" COEX_8000.0atm/255.0K//plumed*.dat\n",
      "sed -i    \"s#variable .* pressure .*#variable        pressure equal 8000.0#g\" COEX_8000.0atm/255.0K//in.pressure\n",
      "4000.0atm_265.0K\n",
      "mkdir -p COEX_4000.0atm/265.0K/\n",
      "cp /Users/sigbjobo/research/clusters/expanse/research_storage/ice_liquid_interface/TIP4P_ICE/IceIII_Liquidv2/5-BiasedCoexistence/230K-3000atm/* COEX_4000.0atm/265.0K//\n",
      "cp ../4-PrepareCoexistenceConfiguration/COEX_BOXES/4000.0atm_265.0K.data COEX_4000.0atm/265.0K//\n",
      "sed -i  \"s#variable.*temperature.*#variable        temperature equal 265.0#g\" COEX_4000.0atm/265.0K//in.temp\n",
      "sed -i  \"s#TEMP=REPLACE_TEMP#TEMP=265.0#g\" COEX_4000.0atm/265.0K//plumed*.dat\n",
      "sed -i    \"s#variable .* pressure .*#variable        pressure equal 4000.0#g\" COEX_4000.0atm/265.0K//in.pressure\n",
      "4000.0atm_270.0K\n",
      "mkdir -p COEX_4000.0atm/270.0K/\n",
      "cp /Users/sigbjobo/research/clusters/expanse/research_storage/ice_liquid_interface/TIP4P_ICE/IceIII_Liquidv2/5-BiasedCoexistence/230K-3000atm/* COEX_4000.0atm/270.0K//\n",
      "cp ../4-PrepareCoexistenceConfiguration/COEX_BOXES/4000.0atm_270.0K.data COEX_4000.0atm/270.0K//\n",
      "sed -i  \"s#variable.*temperature.*#variable        temperature equal 270.0#g\" COEX_4000.0atm/270.0K//in.temp\n",
      "sed -i  \"s#TEMP=REPLACE_TEMP#TEMP=270.0#g\" COEX_4000.0atm/270.0K//plumed*.dat\n",
      "sed -i    \"s#variable .* pressure .*#variable        pressure equal 4000.0#g\" COEX_4000.0atm/270.0K//in.pressure\n",
      "2000.0atm_250.0K\n",
      "mkdir -p COEX_2000.0atm/250.0K/\n",
      "cp /Users/sigbjobo/research/clusters/expanse/research_storage/ice_liquid_interface/TIP4P_ICE/IceIII_Liquidv2/5-BiasedCoexistence/230K-3000atm/* COEX_2000.0atm/250.0K//\n",
      "cp ../4-PrepareCoexistenceConfiguration/COEX_BOXES/2000.0atm_250.0K.data COEX_2000.0atm/250.0K//\n",
      "sed -i  \"s#variable.*temperature.*#variable        temperature equal 250.0#g\" COEX_2000.0atm/250.0K//in.temp\n",
      "sed -i  \"s#TEMP=REPLACE_TEMP#TEMP=250.0#g\" COEX_2000.0atm/250.0K//plumed*.dat\n",
      "sed -i    \"s#variable .* pressure .*#variable        pressure equal 2000.0#g\" COEX_2000.0atm/250.0K//in.pressure\n"
     ]
    }
   ],
   "source": [
    "standard_sim=os.path.abspath('230K-3000atm')\n",
    "sims={}\n",
    "for sim in glob.glob('../4-PrepareCoexistenceConfiguration/COEX_BOXES/*.data'):\n",
    "    sims[sim]={}\n",
    "    fn=sim.split('/')[-1].replace('.data','')\n",
    "    print(fn)\n",
    "    P_n=fn.split('_')[0]\n",
    "    T_n=fn.split('_')[1]\n",
    "    T=T_n.strip('K')\n",
    "    P=P_n.strip('atm')\n",
    "    \n",
    "    fold='COEX_'+P_n+'/'+T_n+'/'\n",
    "    cmd='mkdir -p {}\\n'.format(fold)\n",
    "    cmd+='cp {}/* {}/\\n'.format(standard_sim,fold)\n",
    "    cmd+='cp {} {}/water.data\\n'.format(sim,fold)\n",
    "    cmd+='sed -i  \\\"s#variable.*temperature.*#variable        temperature equal {}#g\\\" {}/in.temp\\n'.format(T,fold)\n",
    "    cmd+='sed -i  \\\"s#TEMP=REPLACE_TEMP#TEMP={}#g\\\" {}/plumed*.dat\\n'.format(T,fold)\n",
    "    cmd+='sed -i    \\\"s#variable .* pressure .*#variable        pressure equal {}#g\\\" {}/in.pressure'.format(P,fold)\n",
    "    print(cmd)\n",
    "    os.system(cmd)\n",
    "    "
   ]
  },
  {
   "cell_type": "markdown",
   "id": "9b4b8215",
   "metadata": {},
   "source": [
    "### Convert notebook to python script"
   ]
  },
  {
   "cell_type": "code",
   "execution_count": 33,
   "id": "56fda0cc",
   "metadata": {
    "scrolled": true
   },
   "outputs": [
    {
     "name": "stdout",
     "output_type": "stream",
     "text": [
      "[NbConvertApp] Converting notebook PrepareCoexsistence.ipynb to script\n",
      "[NbConvertApp] Writing 1186 bytes to PrepareCoexsistence.py\n"
     ]
    }
   ],
   "source": [
    "!jupyter nbconvert --to script PrepareCoexsistence.ipynb"
   ]
  },
  {
   "cell_type": "code",
   "execution_count": null,
   "id": "d270d30f",
   "metadata": {},
   "outputs": [],
   "source": []
  }
 ],
 "metadata": {
  "kernelspec": {
   "display_name": "Python 3 (ipykernel)",
   "language": "python",
   "name": "python3"
  },
  "language_info": {
   "codemirror_mode": {
    "name": "ipython",
    "version": 3
   },
   "file_extension": ".py",
   "mimetype": "text/x-python",
   "name": "python",
   "nbconvert_exporter": "python",
   "pygments_lexer": "ipython3",
   "version": "3.9.6"
  }
 },
 "nbformat": 4,
 "nbformat_minor": 5
}
